{
 "cells": [
  {
   "cell_type": "code",
   "execution_count": null,
   "metadata": {},
   "outputs": [],
   "source": [
    "import pandas as pd\n",
    "\n",
    "data_dir = '/run/media/ahguedes/Extreme SSD/Thesis/Results/Chapter8/MedMNIST/ADeLEn/10/medmnist_anomalies_0.5_pollution_0.05'\n",
    "data = pd.read_csv(data_dir + '/result/metrics.csv', index_col=0)\n",
    "\n",
    "data.mean()*100, data.std()*100"
   ]
  }
 ],
 "metadata": {
  "kernelspec": {
   "display_name": "DeepLearning",
   "language": "python",
   "name": "python3"
  },
  "language_info": {
   "codemirror_mode": {
    "name": "ipython",
    "version": 3
   },
   "file_extension": ".py",
   "mimetype": "text/x-python",
   "name": "python",
   "nbconvert_exporter": "python",
   "pygments_lexer": "ipython3",
   "version": "3.10.14"
  }
 },
 "nbformat": 4,
 "nbformat_minor": 2
}
