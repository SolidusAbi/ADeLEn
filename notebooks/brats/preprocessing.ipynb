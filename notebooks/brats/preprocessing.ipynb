{
 "cells": [
  {
   "cell_type": "code",
   "execution_count": null,
   "metadata": {},
   "outputs": [],
   "source": [
    "import os, sys\n",
    "project_dir = os.path.join(os.getcwd(),'../..')\n",
    "if project_dir not in sys.path:\n",
    "    sys.path.append(project_dir)\n",
    "\n",
    "import pandas as pd\n",
    "import numpy as np\n",
    "import config\n",
    "import h5py"
   ]
  },
  {
   "cell_type": "code",
   "execution_count": null,
   "metadata": {},
   "outputs": [],
   "source": [
    "directory = os.path.join(config.BRATS_DATASET_PATH, 'BraTS2020_training_data/content/data/')\n",
    "\n",
    "# Create a list of all .h5 files in the directory\n",
    "h5_files = [f for f in os.listdir(directory) if f.endswith('.h5')]\n",
    "print(f\"Found {len(h5_files)} .h5 files:\\nExample file names:{h5_files[:3]}\")\n",
    "\n",
    "# Open the first .h5 file in the list to inspect its contents\n",
    "if h5_files:\n",
    "    file_path = os.path.join(directory, h5_files[25070])\n",
    "    with h5py.File(file_path, 'r') as file:\n",
    "        print(\"\\nKeys for each file:\", list(file.keys()))\n",
    "        for key in file.keys():\n",
    "            print(f\"\\nData type of {key}:\", type(file[key][()]))\n",
    "            print(f\"Shape of {key}:\", file[key].shape)\n",
    "            print(f\"Array dtype: {file[key].dtype}\")\n",
    "            print(f\"Array max val: {np.max(file[key])}\")\n",
    "            print(f\"Array min val: {np.min(file[key])}\")\n",
    "else:\n",
    "    print(\"No .h5 files found in the directory.\")"
   ]
  },
  {
   "cell_type": "code",
   "execution_count": null,
   "metadata": {},
   "outputs": [],
   "source": [
    "import matplotlib.pyplot as plt\n",
    "# plt.style.use('ggplot')\n",
    "# plt.rcParams['figure.facecolor'] = '#171717'\n",
    "# plt.rcParams['text.color']       = '#DDDDDD'\n",
    "\n",
    "def display_image_channels(image, title='Image Channels'):\n",
    "    channel_names = ['T1-Weighted (T1)', 'T1-Weighted Post Contrast (T1c)', 'T2-Weighted (T2)', 'Fluid Attenuated \\n Inversion Recovery (FLAIR)']\n",
    "    fig, axes = plt.subplots(1, 4, figsize=(10, 10))\n",
    "    for idx, ax in enumerate(axes.flatten()):\n",
    "        channel_image = image[idx, :, :]  # Transpose the array to display the channel\n",
    "        ax.imshow(channel_image, cmap='gray')\n",
    "        ax.axis('off')\n",
    "        ax.set_title(channel_names[idx])\n",
    "    plt.tight_layout()\n",
    "    fig.savefig('../figures/brats_image_channels.pdf', bbox_inches='tight')\n",
    "    # plt.suptitle(title, fontsize=20, y=1.03)\n",
    "    plt.show()\n",
    "\n",
    "def display_mask_channels_as_rgb(mask, title='Mask Channels as RGB'):\n",
    "    channel_names = ['Necrotic (NEC)', 'Edema (ED)', 'Tumour (ET)']\n",
    "    fig, axes = plt.subplots(1, 3, figsize=(9.75, 5))\n",
    "    for idx, ax in enumerate(axes):\n",
    "        rgb_mask = np.zeros((mask.shape[1], mask.shape[2], 3), dtype=np.uint8)\n",
    "        rgb_mask[..., idx] = mask[idx, :, :] * 255  # Transpose the array to display the channel\n",
    "        ax.imshow(rgb_mask)\n",
    "        ax.axis('off')\n",
    "        ax.set_title(channel_names[idx])\n",
    "    plt.suptitle(title, fontsize=20, y=0.93)\n",
    "    plt.tight_layout()\n",
    "    plt.show()\n",
    "\n",
    "def overlay_masks_on_image(image, mask, title='Brain MRI \\n with Tumour Masks Overlay'):\n",
    "    t1_image = image[0, :, :]  # Use the first channel of the image\n",
    "    t1_image_normalized = (t1_image - t1_image.min()) / (t1_image.max() - t1_image.min())\n",
    "\n",
    "    rgb_image = np.stack([t1_image_normalized] * 3, axis=-1)\n",
    "    color_mask = np.stack([mask[0, :, :], mask[1, :, :], mask[2, :, :]], axis=-1)\n",
    "    rgb_image = np.where(color_mask, color_mask, rgb_image)\n",
    "    \n",
    "    plt.figure(figsize=(4, 4))\n",
    "    plt.imshow(rgb_image, cmap='gray')\n",
    "    plt.title(title, fontsize=18, y=1.02)\n",
    "    plt.axis('off')\n",
    "    plt.savefig('../figures/brats_image_mask_overlay.pdf', bbox_inches='tight')\n",
    "    plt.show()\n",
    "    \n",
    "    \n",
    "# Sample image to view\n",
    "sample_file_path = os.path.join(directory, h5_files[600])\n",
    "data = {}\n",
    "with h5py.File(sample_file_path, 'r') as file:\n",
    "    for key in file.keys():\n",
    "        data[key] = file[key][()]\n",
    "\n",
    "# Transpose the image and mask to have channels first\n",
    "image = data['image'].transpose(2, 0, 1)\n",
    "mask = data['mask'].transpose(2, 0, 1)\n",
    "\n",
    "# View images using plotting functions\n",
    "display_image_channels(image)\n",
    "display_mask_channels_as_rgb(mask)\n",
    "overlay_masks_on_image(image, mask)"
   ]
  },
  {
   "cell_type": "code",
   "execution_count": null,
   "metadata": {},
   "outputs": [],
   "source": [
    "# Regular expression to extract the patient ID from the filename:\n",
    "# filename: volume_{id}_slice_{slice}.h5\n",
    "\n",
    "import re\n",
    "patient_slices = [re.search(r'volume_(\\d+)_slice_(\\d+)', f).groups() for f in h5_files]\n",
    "\n",
    "filtered_patient_slices = list(filter(lambda p: 80 <= int(p[1]) < 128, patient_slices))\n",
    "len(filtered_patient_slices)"
   ]
  },
  {
   "cell_type": "code",
   "execution_count": null,
   "metadata": {},
   "outputs": [],
   "source": [
    "filenames = [f'volume_{p[0]}_slice_{p[1]}.h5' for p in filtered_patient_slices]\n",
    "filenames[:5]"
   ]
  },
  {
   "cell_type": "code",
   "execution_count": null,
   "metadata": {},
   "outputs": [],
   "source": [
    "from tqdm import tqdm\n",
    "\n",
    "labels = np.zeros(len(filenames))\n",
    "\n",
    "# Iterate through the files and check if the mask contains tumour\n",
    "for i in tqdm(range(len(filenames))):\n",
    "    sample_file_path = os.path.join(directory, filenames[i])\n",
    "    data = {}\n",
    "    with h5py.File(sample_file_path, 'r') as file:\n",
    "        for key in file.keys():\n",
    "            data[key] = file[key][()]\n",
    "\n",
    "    if len(np.unique(data['mask'])) > 1:\n",
    "        labels[i] = 1\n"
   ]
  },
  {
   "cell_type": "code",
   "execution_count": null,
   "metadata": {},
   "outputs": [],
   "source": [
    "df = pd.DataFrame({'Filename': filenames, 'Label': labels.astype(int)})\n",
    "df.to_csv(os.path.join(config.BRATS_DATASET_PATH, 'tumour_labels.csv'), index=False)"
   ]
  },
  {
   "cell_type": "code",
   "execution_count": null,
   "metadata": {},
   "outputs": [],
   "source": [
    "idx_0 = 1209\n",
    "print(filenames[idx_0])\n",
    "sample_file_path = os.path.join(directory, filenames[idx_0])\n",
    "\n",
    "data_0 = {}\n",
    "with h5py.File(sample_file_path, 'r') as file:\n",
    "        for key in file.keys():\n",
    "            data_0[key] = file[key][()]\n",
    "\n",
    "idx_1 = 2512\n",
    "print(filenames[idx_1])\n",
    "sample_file_path = os.path.join(directory, filenames[idx_1])\n",
    "\n",
    "data_1 = {}\n",
    "with h5py.File(sample_file_path, 'r') as file:\n",
    "        for key in file.keys():\n",
    "            data_1[key] = file[key][()]"
   ]
  },
  {
   "cell_type": "code",
   "execution_count": null,
   "metadata": {},
   "outputs": [],
   "source": [
    "plt.subplot(1, 2, 1)\n",
    "plt.imshow(data_0['image'][:, :, 0].T, cmap='gray')\n",
    "plt.title('Patient A')\n",
    "plt.axis('off')\n",
    "\n",
    "plt.subplot(1, 2, 2)\n",
    "plt.imshow(data_1['image'][:, :, 0].T, cmap='gray')\n",
    "plt.title('Patient b')\n",
    "plt.axis('off')\n",
    "\n",
    "plt.show()"
   ]
  }
 ],
 "metadata": {
  "kernelspec": {
   "display_name": "DeepLearning",
   "language": "python",
   "name": "python3"
  },
  "language_info": {
   "codemirror_mode": {
    "name": "ipython",
    "version": 3
   },
   "file_extension": ".py",
   "mimetype": "text/x-python",
   "name": "python",
   "nbconvert_exporter": "python",
   "pygments_lexer": "ipython3",
   "version": "3.10.9"
  }
 },
 "nbformat": 4,
 "nbformat_minor": 2
}
