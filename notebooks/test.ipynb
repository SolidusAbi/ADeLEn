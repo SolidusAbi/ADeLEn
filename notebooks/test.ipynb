{
 "cells": [
  {
   "cell_type": "code",
   "execution_count": 1,
   "metadata": {},
   "outputs": [],
   "source": [
    "import numpy as np\n",
    "import os\n",
    "import pandas as pd\n",
    "import sys\n",
    "\n",
    "project_dir = os.path.join(os.getcwd(),'..')\n",
    "if project_dir not in sys.path:\n",
    "    sys.path.append(project_dir)\n",
    "from experiments.MNIST import ExperimentFactory, ExperimentType, ExperimentMNIST\n",
    "from experiments.utils import generate_roc_df"
   ]
  },
  {
   "cell_type": "code",
   "execution_count": null,
   "metadata": {},
   "outputs": [],
   "source": [
    "def save_result(roc:list, auc:list, config:dict) -> tuple:\n",
    "    '''\n",
    "        Save the results of the experiment\n",
    "        Args:\n",
    "        -----\n",
    "            roc: list\n",
    "                List of roc curves\n",
    "            auc: list\n",
    "                List of AUC scores\n",
    "            config: dict\n",
    "                Configuration of the experiment\n",
    "\n",
    "        Returns:\n",
    "        --------\n",
    "            roc_df: pd.DataFrame\n",
    "                ROC Cuve dataFrame with multiindex, considering the iterations.\n",
    "            auc_df: pd.DataFrame\n",
    "                DataFrame with the AUC scores\n",
    "    '''\n",
    "\n",
    "    roc_df = generate_roc_df(roc)\n",
    "    auc_df = pd.DataFrame({'AUC': auc}, index=['It {}'.format(x) for x in np.arange(len(auc))])\n",
    "    \n",
    "    # save\n",
    "    roc_df.to_pickle(os.path.join(config['save_result_dir'], 'roc.pkl'))\n",
    "    auc_df.to_csv(os.path.join(config['save_result_dir'], 'auc.csv'))\n",
    "    \n",
    "    return roc_df, auc_df"
   ]
  },
  {
   "cell_type": "code",
   "execution_count": null,
   "metadata": {},
   "outputs": [],
   "source": [
    "from tqdm import tqdm\n",
    "from matplotlib import pyplot as plt\n",
    "\n",
    "n_iter = 50\n",
    "iterator = tqdm(\n",
    "            range(n_iter),\n",
    "            leave=False,\n",
    "            unit=\"epoch\",\n",
    "            postfix={\"AUC\": \"%.3f\" % -1},\n",
    "        )\n",
    "\n",
    "experiments_type = [ExperimentType.Anomalies_001,ExperimentType.Anomalies_005, ExperimentType.Anomalies_010, ExperimentType.Anomalies_020]\n",
    "\n",
    "for experiment_type in experiments_type:\n",
    "    auc, roc, auc_best_score = [], [], -1\n",
    "    print('Experiment: {}'.format(experiment_type))\n",
    "    for i in iterator:\n",
    "        experiment = ExperimentFactory.create(experiment_type)\n",
    "        if i == 0:\n",
    "            config = experiment.config()\n",
    "            experiment.save_config()\n",
    "        experiment.run()\n",
    "\n",
    "        tpr, fpr, roc_auc = experiment.to_test()\n",
    "        roc.append((tpr, fpr))\n",
    "        auc.append(roc_auc)\n",
    "\n",
    "        iterator.set_postfix(tls=\"%.3f\" % roc_auc)\n",
    "        \n",
    "        if roc_auc > auc_best_score:\n",
    "            auc_score = roc_auc\n",
    "            experiment.save_model(verbose=False)\n",
    "            fig = experiment.plot_reconstructed(experiment.model, r0=(-6, 6), r1=(-6, 6), n=15 )\n",
    "            fig.savefig(os.path.join(config['save_imgs_dir'], f'reconstructed.pdf'), bbox_inches='tight')\n",
    "            plt.close(fig)\n",
    "\n",
    "    roc_df, auc_df = save_result(roc, auc, config)"
   ]
  },
  {
   "cell_type": "code",
   "execution_count": null,
   "metadata": {},
   "outputs": [],
   "source": [
    "from matplotlib import pyplot as plt\n",
    "fig = experiment.plot_reconstructed(experiment.model, r0=(-6, 6), r1=(-6, 6), n=15 )\n",
    "plt.show(fig)\n",
    "config = experiment.config()\n",
    "fig.savefig(os.path.join(config['save_imgs_dir'], 'reconstructed.pdf'), bbox_inches='tight')"
   ]
  },
  {
   "cell_type": "code",
   "execution_count": null,
   "metadata": {},
   "outputs": [],
   "source": [
    "tpr, fpr, roc_auc = experiment.to_test()\n",
    "\n",
    "with plt.style.context((\"seaborn-colorblind\")):\n",
    "    fig = plt.figure(figsize=(6, 4))\n",
    "    plt.plot(fpr, tpr, label='ROC curve (area = %0.2f)' % roc_auc)\n",
    "    plt.plot([0, 1], [0, 1], 'k--')\n",
    "    plt.xlabel('False Positive Rate', fontsize='x-large')\n",
    "    plt.ylabel('True Positive Rate', fontsize='x-large')\n",
    "    plt.legend(loc=\"lower right\")\n",
    "\n",
    "    plt.tick_params(axis='both', which='major', labelsize='large')\n",
    "\n",
    "    plt.show()"
   ]
  }
 ],
 "metadata": {
  "kernelspec": {
   "display_name": "DeepLearning",
   "language": "python",
   "name": "python3"
  },
  "language_info": {
   "codemirror_mode": {
    "name": "ipython",
    "version": 3
   },
   "file_extension": ".py",
   "mimetype": "text/x-python",
   "name": "python",
   "nbconvert_exporter": "python",
   "pygments_lexer": "ipython3",
   "version": "3.9.12"
  }
 },
 "nbformat": 4,
 "nbformat_minor": 2
}
