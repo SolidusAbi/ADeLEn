{
 "cells": [
  {
   "cell_type": "code",
   "execution_count": null,
   "metadata": {},
   "outputs": [],
   "source": [
    "import os, sys\n",
    "project_dir = os.path.join(os.getcwd(),'..')\n",
    "if project_dir not in sys.path:\n",
    "    sys.path.append(project_dir)\n",
    "\n",
    "from experiments.MNIST import ExperimentMNIST"
   ]
  },
  {
   "cell_type": "code",
   "execution_count": null,
   "metadata": {},
   "outputs": [],
   "source": [
    "import numpy as np\n",
    "import pandas as pd\n",
    "from tqdm import tqdm\n",
    "\n",
    "n_iter = 100\n",
    "auc = np.zeros(n_iter, dtype=np.float32)\n",
    "\n",
    "for i in tqdm(range(n_iter)):\n",
    "    experiment = ExperimentMNIST(.1, .05)\n",
    "    if i == 0:\n",
    "        config = experiment.config()\n",
    "        experiment.save_config()\n",
    "    experiment.run()\n",
    "\n",
    "    tpr, fpr, roc_auc = experiment.to_test()\n",
    "    \n",
    "    df = pd.DataFrame({'TPR': tpr, 'FPR': fpr})\n",
    "    df.to_csv(os.path.join(config['save_result_dir'], f'roc_{i}.csv'), index=False)\n",
    "\n",
    "    auc[i] = roc_auc\n",
    "    print(f'Iteration {i}: AUC = {roc_auc}')\n",
    "\n",
    "    fig = experiment.plot_reconstructed(experiment.model, r0=(-6, 6), r1=(-6, 6), n=15 )\n",
    "    fig.savefig(os.path.join(config['save_imgs_dir'], f'reconstructed_{i}.pdf'), bbox_inches='tight')\n",
    "\n",
    "df = pd.DataFrame({'AUC': auc})\n",
    "df.to_csv(os.path.join(config['save_result_dir'], 'auc.csv'), index=False)"
   ]
  },
  {
   "cell_type": "code",
   "execution_count": null,
   "metadata": {},
   "outputs": [],
   "source": [
    "from matplotlib import pyplot as plt\n",
    "fig = experiment.plot_reconstructed(experiment.model, r0=(-6, 6), r1=(-6, 6), n=15 )\n",
    "plt.show(fig)\n",
    "config = experiment.config()\n",
    "fig.savefig(os.path.join(config['save_imgs_dir'], 'reconstructed.pdf'), bbox_inches='tight')"
   ]
  },
  {
   "cell_type": "code",
   "execution_count": null,
   "metadata": {},
   "outputs": [],
   "source": [
    "tpr, fpr, roc_auc = experiment.to_test()\n",
    "\n",
    "with plt.style.context((\"seaborn-colorblind\")):\n",
    "    fig = plt.figure(figsize=(6, 4))\n",
    "    plt.plot(fpr, tpr, label='ROC curve (area = %0.2f)' % roc_auc)\n",
    "    plt.plot([0, 1], [0, 1], 'k--')\n",
    "    plt.xlabel('False Positive Rate', fontsize='x-large')\n",
    "    plt.ylabel('True Positive Rate', fontsize='x-large')\n",
    "    plt.legend(loc=\"lower right\")\n",
    "\n",
    "    plt.tick_params(axis='both', which='major', labelsize='large')\n",
    "\n",
    "    plt.show()"
   ]
  },
  {
   "cell_type": "code",
   "execution_count": null,
   "metadata": {},
   "outputs": [],
   "source": [
    "tpr.shape, fpr.shape, roc_auc"
   ]
  },
  {
   "cell_type": "code",
   "execution_count": null,
   "metadata": {},
   "outputs": [],
   "source": [
    "import pandas as pd\n",
    "\n",
    "df = pd.DataFrame({'TPR': tpr, 'FPR': fpr})\n",
    "df.to_csv(os.path.join(config['save_result_dir'], 'roc.csv'), index=False)"
   ]
  },
  {
   "cell_type": "code",
   "execution_count": null,
   "metadata": {},
   "outputs": [],
   "source": [
    "experiment.save_model()"
   ]
  },
  {
   "cell_type": "code",
   "execution_count": null,
   "metadata": {},
   "outputs": [],
   "source": [
    "experiment.load_model(\"/media/abian/Extreme SSD/Thesis/Results/Chapter8/MNIST/mnist_anomalies_0.1_pollution_0.01/model/model.pt\")"
   ]
  },
  {
   "cell_type": "code",
   "execution_count": null,
   "metadata": {},
   "outputs": [],
   "source": [
    "import torch\n",
    "torch.load('/media/abian/Extreme SSD/Thesis/Results/Chapter8/MNIST/mnist_anomalies_0.1_pollution_0.01/model/model.pt')"
   ]
  }
 ],
 "metadata": {
  "kernelspec": {
   "display_name": "DeepLearning",
   "language": "python",
   "name": "python3"
  },
  "language_info": {
   "codemirror_mode": {
    "name": "ipython",
    "version": 3
   },
   "file_extension": ".py",
   "mimetype": "text/x-python",
   "name": "python",
   "nbconvert_exporter": "python",
   "pygments_lexer": "ipython3",
   "version": "3.10.9"
  }
 },
 "nbformat": 4,
 "nbformat_minor": 2
}
