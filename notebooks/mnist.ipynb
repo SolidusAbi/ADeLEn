{
 "cells": [
  {
   "cell_type": "code",
   "execution_count": null,
   "metadata": {},
   "outputs": [],
   "source": [
    "import os, sys\n",
    "project_dir = os.path.join(os.getcwd(),'..')\n",
    "if project_dir not in sys.path:\n",
    "    sys.path.append(project_dir)\n",
    "\n",
    "from matplotlib import pyplot as plt\n",
    "import torch"
   ]
  },
  {
   "cell_type": "markdown",
   "metadata": {},
   "source": [
    "# MNIST Dataset"
   ]
  },
  {
   "cell_type": "markdown",
   "metadata": {},
   "source": [
    "## Train"
   ]
  },
  {
   "cell_type": "code",
   "execution_count": null,
   "metadata": {},
   "outputs": [],
   "source": [
    "from dataset import AnomalyMNIST\n",
    "seed = 64\n",
    "dataset = AnomalyMNIST('data/', download=True, n_known_anomalies=512, seed=seed)\n",
    "print(dataset)\n",
    "\n",
    "dataset.montage(8, 8, seed)\n",
    "plt.show()"
   ]
  },
  {
   "cell_type": "code",
   "execution_count": null,
   "metadata": {},
   "outputs": [],
   "source": [
    "from torch.utils.data import DataLoader\n",
    "train_loader = DataLoader(dataset, batch_size=256, shuffle=True)"
   ]
  },
  {
   "cell_type": "markdown",
   "metadata": {},
   "source": [
    "## Test"
   ]
  },
  {
   "cell_type": "code",
   "execution_count": null,
   "metadata": {},
   "outputs": [],
   "source": [
    "# TODO: Include the test set configuration in the AnoamlyMNIST class\n",
    "from torchvision.datasets import MNIST\n",
    "from torchvision import transforms\n",
    "from torch.utils.data import Subset, DataLoader\n",
    "\n",
    "test_dataset_full = MNIST('data/', train = False, download = True, transform = transforms.ToTensor())\n",
    "normal_idx = torch.where((test_dataset_full.targets == 1))[0]\n",
    "anomaly_idx = torch.where((test_dataset_full.targets == 7))[0]\n",
    "idx = torch.cat([normal_idx[:256], anomaly_idx[:256]]) # 512 samples!\n",
    "\n",
    "test_dataset_full.targets = torch.ones_like(test_dataset_full.targets) * -1\n",
    "test_dataset_full.targets[normal_idx] = 0\n",
    "test_dataset_full.targets[anomaly_idx] = 1\n",
    "\n",
    "x_test_set = Subset(test_dataset_full, idx)\n",
    "test_loader =  DataLoader(x_test_set, 512, shuffle=False)"
   ]
  },
  {
   "cell_type": "code",
   "execution_count": null,
   "metadata": {},
   "outputs": [],
   "source": [
    "# TO REMOVE! Just testing!\n",
    "import random\n",
    "random.seed(64)\n",
    "random_idx = random.randint(0, 511)\n",
    "x, y = x_test_set[random_idx]\n",
    "plt.imshow(x[0])\n",
    "print('Anomaly' if y == 1 else 'Normal')"
   ]
  },
  {
   "cell_type": "markdown",
   "metadata": {},
   "source": [
    "# Model"
   ]
  },
  {
   "cell_type": "code",
   "execution_count": null,
   "metadata": {},
   "outputs": [],
   "source": [
    "from torch import nn\n",
    "from VAE.AnomalyDetector import AnomalyDetector\n",
    "from VAE.utils import SGVBL\n",
    "\n",
    "class VAE(nn.Module):\n",
    "    def __init__(self, input_size, latent_space):\n",
    "        super(VAE, self).__init__()\n",
    "        conv_out_size = input_size // (2*2)\n",
    "        self.encoder = nn.Sequential(\n",
    "            nn.Conv2d(1,8, 3, stride=1, padding=1),\n",
    "            nn.BatchNorm2d(8),\n",
    "            nn.Dropout2d(0.2),\n",
    "            nn.ReLU(),\n",
    "            nn.MaxPool2d(3, stride=2, padding=1),\n",
    "            nn.Conv2d(8, 12, 3, stride=1, padding=1),\n",
    "            nn.BatchNorm2d(12),\n",
    "            nn.Dropout2d(0.2),\n",
    "            nn.ReLU(),\n",
    "            nn.MaxPool2d(3, stride=2, padding=1),\n",
    "            nn.Flatten(),\n",
    "            nn.Linear(12*(conv_out_size**2), 128),\n",
    "            nn.BatchNorm1d(128),\n",
    "            nn.Dropout(0.2),\n",
    "            nn.ReLU(),\n",
    "        )\n",
    "\n",
    "        self.botleneck = AnomalyDetector(128, latent_space)\n",
    "\n",
    "        self.decoder = nn.Sequential(\n",
    "            nn.Linear(latent_space, 128),\n",
    "            nn.BatchNorm1d(128),\n",
    "            nn.Dropout(0.1),\n",
    "            nn.ReLU(),\n",
    "            nn.Linear(128, 12*(conv_out_size**2)),\n",
    "            nn.Dropout(0.1),\n",
    "            nn.ReLU(),\n",
    "            nn.Unflatten(1, (12, conv_out_size, conv_out_size)),\n",
    "            nn.BatchNorm2d(12),\n",
    "            nn.Conv2d(12, 8, 3, stride=1, padding=1),\n",
    "            nn.BatchNorm2d(8),\n",
    "            nn.Dropout2d(0.1),\n",
    "            nn.ReLU(),\n",
    "            nn.Upsample(scale_factor=2),\n",
    "            nn.Conv2d(8, 1, 3, stride=1, padding=1),\n",
    "            nn.Upsample(scale_factor=2),\n",
    "        )\n",
    "\n",
    "\n",
    "    def forward(self, x:torch.Tensor) -> torch.Tensor:\n",
    "        x = self.encoder(x)\n",
    "        x = self.botleneck(x)\n",
    "        x = self.decoder(x)\n",
    "        return x\n",
    "\n",
    "model = VAE(28, 2)\n",
    "from torch.nn.functional import mse_loss\n",
    "sgvbl = SGVBL(model, len(dataset), mle=mse_loss)"
   ]
  },
  {
   "cell_type": "markdown",
   "metadata": {},
   "source": [
    "# Training"
   ]
  },
  {
   "cell_type": "code",
   "execution_count": null,
   "metadata": {},
   "outputs": [],
   "source": [
    "from VAE.utils import cosine_scheduler\n",
    "plt.plot(cosine_scheduler(100, 1e-3))\n",
    "plt.show()"
   ]
  },
  {
   "cell_type": "code",
   "execution_count": null,
   "metadata": {},
   "outputs": [],
   "source": [
    "device = torch.device('cuda' if torch.cuda.is_available() else 'cpu')\n",
    "model.to(device)\n",
    "model.train()\n",
    "n_epochs = 50\n",
    "\n",
    "from tqdm import tqdm\n",
    "\n",
    "epoch_iterator = tqdm(\n",
    "        range(n_epochs),\n",
    "        leave=True,\n",
    "        unit=\"epoch\",\n",
    "        postfix={\"tls\": \"%.4f\" % -1},\n",
    "    )\n",
    "\n",
    "# Scheduler for the D_KL(.|.)\n",
    "kl_weight = torch.clip(cosine_scheduler(n_epochs), 0, .99)\n",
    "\n",
    "opt = torch.optim.Adam(model.parameters())\n",
    "for epoch in epoch_iterator:\n",
    "    epoch_loss = 0.\n",
    "    for x, y in train_loader:\n",
    "        # check if there are a target with 1\n",
    "        # if torch.any(y == 1):\n",
    "            # print(\"Anomaly detected\")\n",
    "            # break\n",
    "        x = x.to(device) # GPU\n",
    "        opt.zero_grad()\n",
    "        x_hat = torch.sigmoid(model(x))\n",
    "        loss = sgvbl(x, x_hat, y, kl_weight[epoch])\n",
    "        epoch_loss += loss.detach().item()\n",
    "\n",
    "        loss.backward()\n",
    "        opt.step()\n",
    "    \n",
    "    epoch_iterator.set_postfix(tls=\"%.3f\" % (epoch_loss/len(train_loader)))"
   ]
  },
  {
   "cell_type": "markdown",
   "metadata": {},
   "source": [
    "# Result"
   ]
  },
  {
   "cell_type": "code",
   "execution_count": null,
   "metadata": {},
   "outputs": [],
   "source": [
    "import numpy as np\n",
    "\n",
    "def plot_latent(model, data, num_batches=100):\n",
    "    model.eval()\n",
    "    fig = plt.figure(figsize=(5,5))\n",
    "    with torch.no_grad():\n",
    "        for i, (x, y) in enumerate(data):\n",
    "            x = x.to(device)\n",
    "            z = model.botleneck(model.encoder(x))\n",
    "            z = z.cpu().detach().numpy()\n",
    "            y = y.cpu().detach().numpy()\n",
    "            anomalies = np.where(y == 1)\n",
    "            normal = np.where(y == 0)\n",
    "            if i == 0:\n",
    "                plt.scatter(z[normal, 0], z[normal, 1], c='r', alpha=.7, label='normal')\n",
    "                plt.scatter(z[anomalies, 0], z[anomalies, 1], c='b', alpha=.7, label='anomalies')\n",
    "            else:\n",
    "                plt.scatter(z[normal, 0], z[normal, 1], c='r',alpha=.7)\n",
    "                plt.scatter(z[anomalies, 0], z[anomalies, 1], c='b',alpha=.7)\n",
    "           \n",
    "            if i > num_batches:\n",
    "                plt.legend()\n",
    "                return\n",
    "    plt.legend()\n",
    "    return fig"
   ]
  },
  {
   "cell_type": "code",
   "execution_count": null,
   "metadata": {},
   "outputs": [],
   "source": [
    "model.eval()\n",
    "# model.train()\n",
    "fig = plot_latent(model, test_loader, num_batches=25)\n",
    "plt.savefig('figures/latent_space_test.png', dpi=300, bbox_inches='tight')"
   ]
  },
  {
   "cell_type": "markdown",
   "metadata": {},
   "source": [
    "## Sampling normal and anomaly sample"
   ]
  },
  {
   "cell_type": "code",
   "execution_count": null,
   "metadata": {},
   "outputs": [],
   "source": [
    "x, y = next(iter(test_loader))\n",
    "x_0 = x[torch.argwhere(y==0).squeeze()[150]].unsqueeze(0)\n",
    "x_1 = x[torch.argwhere(y==1).squeeze()[152]].unsqueeze(0)\n",
    "\n",
    "print(x_0.shape)\n",
    "\n",
    "plt.subplot(1,2,1)\n",
    "plt.imshow(x_0[0,0])\n",
    "plt.axis('off')\n",
    "plt.subplot(1,2,2)\n",
    "plt.imshow(x_1[0,0])\n",
    "plt.axis('off')\n",
    "plt.savefig('anomalies.png', bbox_inches='tight')\n",
    "\n",
    "model.eval()\n",
    "z_0, z_1 = [], []\n",
    "for i in range(100):\n",
    "    z_0.append(model.botleneck(model.encoder(x_0.to(device))).detach().cpu())\n",
    "    z_1.append(model.botleneck(model.encoder(x_1.to(device))).detach().cpu())"
   ]
  },
  {
   "cell_type": "code",
   "execution_count": null,
   "metadata": {},
   "outputs": [],
   "source": [
    "fig = plt.figure(figsize=(10,5))\n",
    "plt.subplot(1,2,1)\n",
    "plt.scatter(torch.cat(z_0)[:,0], torch.cat(z_0)[:,1], c='r')\n",
    "plt.subplot(1,2,2)\n",
    "plt.scatter(torch.cat(z_1)[:,0], torch.cat(z_1)[:,1], c='b')\n",
    "plt.savefig('figures/anomalies_latent_sample.png', bbox_inches='tight')"
   ]
  },
  {
   "cell_type": "code",
   "execution_count": null,
   "metadata": {},
   "outputs": [],
   "source": [
    "x = torch.cat([x_0, x_1]).to(device)\n",
    "print(x.shape)\n",
    "\n",
    "model.eval()\n",
    "with torch.no_grad():\n",
    "    x_hat = model(x)\n",
    "\n",
    "model.botleneck.sigma.detach(), model.botleneck.mu.detach()"
   ]
  },
  {
   "cell_type": "markdown",
   "metadata": {},
   "source": [
    "## Reconstruction"
   ]
  },
  {
   "cell_type": "code",
   "execution_count": null,
   "metadata": {},
   "outputs": [],
   "source": [
    "import numpy as np\n",
    "def plot_reconstructed(autoencoder, r0=(-10, 10), r1=(-10, 10), n=12):\n",
    "    w = 28\n",
    "    img = np.zeros((n*w, n*w))\n",
    "    fig = plt.figure(figsize=(5, 5))\n",
    "    for i, y in enumerate(np.linspace(*r1, n)):\n",
    "        for j, x in enumerate(np.linspace(*r0, n)):\n",
    "            z = torch.Tensor([[x, y]]).to(device)\n",
    "            x_hat = torch.sigmoid(autoencoder.decoder(z))\n",
    "            x_hat = x_hat.reshape(28, 28).to('cpu').detach().numpy()\n",
    "            img[(n-1-i)*w:(n-1-i+1)*w, j*w:(j+1)*w] = x_hat\n",
    "    plt.imshow(img, extent=[*r0, *r1])\n",
    "    plt.xlabel('$\\mathcal{N}(x;0,\\sigma_1)$')\n",
    "    plt.ylabel('$\\mathcal{N}(x;0,\\sigma_2)$')\n",
    "    # plt.axis('off')\n",
    "    return fig"
   ]
  },
  {
   "cell_type": "code",
   "execution_count": null,
   "metadata": {},
   "outputs": [],
   "source": [
    "model.eval()\n",
    "fig = plot_reconstructed(model.to(device), r0=(-6, 6), r1=(-6, 6), n=25)\n",
    "plt.savefig('figures/reconstructed.pdf', bbox_inches='tight')\n",
    "plt.show(fig)"
   ]
  },
  {
   "cell_type": "code",
   "execution_count": null,
   "metadata": {},
   "outputs": [],
   "source": [
    "test_idx = torch.linspace(0, 511, 6, dtype=int)\n",
    "x, y = next(iter(test_loader))\n",
    "x_hat = torch.sigmoid(model(x.cuda()).detach().cpu())\n",
    "z = model.botleneck(model.encoder(x.cuda())).detach().cpu()\n",
    "\n",
    "for i, idx in enumerate(test_idx):\n",
    "    plt.subplot(1, 2*len(test_idx), 2*(i+1)-1)\n",
    "    plt.imshow(x[idx, 0])\n",
    "    plt.axis('off')\n",
    "\n",
    "    plt.subplot(1, 2*len(test_idx), 2*(i+1))\n",
    "    plt.imshow(x_hat[idx,0])\n",
    "    plt.axis('off')\n",
    "\n",
    "plt.show()\n",
    "\n",
    "plt.scatter(z[test_idx, 0], z[test_idx, 1], c=y[test_idx] )\n",
    "plt.show()"
   ]
  },
  {
   "attachments": {},
   "cell_type": "markdown",
   "metadata": {},
   "source": [
    "## MedMNIST"
   ]
  },
  {
   "cell_type": "code",
   "execution_count": null,
   "metadata": {},
   "outputs": [],
   "source": [
    "import medmnist\n",
    "from medmnist import INFO, Evaluator\n",
    "import torch.utils.data as data\n",
    "\n",
    "\n",
    "print(f\"MedMNIST v{medmnist.__version__} @ {medmnist.HOMEPAGE}\")"
   ]
  },
  {
   "cell_type": "code",
   "execution_count": null,
   "metadata": {},
   "outputs": [],
   "source": [
    "data_flag = 'pneumoniamnist'\n",
    "# data_flag = 'breastmnist'\n",
    "download = True\n",
    "\n",
    "NUM_EPOCHS = 3\n",
    "BATCH_SIZE = 128\n",
    "lr = 0.001\n",
    "\n",
    "info = INFO[data_flag]\n",
    "task = info['task']\n",
    "n_channels = info['n_channels']\n",
    "n_classes = len(info['label'])\n",
    "\n",
    "DataClass = getattr(medmnist, info['python_class'])"
   ]
  },
  {
   "cell_type": "code",
   "execution_count": null,
   "metadata": {},
   "outputs": [],
   "source": [
    "\n",
    "# preprocessing\n",
    "data_transform = transforms.Compose([\n",
    "    transforms.ToTensor(),\n",
    "    transforms.Normalize(mean=[.5], std=[.5])\n",
    "])\n",
    "\n",
    "# load the data\n",
    "train_dataset = DataClass(split='train', transform=data_transform, download=download)\n",
    "test_dataset = DataClass(split='test', transform=data_transform, download=download)\n",
    "\n",
    "pil_dataset = DataClass(split='train', download=download)\n",
    "\n",
    "# encapsulate data into dataloader form\n",
    "train_loader = data.DataLoader(dataset=train_dataset, batch_size=BATCH_SIZE, shuffle=True)\n",
    "train_loader_at_eval = data.DataLoader(dataset=train_dataset, batch_size=2*BATCH_SIZE, shuffle=False)\n",
    "test_loader = data.DataLoader(dataset=test_dataset, batch_size=2*BATCH_SIZE, shuffle=False)"
   ]
  },
  {
   "cell_type": "code",
   "execution_count": null,
   "metadata": {},
   "outputs": [],
   "source": [
    "type(test_dataset.labels)"
   ]
  },
  {
   "cell_type": "code",
   "execution_count": null,
   "metadata": {},
   "outputs": [],
   "source": [
    "next(iter(test_loader))[0].shape"
   ]
  },
  {
   "cell_type": "code",
   "execution_count": null,
   "metadata": {},
   "outputs": [],
   "source": [
    "train_dataset.montage(length=20)"
   ]
  },
  {
   "cell_type": "code",
   "execution_count": null,
   "metadata": {},
   "outputs": [],
   "source": [
    "train_dataset.labels\n",
    "normal_idx = torch.tensor(np.where((train_dataset.labels == 1))[0])\n",
    "anomaly_idx = torch.tensor(np.where((train_dataset.labels == 0))[0])\n",
    "\n",
    "idx = torch.cat([normal_idx, anomaly_idx[:512]])\n",
    "\n",
    "# change labels to 0 and 1, the rest to -1\n",
    "train_dataset.labels = np.ones_like(dataset_full.targets) * -1\n",
    "train_dataset.labels[normal_idx] = 0\n",
    "train_dataset.labels[anomaly_idx] = 1\n",
    "\n",
    "x_train_set = Subset(train_dataset, idx)\n",
    "train_loader =  DataLoader(x_train_set, 128, shuffle=True)\n",
    "# normal_idx = torch.where((dataset_full.targets == 7))[0]\n",
    "# anomaly_idx = torch.where((dataset_full.targets == 1))[0]"
   ]
  },
  {
   "cell_type": "code",
   "execution_count": null,
   "metadata": {},
   "outputs": [],
   "source": [
    "normal_idx.shape, anomaly_idx.shape"
   ]
  },
  {
   "cell_type": "code",
   "execution_count": null,
   "metadata": {},
   "outputs": [],
   "source": [
    "model = VAE(28, 2)\n",
    "from torch.nn.functional import mse_loss\n",
    "sgvbl = SGVBL(model, len(x_train_set), loss=mse_loss)"
   ]
  },
  {
   "cell_type": "code",
   "execution_count": null,
   "metadata": {},
   "outputs": [],
   "source": [
    "device = torch.device('cuda' if torch.cuda.is_available() else 'cpu')\n",
    "model.to(device)\n",
    "model.train()\n",
    "n_epochs = 100\n",
    "from tqdm import tqdm\n",
    "# kl_weight = 0.02\n",
    "\n",
    "epoch_iterator = tqdm(\n",
    "        range(n_epochs),\n",
    "        leave=True,\n",
    "        unit=\"epoch\",\n",
    "        postfix={\"tls\": \"%.4f\" % -1},\n",
    "    )\n",
    "\n",
    "kl_weight = torch.clip(cosine_scheduler(n_epochs), 0, 0.99)\n",
    "\n",
    "opt = torch.optim.Adam(model.parameters(), lr=1e-3)\n",
    "for epoch in epoch_iterator:\n",
    "    epoch_loss = 0.\n",
    "    # kl_weight = min(kl_weight+0.012, .9)\n",
    "    for x, y in train_loader:\n",
    "        # check if there are a target with 1\n",
    "        # if torch.any(y == 1):\n",
    "            # print(\"Anomaly detected\")\n",
    "            # break\n",
    "        x = x.to(device) # GPU\n",
    "        opt.zero_grad()\n",
    "        x_hat = torch.tanh(model(x))\n",
    "        loss = sgvbl(x, x_hat, y, kl_weight[epoch])\n",
    "        # loss = sgvbl(x, x_hat, y, 1e-2)\n",
    "        # loss = sgvbl(x, x_hat, y, kl_weight)\n",
    "        epoch_loss += loss.detach().item()\n",
    "\n",
    "        loss.backward()\n",
    "        opt.step()\n",
    "    \n",
    "    epoch_iterator.set_postfix(tls=\"%.3f\" % (epoch_loss/len(train_loader)))"
   ]
  },
  {
   "cell_type": "code",
   "execution_count": null,
   "metadata": {},
   "outputs": [],
   "source": [
    "# # device = torch.device('cuda' if torch.cuda.is_available() else 'cpu')\n",
    "# # model.to(device)\n",
    "# # model.train()\n",
    "# # n_epochs = 200\n",
    "# # from tqdm import tqdm\n",
    "# # kl_weight = 0.02\n",
    "\n",
    "# # opt = torch.optim.Adam(model.parameters())\n",
    "# # for epoch in tqdm(range(n_epochs)):\n",
    "# #     kl_weight = min(kl_weight+0.006, 1)\n",
    "# #     for x, y in train_loader:\n",
    "# #         x = x.to(device) # GPU\n",
    "# #         opt.zero_grad()\n",
    "# #         x_hat = model(x)\n",
    "# #         loss = sgvbl(x, x_hat, kl_weight)\n",
    "# #         loss.backward()\n",
    "# #         opt.step()\n",
    "\n",
    "# device = torch.device('cuda' if torch.cuda.is_available() else 'cpu')\n",
    "# model.to(device)\n",
    "# model.train()\n",
    "# n_epochs = 100\n",
    "# from tqdm import tqdm\n",
    "# kl_weight = 0.02\n",
    "\n",
    "# epoch_iterator = tqdm(\n",
    "#         range(n_epochs),\n",
    "#         leave=True,\n",
    "#         unit=\"epoch\",\n",
    "#         postfix={\"tls\": \"%.4f\" % -1},\n",
    "#     )\n",
    "\n",
    "# opt = torch.optim.Adam(model.parameters())\n",
    "# for epoch in epoch_iterator:\n",
    "#     epoch_loss = 0.\n",
    "#     kl_weight = min(kl_weight+0.001, 1)\n",
    "#     for x, y in train_loader:\n",
    "#         # check if there are a target with 1\n",
    "#         # if torch.any(y == 1):\n",
    "#         #     print(\"Anomaly detected\")\n",
    "#         x = x.to(device) # GPU\n",
    "#         opt.zero_grad()\n",
    "#         x_hat = model(x)\n",
    "#         loss = sgvbl(x, x_hat, y, kl_weight)\n",
    "#         epoch_loss += loss.detach().item()\n",
    "\n",
    "#         loss.backward()\n",
    "#         opt.step()\n",
    "\n",
    "#     epoch_iterator.set_postfix(tls=\"%.3f\" % (epoch_loss/len(train_loader)))\n"
   ]
  },
  {
   "cell_type": "code",
   "execution_count": null,
   "metadata": {},
   "outputs": [],
   "source": [
    "model.eval()\n",
    "# model.train()\n",
    "plot_latent(model, train_loader_at_eval, num_batches=1)"
   ]
  },
  {
   "cell_type": "code",
   "execution_count": null,
   "metadata": {},
   "outputs": [],
   "source": [
    "x, y = next(iter(train_loader))\n",
    "x_0 = x[np.argwhere(y==0)[0].squeeze()[0]].unsqueeze(0)\n",
    "x_1 = x[np.argwhere(y==1)[0].squeeze()[0]].unsqueeze(0)\n",
    "\n",
    "plt.subplot(1,2,1)\n",
    "plt.imshow(x_0[0,0], cmap='gray')\n",
    "plt.subplot(1,2,2)https://ieeexplore.ieee.org/xpl/RecentIssue.jsp?punumber=5962385\n",
    "    z_1.append(model.botleneck(model.encoder(x_1.to(device))).detach().cpu())"
   ]
  },
  {
   "cell_type": "code",
   "execution_count": null,
   "metadata": {},
   "outputs": [],
   "source": [
    "x = torch.cat([x_0, x_1])\n",
    "z = model.botleneck(model.encoder(x.to(device))).detach().cpu()\n",
    "model.botleneck.sigma, model.botleneck.mu"
   ]
  },
  {
   "cell_type": "code",
   "execution_count": null,
   "metadata": {},
   "outputs": [],
   "source": [
    "plt.subplot(1,2,1)\n",
    "plt.scatter(torch.cat(z_0)[:,0], torch.cat(z_0)[:,1], c='r')\n",
    "plt.subplot(1,2,2)\n",
    "plt.scatter(torch.cat(z_1)[:,0], torch.cat(z_1)[:,1], c='b')"
   ]
  },
  {
   "cell_type": "code",
   "execution_count": null,
   "metadata": {},
   "outputs": [],
   "source": [
    "x_hat = model(x_0.to(device))\n",
    "plt.subplot(2,2,1)\n",
    "plt.imshow(x_hat[0,0].detach().cpu(), cmap='gray')\n",
    "plt.subplot(2,2,2)\n",
    "plt.imshow(x_0[0,0], cmap='gray')\n",
    "\n",
    "x_hat = model(x_1.to(device))\n",
    "plt.subplot(2,2,3)\n",
    "plt.imshow(x_hat[0,0].detach().cpu(), cmap='gray')\n",
    "plt.subplot(2,2,4)\n",
    "plt.imshow(x_1[0,0], cmap='gray')\n",
    "\n",
    "mse_loss(x_hat, x_0.to(device)), mse_loss(x_hat, x_1.to(device))"
   ]
  },
  {
   "cell_type": "code",
   "execution_count": null,
   "metadata": {},
   "outputs": [],
   "source": [
    "import numpy as np\n",
    "def plot_reconstructed(autoencoder, r0=(-10, 10), r1=(-10, 10), n=12):\n",
    "    w = 28\n",
    "    img = np.zeros((n*w, n*w))\n",
    "    for i, y in enumerate(np.linspace(*r1, n)):\n",
    "        for j, x in enumerate(np.linspace(*r0, n)):\n",
    "            z = torch.Tensor([[x, y]]).to(device)\n",
    "            x_hat = torch.tanh(autoencoder.decoder(z))\n",
    "            x_hat = x_hat.reshape(28, 28).to('cpu').detach().numpy()\n",
    "            img[(n-1-i)*w:(n-1-i+1)*w, j*w:(j+1)*w] = x_hat\n",
    "    plt.imshow(img, extent=[*r0, *r1])"
   ]
  },
  {
   "cell_type": "code",
   "execution_count": null,
   "metadata": {},
   "outputs": [],
   "source": [
    "model.eval()\n",
    "plot_reconstructed(model, r0=(-6, 6), r1=(-6, 6), n=20)"
   ]
  },
  {
   "cell_type": "code",
   "execution_count": null,
   "metadata": {},
   "outputs": [],
   "source": []
  }
 ],
 "metadata": {
  "kernelspec": {
   "display_name": "DeepLearning",
   "language": "python",
   "name": "python3"
  },
  "language_info": {
   "codemirror_mode": {
    "name": "ipython",
    "version": 3
   },
   "file_extension": ".py",
   "mimetype": "text/x-python",
   "name": "python",
   "nbconvert_exporter": "python",
   "pygments_lexer": "ipython3",
   "version": "3.10.4"
  },
  "orig_nbformat": 4
 },
 "nbformat": 4,
 "nbformat_minor": 2
}
