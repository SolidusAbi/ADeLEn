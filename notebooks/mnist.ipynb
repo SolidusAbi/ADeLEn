{
 "cells": [
  {
   "cell_type": "code",
   "execution_count": null,
   "metadata": {},
   "outputs": [],
   "source": [
    "import os, sys\n",
    "project_dir = os.path.join(os.getcwd(),'..')\n",
    "if project_dir not in sys.path:\n",
    "    sys.path.append(project_dir)\n",
    "\n",
    "from matplotlib import pyplot as plt\n",
    "import torch"
   ]
  },
  {
   "cell_type": "markdown",
   "metadata": {},
   "source": [
    "# MNIST Dataset"
   ]
  },
  {
   "cell_type": "markdown",
   "metadata": {},
   "source": [
    "## Train"
   ]
  },
  {
   "cell_type": "code",
   "execution_count": null,
   "metadata": {},
   "outputs": [],
   "source": [
    "from dataset import AnomalyMNIST\n",
    "from torchvision.transforms import Normalize,ToTensor, Compose\n",
    "\n",
    "\n",
    "seed = 64\n",
    "transform = Compose([ToTensor(), Normalize((0.5,), (0.5,))])\n",
    "# transform = Compose([ToTensor()])\n",
    "\n",
    "dataset = AnomalyMNIST('data/', download=True, n_known_anomalies=512, transform=transform, seed=seed)\n",
    "print(dataset)\n",
    "\n",
    "dataset.montage(8, 8, seed)\n",
    "plt.show()"
   ]
  },
  {
   "cell_type": "code",
   "execution_count": null,
   "metadata": {},
   "outputs": [],
   "source": [
    "from torch.utils.data import DataLoader\n",
    "train_loader = DataLoader(dataset, batch_size=128, shuffle=True)"
   ]
  },
  {
   "cell_type": "markdown",
   "metadata": {},
   "source": [
    "## Test"
   ]
  },
  {
   "cell_type": "code",
   "execution_count": null,
   "metadata": {},
   "outputs": [],
   "source": [
    "# TODO: Include the test set configuration in the AnoamlyMNIST class\n",
    "from torchvision.datasets import MNIST\n",
    "from torchvision import transforms\n",
    "from torch.utils.data import Subset, DataLoader\n",
    "\n",
    "test_dataset_full = MNIST('data/', train = False, download = True, transform = transform)\n",
    "normal_idx = torch.where((test_dataset_full.targets == 1))[0]\n",
    "anomaly_idx = torch.where((test_dataset_full.targets == 7))[0]\n",
    "idx = torch.cat([normal_idx[:256], anomaly_idx[:256]]) # 512 samples!\n",
    "\n",
    "test_dataset_full.targets = torch.ones_like(test_dataset_full.targets) * -1\n",
    "test_dataset_full.targets[normal_idx] = 0\n",
    "test_dataset_full.targets[anomaly_idx] = 1\n",
    "\n",
    "x_test_set = Subset(test_dataset_full, idx)\n",
    "test_loader =  DataLoader(x_test_set, 512, shuffle=False)"
   ]
  },
  {
   "cell_type": "code",
   "execution_count": null,
   "metadata": {},
   "outputs": [],
   "source": [
    "# TO REMOVE! Just testing!\n",
    "import random\n",
    "random.seed(64)\n",
    "random_idx = random.randint(0, 511)\n",
    "x, y = x_test_set[random_idx]\n",
    "plt.imshow(x[0])\n",
    "print('Anomaly' if y == 1 else 'Normal')"
   ]
  },
  {
   "cell_type": "markdown",
   "metadata": {},
   "source": [
    "# Model"
   ]
  },
  {
   "cell_type": "code",
   "execution_count": null,
   "metadata": {},
   "outputs": [],
   "source": [
    "from torch import nn\n",
    "from VAE.AnomalyDetector import AnomalyDetector\n",
    "from VAE.utils import SGVBL\n",
    "\n",
    "class VAEModel(nn.Module):\n",
    "    def __init__(self, input_size, latent_space):\n",
    "        super(VAEModel, self).__init__()\n",
    "        conv_out_size = input_size // (2*2)\n",
    "        self.encoder = nn.Sequential(\n",
    "            nn.Conv2d(1,16, 3, stride=1, padding=1),\n",
    "            nn.BatchNorm2d(16),\n",
    "            nn.Dropout2d(0.2),\n",
    "            nn.ReLU(),\n",
    "            nn.MaxPool2d(3, stride=2, padding=1),\n",
    "            nn.Conv2d(16, 32, 3, stride=1, padding=1),\n",
    "            nn.BatchNorm2d(32),\n",
    "            nn.Dropout2d(0.2),\n",
    "            nn.ReLU(),\n",
    "            nn.MaxPool2d(3, stride=2, padding=1),\n",
    "            nn.Flatten(),\n",
    "            nn.Linear(32*(conv_out_size**2), 128),\n",
    "            nn.BatchNorm1d(128),\n",
    "            nn.Dropout(0.5),\n",
    "            nn.ReLU(),\n",
    "        )\n",
    "\n",
    "        self.botleneck = AnomalyDetector(128, latent_space)\n",
    "\n",
    "        self.decoder = nn.Sequential(\n",
    "            nn.Linear(latent_space, 128),\n",
    "            nn.BatchNorm1d(128),\n",
    "            # nn.Dropout(0.1),\n",
    "            nn.ReLU(),\n",
    "            nn.Linear(128, 32*(conv_out_size**2)),\n",
    "            nn.BatchNorm1d(32*(conv_out_size**2)),\n",
    "            # nn.Dropout(0.1),\n",
    "            nn.ReLU(),\n",
    "            nn.Unflatten(1, (32, conv_out_size, conv_out_size)),\n",
    "            nn.Upsample(scale_factor=2),\n",
    "            nn.Conv2d(32, 16, 3, stride=1, padding=1),\n",
    "            nn.BatchNorm2d(16),\n",
    "            # nn.Dropout2d(0.1),\n",
    "            nn.ReLU(),\n",
    "            nn.Upsample(scale_factor=2),\n",
    "            nn.Conv2d(16, 1, 3, stride=1, padding=1),\n",
    "        )\n",
    "\n",
    "\n",
    "    def forward(self, x:torch.Tensor) -> torch.Tensor:\n",
    "        x = self.encoder(x)\n",
    "        x = self.botleneck(x)\n",
    "        x = self.decoder(x)\n",
    "        return x\n",
    "\n",
    "model = VAEModel(28, 2)\n",
    "from torch.nn.functional import mse_loss\n",
    "sgvbl = SGVBL(model, len(dataset), mle=mse_loss)"
   ]
  },
  {
   "cell_type": "code",
   "execution_count": null,
   "metadata": {},
   "outputs": [],
   "source": [
    "from ADeLEn.model import ADeLEn\n",
    "from torch.nn.functional import mse_loss\n",
    "\n",
    "# model = ADeLEn((28, 28), [1, 12, 32], [1024, 512, 128, 2], skip_connection=False)\n",
    "model = ADeLEn((28, 28), [1, 12, 32], [1024, 512, 128], bottleneck=2, skip_connection=False)\n",
    "from torch.nn.functional import mse_loss\n",
    "sgvbl = SGVBL(model, len(dataset), mle=mse_loss)"
   ]
  },
  {
   "cell_type": "markdown",
   "metadata": {},
   "source": [
    "# Training"
   ]
  },
  {
   "cell_type": "code",
   "execution_count": null,
   "metadata": {},
   "outputs": [],
   "source": [
    "from VAE.utils import cosine_scheduler\n",
    "plt.plot(cosine_scheduler(100, 1e-3))\n",
    "plt.show()"
   ]
  },
  {
   "cell_type": "code",
   "execution_count": null,
   "metadata": {},
   "outputs": [],
   "source": [
    "device = torch.device('cuda' if torch.cuda.is_available() else 'cpu')\n",
    "model.to(device)\n",
    "model.train()\n",
    "n_epochs = 50\n",
    "\n",
    "from tqdm import tqdm\n",
    "\n",
    "epoch_iterator = tqdm(\n",
    "        range(n_epochs),\n",
    "        leave=True,\n",
    "        unit=\"epoch\",\n",
    "        postfix={\"tls\": \"%.4f\" % -1},\n",
    "    )\n",
    "\n",
    "# Scheduler for the D_KL(.|.)\n",
    "# kl_weight = torch.clip(cosine_scheduler(n_epochs), 0, .99)\n",
    "kl_weight = cosine_scheduler(n_epochs)\n",
    "\n",
    "opt = torch.optim.Adam(model.parameters())\n",
    "for epoch in epoch_iterator:\n",
    "    epoch_loss = 0.\n",
    "    for x, y in train_loader:\n",
    "        # check if there are a target with 1\n",
    "        # if torch.any(y == 1):\n",
    "            # print(\"Anomaly detected\")\n",
    "            # break\n",
    "        x = x.to(device) # GPU\n",
    "        opt.zero_grad()\n",
    "        # x_hat = torch.sigmoid(model(x))\n",
    "        x_hat = torch.tanh(model(x))\n",
    "        loss = sgvbl(x, x_hat, y, kl_weight[epoch])\n",
    "        # loss = sgvbl(x, x_hat, y, 1)\n",
    "        epoch_loss += loss.detach().item()\n",
    "\n",
    "        loss.backward()\n",
    "        opt.step()\n",
    "\n",
    "    epoch_iterator.set_postfix(tls=\"%.3f\" % (epoch_loss/len(train_loader)))"
   ]
  },
  {
   "cell_type": "code",
   "execution_count": null,
   "metadata": {},
   "outputs": [],
   "source": [
    "mse_loss(x, x_hat)"
   ]
  },
  {
   "cell_type": "markdown",
   "metadata": {},
   "source": [
    "# Result"
   ]
  },
  {
   "cell_type": "code",
   "execution_count": null,
   "metadata": {},
   "outputs": [],
   "source": [
    "import numpy as np\n",
    "\n",
    "def plot_latent(model, data, num_batches=100):\n",
    "    model.eval()\n",
    "    fig = plt.figure(figsize=(5,5))\n",
    "    with torch.no_grad():\n",
    "        for i, (x, y) in enumerate(data):\n",
    "            x = x.to(device)\n",
    "            z = model.bottleneck(model.encode_path(x))\n",
    "            z = z.cpu().detach().numpy()\n",
    "            y = y.cpu().detach().numpy()\n",
    "            anomalies = np.where(y == 1)\n",
    "            normal = np.where(y == 0)\n",
    "            if i == 0:\n",
    "                plt.scatter(z[normal, 0], z[normal, 1], c='r', alpha=.7, label='normal')\n",
    "                plt.scatter(z[anomalies, 0], z[anomalies, 1], c='b', alpha=.7, label='anomalies')\n",
    "            else:\n",
    "                plt.scatter(z[normal, 0], z[normal, 1], c='r',alpha=.7)\n",
    "                plt.scatter(z[anomalies, 0], z[anomalies, 1], c='b',alpha=.7)\n",
    "           \n",
    "            if i > num_batches:\n",
    "                plt.legend()\n",
    "                return\n",
    "    plt.legend()\n",
    "    return fig"
   ]
  },
  {
   "cell_type": "code",
   "execution_count": null,
   "metadata": {},
   "outputs": [],
   "source": [
    "model.eval()\n",
    "# model.train()\n",
    "fig = plot_latent(model, test_loader, num_batches=25)\n",
    "plt.savefig('figures/latent_space_test.png', dpi=300, bbox_inches='tight')"
   ]
  },
  {
   "cell_type": "markdown",
   "metadata": {},
   "source": [
    "## Sampling normal and anomaly sample"
   ]
  },
  {
   "cell_type": "code",
   "execution_count": null,
   "metadata": {},
   "outputs": [],
   "source": [
    "x, y = next(iter(test_loader))\n",
    "x_0 = x[torch.argwhere(y==0).squeeze()[150]].unsqueeze(0)\n",
    "x_1 = x[torch.argwhere(y==1).squeeze()[152]].unsqueeze(0)\n",
    "\n",
    "print(x_0.shape)\n",
    "\n",
    "plt.subplot(1,2,1)\n",
    "plt.imshow(x_0[0,0])\n",
    "plt.axis('off')\n",
    "plt.subplot(1,2,2)\n",
    "plt.imshow(x_1[0,0])\n",
    "plt.axis('off')\n",
    "plt.savefig('figures/anomalies.png', bbox_inches='tight')\n",
    "\n",
    "model.eval()\n",
    "z_0, z_1 = [], []\n",
    "for i in range(100):\n",
    "    z_0.append(model.bottleneck(model.encode_path(x_0.to(device))).detach().cpu())\n",
    "    z_1.append(model.bottleneck(model.encode_path(x_1.to(device))).detach().cpu())"
   ]
  },
  {
   "cell_type": "code",
   "execution_count": null,
   "metadata": {},
   "outputs": [],
   "source": []
  },
  {
   "cell_type": "code",
   "execution_count": null,
   "metadata": {},
   "outputs": [],
   "source": [
    "fig = plt.figure(figsize=(10,5))\n",
    "plt.subplot(1,2,1)\n",
    "plt.scatter(torch.cat(z_0)[:,0], torch.cat(z_0)[:,1], c='r')\n",
    "plt.subplot(1,2,2)\n",
    "plt.scatter(torch.cat(z_1)[:,0], torch.cat(z_1)[:,1], c='b')\n",
    "plt.savefig('figures/anomalies_latent_sample.png', bbox_inches='tight')"
   ]
  },
  {
   "cell_type": "code",
   "execution_count": null,
   "metadata": {},
   "outputs": [],
   "source": [
    "x = torch.cat([x_0, x_1]).to(device)\n",
    "print(x.shape)\n",
    "\n",
    "model.eval()\n",
    "with torch.no_grad():\n",
    "    x_hat = model(x)\n",
    "\n",
    "model.bottleneck.sigma.detach(), model.bottleneck.mu.detach()"
   ]
  },
  {
   "cell_type": "code",
   "execution_count": null,
   "metadata": {},
   "outputs": [],
   "source": [
    "x_0.shape"
   ]
  },
  {
   "cell_type": "markdown",
   "metadata": {},
   "source": [
    "## Reconstruction"
   ]
  },
  {
   "cell_type": "code",
   "execution_count": null,
   "metadata": {},
   "outputs": [],
   "source": [
    "import numpy as np\n",
    "def plot_reconstructed(autoencoder, r0=(-10, 10), r1=(-10, 10), n=12):\n",
    "    w = 28\n",
    "    img = np.zeros((n*w, n*w))\n",
    "    fig = plt.figure(figsize=(5, 5))\n",
    "    for i, y in enumerate(np.linspace(*r1, n)):\n",
    "        for j, x in enumerate(np.linspace(*r0, n)):\n",
    "            z = torch.Tensor([[x, y]]).to(device)\n",
    "            x_hat = torch.sigmoid(autoencoder.decoder(z))\n",
    "            x_hat = x_hat.reshape(28, 28).to('cpu').detach().numpy()\n",
    "            img[(n-1-i)*w:(n-1-i+1)*w, j*w:(j+1)*w] = x_hat\n",
    "    plt.imshow(img, extent=[*r0, *r1])\n",
    "    plt.xlabel('$\\mathcal{N}(x;0,\\sigma_1)$')\n",
    "    plt.ylabel('$\\mathcal{N}(x;0,\\sigma_2)$')\n",
    "    # plt.axis('off')\n",
    "    return fig\n",
    "\n",
    "import numpy as np\n",
    "def plot_reconstructed(model, r0=(-10, 10), r1=(-10, 10), n=12):\n",
    "    w = 28\n",
    "    img = np.zeros((n*w, n*w))\n",
    "\n",
    "    for i, y in enumerate(np.linspace(*r1, n)):\n",
    "        for j, x in enumerate(np.linspace(*r0, n)):\n",
    "            z = torch.Tensor([[x, y]]).to(device)\n",
    "            x_hat = torch.tanh(model.decode_path(z)) # ADeLEn\n",
    "            # x_hat = torch.tanh(autoencoder.decoder(z))\n",
    "            x_hat = x_hat.reshape(w, w).to('cpu').detach().numpy()\n",
    "            img[(n-1-i)*w:(n-1-i+1)*w, j*w:(j+1)*w] = x_hat\n",
    "    \n",
    "    plt.xlabel('$\\mathcal{N}(0, \\sigma_1)$', fontsize='x-large')\n",
    "    plt.ylabel('$\\mathcal{N}(0, \\sigma_2)$', fontsize='x-large')\n",
    "    plt.imshow(img, extent=[*r0, *r1], cmap='viridis')"
   ]
  },
  {
   "cell_type": "code",
   "execution_count": null,
   "metadata": {},
   "outputs": [],
   "source": [
    "model.eval()\n",
    "fig = plot_reconstructed(model.to(device), r0=(-5, 5), r1=(-5, 5), n=15)\n",
    "plt.savefig('figures/reconstructed.pdf', bbox_inches='tight')\n",
    "plt.show(fig)"
   ]
  },
  {
   "cell_type": "code",
   "execution_count": null,
   "metadata": {},
   "outputs": [],
   "source": [
    "test_idx = torch.linspace(0, 511, 6, dtype=int)\n",
    "x, y = next(iter(test_loader))\n",
    "x_hat = torch.sigmoid(model(x.cuda()).detach().cpu())\n",
    "z = model.botleneck(model.encoder(x.cuda())).detach().cpu()\n",
    "\n",
    "for i, idx in enumerate(test_idx):\n",
    "    plt.subplot(1, 2*len(test_idx), 2*(i+1)-1)\n",
    "    plt.imshow(x[idx, 0])\n",
    "    plt.axis('off')\n",
    "\n",
    "    plt.subplot(1, 2*len(test_idx), 2*(i+1))\n",
    "    plt.imshow(x_hat[idx,0])\n",
    "    plt.axis('off')\n",
    "\n",
    "plt.show()\n",
    "\n",
    "plt.scatter(z[test_idx, 0], z[test_idx, 1], c=y[test_idx] )\n",
    "plt.show()"
   ]
  },
  {
   "cell_type": "code",
   "execution_count": null,
   "metadata": {},
   "outputs": [],
   "source": [
    "import os, sys\n",
    "project_dir = os.path.join(os.getcwd(),'..')\n",
    "if project_dir not in sys.path:\n",
    "    sys.path.append(project_dir)\n",
    "\n",
    "from matplotlib import pyplot as plt\n",
    "import torch\n",
    "\n",
    "from ADeLEn.encoder import ConvEncoder, LinearEncoder\n",
    "test = ConvEncoder([1, 12, 32])\n",
    "test.get_encoded_size((28, 28))"
   ]
  },
  {
   "cell_type": "code",
   "execution_count": null,
   "metadata": {},
   "outputs": [],
   "source": [
    "from ADeLEn.decoder import ConvDecoder, LinearDecoder\n",
    "test = ConvDecoder([1, 12, 32], False, True)\n",
    "test2 = LinearDecoder([1, 12, 32], False, True)"
   ]
  },
  {
   "cell_type": "code",
   "execution_count": null,
   "metadata": {},
   "outputs": [],
   "source": [
    "from functools import reduce\n",
    "from torch import nn\n",
    "from VAE.AnomalyDetector import AnomalyDetector\n",
    "class Model(nn.Module):\n",
    "    def __init__(self, img_in_size: tuple):\n",
    "        super(Model, self).__init__()\n",
    "        self.encoder = self.__encode_path__(img_in_size)\n",
    "        self.bottleneck = AnomalyDetector(128, 2)\n",
    "        self.decoder = self.__decode_path__(self.encoder[0].get_encoded_size(img_in_size))\n",
    "        \n",
    "    def forward(self, x):\n",
    "        x = self.encoder(x)\n",
    "        x = self.bottleneck(x)\n",
    "        x = self.decoder(x)\n",
    "        return x\n",
    "    \n",
    "    def __encode_path__(self, img_in_size):\n",
    "        conv_encoder = ConvEncoder([1, 12, 32])\n",
    "        _out_size = reduce(lambda x, y: x*y, conv_encoder.get_encoded_size(img_in_size))\n",
    "        linear_encoder = LinearEncoder([_out_size, 128])\n",
    "\n",
    "        return nn.Sequential(\n",
    "            conv_encoder,\n",
    "            nn.Flatten(),\n",
    "            linear_encoder\n",
    "        )\n",
    "    \n",
    "    def __decode_path__(self, img_in_size:tuple):\n",
    "        _out_size = reduce(lambda x, y: x*y, img_in_size)\n",
    "        linear_decoder = LinearDecoder([2, 128, _out_size], False, False)\n",
    "        conv_decoder = ConvDecoder([32, 12, 1], False, True)\n",
    "\n",
    "        return nn.Sequential(\n",
    "            linear_decoder,\n",
    "            nn.Unflatten(1, img_in_size),\n",
    "            conv_decoder\n",
    "        )"
   ]
  },
  {
   "cell_type": "code",
   "execution_count": null,
   "metadata": {},
   "outputs": [],
   "source": [
    "model = Model((32, 32))\n",
    "\n",
    "x = torch.randn(2, 1, 32, 32)\n",
    "model(x)"
   ]
  },
  {
   "cell_type": "code",
   "execution_count": null,
   "metadata": {},
   "outputs": [],
   "source": [
    "class ADeLEn(nn.Module):\n",
    "    '''\n",
    "        Constraints:\n",
    "            1. image size must be a square.\n",
    "            2. Encoder's output estimated in the initialization.\n",
    "    '''\n",
    "    def __init__(self, img_size:int, conv_encoder:list, linear_encoder:list, bottleneck=2, skip_connection=False) -> None:\n",
    "        ''' \n",
    "            Skip Connection is not implemented yet.\n",
    "        '''\n",
    "        super(ADeLEn, self).__init__()\n",
    "        self.skip_connection = skip_connection\n",
    "\n",
    "        self.encode_path = self.__encode_path__(conv_encoder, linear_encoder, img_size)\n",
    "        self.bottleneck = AnomalyDetector(linear_encoder[-1], bottleneck)\n",
    "        self.decode_path = self.__decode_path__(conv_encoder[::-1], [bottleneck, *linear_encoder[::-1]], self.encode_path[0].get_encoded_size(img_size))\n",
    "\n",
    "    def forward(self, x: torch.Tensor) -> torch.Tensor:\n",
    "        x = self.encode_path(x)\n",
    "        # sk = None \n",
    "        # if self.skip_connection:\n",
    "        #     x, sk = x            \n",
    "        x = self.bottleneck(x)\n",
    "        # x = self.decode_path(x, skip=sk)\n",
    "        x = self.decode_path(x)\n",
    "        return x\n",
    "    \n",
    "    def __encode_path__(self, channels:list, linear_encoder:list, img_size):\n",
    "        conv_encoder = ConvEncoder(channels)\n",
    "        _out_size = reduce(lambda x, y: x*y, conv_encoder.get_encoded_size(img_size))\n",
    "        linear_encoder = LinearEncoder([_out_size, *linear_encoder])\n",
    "\n",
    "        return nn.Sequential(\n",
    "            conv_encoder,\n",
    "            nn.Flatten(),\n",
    "            linear_encoder\n",
    "        )\n",
    "    \n",
    "    def __decode_path__(self, conv_decoder:list, linear_decoder:list, encoded_size:tuple):\n",
    "        _out_size = reduce(lambda x, y: x*y, encoded_size)\n",
    "        linear_decoder = LinearDecoder([*linear_decoder, _out_size], False, False)\n",
    "        conv_decoder = ConvDecoder(conv_decoder, False, True)\n",
    "\n",
    "        return nn.Sequential(\n",
    "            linear_decoder,\n",
    "            nn.Unflatten(1, encoded_size),\n",
    "            conv_decoder\n",
    "        )"
   ]
  },
  {
   "cell_type": "code",
   "execution_count": null,
   "metadata": {},
   "outputs": [],
   "source": [
    "model = ADeLEn((28,28), [1, 12, 32], [1024, 512, 128], 2, skip_connection=False)\n",
    "x = torch.randn(2, 1, 28, 28)\n",
    "model(x).shape"
   ]
  }
 ],
 "metadata": {
  "kernelspec": {
   "display_name": "DeepLearning",
   "language": "python",
   "name": "python3"
  },
  "language_info": {
   "codemirror_mode": {
    "name": "ipython",
    "version": 3
   },
   "file_extension": ".py",
   "mimetype": "text/x-python",
   "name": "python",
   "nbconvert_exporter": "python",
   "pygments_lexer": "ipython3",
   "version": "3.10.9"
  },
  "orig_nbformat": 4
 },
 "nbformat": 4,
 "nbformat_minor": 2
}
