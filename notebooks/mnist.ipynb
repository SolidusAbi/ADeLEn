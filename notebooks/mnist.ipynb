{
 "cells": [
  {
   "cell_type": "code",
   "execution_count": 1,
   "metadata": {},
   "outputs": [],
   "source": [
    "import os, sys\n",
    "project_dir = os.path.join(os.getcwd(),'..')\n",
    "if project_dir not in sys.path:\n",
    "    sys.path.append(project_dir)\n",
    "\n",
    "from matplotlib import pyplot as plt\n",
    "import torch"
   ]
  },
  {
   "cell_type": "markdown",
   "metadata": {},
   "source": [
    "# MNIST Dataset"
   ]
  },
  {
   "cell_type": "markdown",
   "metadata": {},
   "source": [
    "## Train"
   ]
  },
  {
   "cell_type": "code",
   "execution_count": 2,
   "metadata": {},
   "outputs": [
    {
     "name": "stdout",
     "output_type": "stream",
     "text": [
      "AnomalyMNIST Dataset (Number of samples: 2400, Number of known anomalies: 200, Number of unknown anomalies: 200)\n"
     ]
    },
    {
     "data": {
      "image/png": "[encoded data removed]",
      "text/plain": [
       "<Figure size 1000x1000 with 25 Axes>"
      ]
     },
     "metadata": {},
     "output_type": "display_data"
    }
   ],
   "source": [
    "from dataset import AnomalyMNIST\n",
    "from torchvision.transforms import Normalize,ToTensor, Compose\n",
    "\n",
    "\n",
    "seed = 42\n",
    "transform = Compose([ToTensor(), Normalize((0.5,), (0.5,))])\n",
    "\n",
    "# dataset = AnomalyMNIST('data/', download=True, transform=transform, n_known_anomalies=512, pollution=0.25, seed=seed)\n",
    "dataset = AnomalyMNIST('data/', download=True, transform=transform, n_normal_samples=2000, known_anomalies=0.1, pollution=0.1, seed=seed)\n",
    "print(dataset)\n",
    "\n",
    "dataset.montage(5, 5, seed)\n",
    "plt.show()"
   ]
  },
  {
   "cell_type": "code",
   "execution_count": 3,
   "metadata": {},
   "outputs": [],
   "source": [
    "from torch.utils.data import DataLoader\n",
    "train_loader = DataLoader(dataset, batch_size=128, shuffle=True)"
   ]
  },
  {
   "cell_type": "markdown",
   "metadata": {},
   "source": [
    "## Test"
   ]
  },
  {
   "cell_type": "code",
   "execution_count": 4,
   "metadata": {},
   "outputs": [],
   "source": [
    "# TODO: Include the test set configuration in the AnoamlyMNIST class\n",
    "from torchvision.datasets import MNIST\n",
    "from torchvision import transforms\n",
    "from torch.utils.data import Subset, DataLoader\n",
    "\n",
    "test_dataset_full = MNIST('data/', train = False, download = True, transform = transform)\n",
    "normal_idx = torch.where((test_dataset_full.targets == 1))[0]\n",
    "anomaly_idx = torch.where((test_dataset_full.targets == 7))[0]\n",
    "idx = torch.cat([normal_idx[:256], anomaly_idx[:256]]) # 512 samples!\n",
    "\n",
    "test_dataset_full.targets = torch.ones_like(test_dataset_full.targets) * -1\n",
    "test_dataset_full.targets[normal_idx] = 0\n",
    "test_dataset_full.targets[anomaly_idx] = 1\n",
    "\n",
    "x_test_set = Subset(test_dataset_full, idx)\n",
    "test_loader =  DataLoader(x_test_set, 512, shuffle=False)"
   ]
  },
  {
   "cell_type": "code",
   "execution_count": 5,
   "metadata": {},
   "outputs": [
    {
     "name": "stdout",
     "output_type": "stream",
     "text": [
      "Anomaly\n"
     ]
    },
    {
     "data": {
      "image/png": "[encoded data removed]",
      "text/plain": [
       "<Figure size 640x480 with 1 Axes>"
      ]
     },
     "metadata": {},
     "output_type": "display_data"
    }
   ],
   "source": [
    "# TO REMOVE! Just testing!\n",
    "import random\n",
    "random.seed(64)\n",
    "random_idx = random.randint(0, 511)\n",
    "x, y = x_test_set[random_idx]\n",
    "plt.imshow(x[0])\n",
    "print('Anomaly' if y == 1 else 'Normal')"
   ]
  },
  {
   "cell_type": "markdown",
   "metadata": {},
   "source": [
    "# Model"
   ]
  },
  {
   "cell_type": "code",
   "execution_count": 6,
   "metadata": {},
   "outputs": [],
   "source": [
    "from ADeLEn.model import ADeLEn\n",
    "from torch.nn.functional import mse_loss\n",
    "from VAE.loss import SGVBL\n",
    "\n",
    "# model = ADeLEn((28, 28), [1, 12, 32], [1024, 512, 128, 2], skip_connection=False)\n",
    "d = 10\n",
    "model = ADeLEn((28, 28), [1, 16, 24], [1024, 256, 32], bottleneck=d, skip_connection=False)\n",
    "from torch.nn.functional import mse_loss\n",
    "sgvbl = SGVBL(model, len(dataset), mle=mse_loss)"
   ]
  },
  {
   "cell_type": "markdown",
   "metadata": {},
   "source": [
    "# Training"
   ]
  },
  {
   "cell_type": "code",
   "execution_count": 7,
   "metadata": {},
   "outputs": [],
   "source": [
    "def _weights(dataset):\n",
    "    import numpy as np\n",
    "    _, y = zip(*dataset)\n",
    "    y = torch.tensor(y)\n",
    "\n",
    "    count = torch.bincount(y)\n",
    "    weights = 1. / np.array(count)\n",
    "    weights /= weights.sum()\n",
    "\n",
    "    return weights[y]\n",
    "\n",
    "def train(model, dataset, batch_size, n_epochs, lr=1e-3, kl_weight=1, weighted_sampler=False):\n",
    "    from tqdm import tqdm\n",
    "    from torch.utils.data import DataLoader\n",
    "    from torch.optim import Adam\n",
    "    \n",
    "    if weighted_sampler:\n",
    "        sampler = torch.utils.data.WeightedRandomSampler(_weights(dataset), len(dataset), replacement=True)\n",
    "        train_loader = DataLoader(dataset, batch_size=batch_size, sampler=sampler)\n",
    "    else:\n",
    "        train_loader = DataLoader(dataset, batch_size=batch_size, shuffle=True)\n",
    "        \n",
    "    device = torch.device('cuda' if torch.cuda.is_available() else 'cpu')\n",
    "    model.to(device)\n",
    "    model.train()\n",
    "\n",
    "    epoch_iterator = tqdm(\n",
    "            range(n_epochs),\n",
    "            leave=True,\n",
    "            unit=\"epoch\",\n",
    "            postfix={\"tls\": \"%.4f\" % -1},\n",
    "        )\n",
    "    \n",
    "    opt = Adam(model.parameters(), lr=lr)\n",
    "\n",
    "    for _ in epoch_iterator:\n",
    "        epoch_loss = 0.\n",
    "        for x, y in train_loader:\n",
    "            x = x.to(device) \n",
    "            opt.zero_grad()\n",
    "            x_hat = torch.tanh(model(x))\n",
    "            loss = sgvbl(x, x_hat, y, kl_weight)\n",
    "            epoch_loss += loss.detach().item()\n",
    "\n",
    "            loss.backward()\n",
    "            opt.step()\n",
    "\n",
    "        epoch_iterator.set_postfix(tls=\"%.3f\" % (epoch_loss/len(train_loader)))\n",
    "\n",
    "    return model.eval().cpu()\n"
   ]
  },
  {
   "cell_type": "code",
   "execution_count": 8,
   "metadata": {},
   "outputs": [
    {
     "name": "stderr",
     "output_type": "stream",
     "text": [
      "100%|██████████| 50/50 [00:15<00:00,  3.15epoch/s, tls=513.621] \n"
     ]
    }
   ],
   "source": [
    "model = train(model, dataset, 128, 50, 1e-3, 1, weighted_sampler=False)"
   ]
  },
  {
   "cell_type": "markdown",
   "metadata": {},
   "source": [
    "# Result"
   ]
  },
  {
   "cell_type": "code",
   "execution_count": null,
   "metadata": {},
   "outputs": [],
   "source": [
    "import numpy as np\n",
    "\n",
    "def plot_latent(model, data, num_batches=100):\n",
    "    fig = plt.figure(figsize=(5,5))\n",
    "    with torch.no_grad():\n",
    "        for i, (x, y) in enumerate(data):\n",
    "            # x = x.to(device)\n",
    "            z = model.bottleneck(model.encode_path(x))\n",
    "            z = z.cpu().detach().numpy()\n",
    "            y = y.cpu().detach().numpy()\n",
    "            anomalies = np.where(y == 1)\n",
    "            normal = np.where(y == 0)\n",
    "            if i == 0:\n",
    "                plt.scatter(z[normal, 0], z[normal, 1], c='r', alpha=.7, label='normal')\n",
    "                plt.scatter(z[anomalies, 0], z[anomalies, 1], c='b', alpha=.7, label='anomalies')\n",
    "            else:\n",
    "                plt.scatter(z[normal, 0], z[normal, 1], c='r',alpha=.7)\n",
    "                plt.scatter(z[anomalies, 0], z[anomalies, 1], c='b',alpha=.7)\n",
    "           \n",
    "            if i > num_batches:\n",
    "                plt.legend()\n",
    "                return\n",
    "    plt.legend()\n",
    "    return fig"
   ]
  },
  {
   "cell_type": "code",
   "execution_count": null,
   "metadata": {},
   "outputs": [],
   "source": [
    "fig = plot_latent(model, test_loader, num_batches=25)\n",
    "plt.savefig('figures/latent_space_test.png', dpi=300, bbox_inches='tight')"
   ]
  },
  {
   "cell_type": "markdown",
   "metadata": {},
   "source": [
    "## Sampling normal and anomaly sample"
   ]
  },
  {
   "cell_type": "code",
   "execution_count": null,
   "metadata": {},
   "outputs": [],
   "source": [
    "x, y = next(iter(test_loader))\n",
    "x_0 = x[torch.argwhere(y==0).squeeze()[150]].unsqueeze(0)\n",
    "x_1 = x[torch.argwhere(y==1).squeeze()[152]].unsqueeze(0)\n",
    "\n",
    "print(x_0.shape)\n",
    "\n",
    "plt.subplot(1,2,1)\n",
    "plt.imshow(x_0[0,0])\n",
    "plt.axis('off')\n",
    "plt.subplot(1,2,2)\n",
    "plt.imshow(x_1[0,0])\n",
    "plt.axis('off')\n",
    "plt.savefig('figures/anomalies.png', bbox_inches='tight')\n",
    "\n",
    "z_0, z_1 = [], []\n",
    "for i in range(100):\n",
    "    z_0.append(model.bottleneck(model.encode_path(x_0)).detach().cpu())\n",
    "    z_1.append(model.bottleneck(model.encode_path(x_1)).detach().cpu())"
   ]
  },
  {
   "cell_type": "code",
   "execution_count": null,
   "metadata": {},
   "outputs": [],
   "source": [
    "fig = plt.figure(figsize=(10,5))\n",
    "plt.subplot(1,2,1)\n",
    "plt.scatter(torch.cat(z_0)[:,0], torch.cat(z_0)[:,1], c='r')\n",
    "plt.subplot(1,2,2)\n",
    "plt.scatter(torch.cat(z_1)[:,0], torch.cat(z_1)[:,1], c='b')\n",
    "plt.savefig('figures/anomalies_latent_sample.png', bbox_inches='tight')"
   ]
  },
  {
   "cell_type": "code",
   "execution_count": null,
   "metadata": {},
   "outputs": [],
   "source": [
    "x = torch.cat([x_0, x_1])\n",
    "print(x.shape)\n",
    "\n",
    "with torch.no_grad():\n",
    "    x_hat = model(x)\n",
    "\n",
    "model.bottleneck.sigma.detach(), model.bottleneck.mu.detach()"
   ]
  },
  {
   "cell_type": "code",
   "execution_count": null,
   "metadata": {},
   "outputs": [],
   "source": [
    "x, y = next(iter(test_loader))\n",
    "x_0 = x[torch.argwhere(y==0).squeeze()[:200]]\n",
    "x_1 = x[torch.argwhere(y==1).squeeze()[:200]]\n",
    "\n",
    "x = torch.cat([x_0, x_1])\n",
    "with torch.no_grad():\n",
    "    x_hat = model(x)\n",
    "\n",
    "model.bottleneck.sigma[:200].detach().mean(), model.bottleneck.sigma[200:400].detach().mean()"
   ]
  },
  {
   "cell_type": "code",
   "execution_count": null,
   "metadata": {},
   "outputs": [],
   "source": [
    "# Get the idx of the highest 3 sigma\n",
    "idx = torch.argsort(model.bottleneck.sigma[:200].mean(axis=1), descending=True)\n",
    "model.bottleneck.sigma[idx[:3]]\n",
    "\n",
    "to_show = x[idx[:3]]\n",
    "fig = plt.figure(figsize=(10,5))\n",
    "for i in range(3):\n",
    "    plt.subplot(1,3,i+1)\n",
    "    plt.imshow(to_show[i,0])\n",
    "    plt.axis('off')"
   ]
  },
  {
   "cell_type": "markdown",
   "metadata": {},
   "source": [
    "## Reconstruction"
   ]
  },
  {
   "cell_type": "code",
   "execution_count": null,
   "metadata": {},
   "outputs": [],
   "source": [
    "import numpy as np\n",
    "def plot_reconstructed(model, r0=(-10, 10), r1=(-10, 10), n=12):\n",
    "    model.eval()\n",
    "    w = 28\n",
    "    img = np.zeros((n*w, n*w))\n",
    "\n",
    "    fig = plt.figure(figsize=(5, 5))\n",
    "\n",
    "    for i, y in enumerate(np.linspace(*r1, n)):\n",
    "        for j, x in enumerate(np.linspace(*r0, n)):\n",
    "            z = torch.Tensor([[x, y]])\n",
    "            x_hat = torch.tanh(model.decode_path(z)) # ADeLEn\n",
    "            x_hat = x_hat.reshape(w, w).to('cpu').detach().numpy()\n",
    "            img[(n-1-i)*w:(n-1-i+1)*w, j*w:(j+1)*w] = x_hat\n",
    "    \n",
    "    plt.xlabel('$\\mathcal{N}(0, \\sigma_1)$', fontsize='x-large')\n",
    "    plt.ylabel('$\\mathcal{N}(0, \\sigma_2)$', fontsize='x-large')\n",
    "    plt.tick_params(axis='both', which='major', labelsize='large')\n",
    "    plt.imshow(img, extent=[*r0, *r1], cmap='viridis')\n",
    "\n",
    "    return fig"
   ]
  },
  {
   "cell_type": "code",
   "execution_count": null,
   "metadata": {},
   "outputs": [],
   "source": [
    "fig = plot_reconstructed(model, r0=(-6, 6), r1=(-6, 6), n=15)\n",
    "plt.savefig('figures/reconstructed.pdf', bbox_inches='tight')\n",
    "plt.show(fig)"
   ]
  },
  {
   "cell_type": "code",
   "execution_count": null,
   "metadata": {},
   "outputs": [],
   "source": [
    "test_idx = torch.linspace(0, 511, 6, dtype=int)\n",
    "x, y = next(iter(test_loader))\n",
    "x_hat = torch.tanh(model(x).detach().cpu())\n",
    "z = model.bottleneck(model.encode_path(x)).detach().cpu()\n",
    "\n",
    "for i, idx in enumerate(test_idx):\n",
    "    plt.subplot(1, 2*len(test_idx), 2*(i+1)-1)\n",
    "    plt.imshow(x[idx, 0])\n",
    "    plt.axis('off')\n",
    "\n",
    "    plt.subplot(1, 2*len(test_idx), 2*(i+1))\n",
    "    plt.imshow(x_hat[idx,0])\n",
    "    plt.axis('off')\n",
    "\n",
    "plt.show()\n",
    "\n",
    "plt.scatter(z[test_idx, 0], z[test_idx, 1], c=y[test_idx] )\n",
    "plt.show()"
   ]
  },
  {
   "cell_type": "markdown",
   "metadata": {},
   "source": [
    "# Test"
   ]
  },
  {
   "cell_type": "code",
   "execution_count": 41,
   "metadata": {},
   "outputs": [
    {
     "name": "stdout",
     "output_type": "stream",
     "text": [
      "Normal: 1135 samples; Anomalies: 1028 samples\n"
     ]
    }
   ],
   "source": [
    "from torchvision.datasets import MNIST\n",
    "\n",
    "test_dataset = MNIST('data/', train = False, download = True, transform = transform)\n",
    "# extract the 1's and 7's\n",
    "normal_idx = torch.where((test_dataset.targets == 1))[0]\n",
    "anomaly_idx = torch.where((test_dataset.targets == 7))[0]\n",
    "\n",
    "print('Normal: {} samples; Anomalies: {} samples'.format(len(normal_idx), len(anomaly_idx)))\n",
    "\n",
    "test_dataset = Subset(test_dataset, torch.cat([normal_idx, anomaly_idx]))\n",
    "test_loader = DataLoader(test_dataset, 3000, shuffle=False)\n",
    "\n",
    "# for x, y in test"
   ]
  },
  {
   "cell_type": "code",
   "execution_count": 42,
   "metadata": {},
   "outputs": [],
   "source": [
    "x, y = next(iter(test_loader))\n",
    "y[y==1] = 0\n",
    "y[y==7] = 1\n",
    "_ = model(x)"
   ]
  },
  {
   "cell_type": "code",
   "execution_count": 43,
   "metadata": {},
   "outputs": [
    {
     "data": {
      "image/png": "[encoded data removed]",
      "text/plain": [
       "<Figure size 640x480 with 1 Axes>"
      ]
     },
     "metadata": {},
     "output_type": "display_data"
    }
   ],
   "source": [
    "model.train()\n",
    "y_score = model.score_samples(x)\n",
    "\n",
    "from sklearn.metrics import roc_curve, auc, roc_auc_score\n",
    "fpr, tpr, _ = roc_curve(y, y_score)\n",
    "roc_auc = auc(fpr, tpr)\n",
    "\n",
    "plt.plot(fpr, tpr, label='ROC curve (area = %0.2f)' % roc_auc)\n",
    "plt.plot([0, 1], [0, 1], 'k--')\n",
    "plt.xlabel('False Positive Rate')\n",
    "plt.ylabel('True Positive Rate')\n",
    "plt.title('Receiver Operating Characteristic')\n",
    "plt.legend(loc=\"lower right\")\n",
    "plt.show()\n"
   ]
  },
  {
   "cell_type": "code",
   "execution_count": 44,
   "metadata": {},
   "outputs": [
    {
     "data": {
      "text/plain": [
       "0.995454155882"
      ]
     },
     "execution_count": 44,
     "metadata": {},
     "output_type": "execute_result"
    }
   ],
   "source": [
    "import torch\n",
    "from sklearn.metrics import roc_curve, auc\n",
    "model.eval()\n",
    "x, y = zip(*[(_x, _y) for _x, _y in test_dataset])\n",
    "x = torch.stack(x)\n",
    "y = torch.tensor(y)\n",
    "y[y==1] = 0\n",
    "y[y==7] = 1\n",
    "\n",
    "y_score = model.score_samples(x, normalize=True)\n",
    "# sigma = experiment.model.bottleneck.sigma\n",
    "# normalize = np.log(2*torch.pi*torch.e)\n",
    "# y_score = 0.5 * (len(sigma) * normalize + torch.log(torch.sum(sigma, dim=1)).detach().numpy())\n",
    "# # y_score = normalize + torch.log(torch.prod(sigma, dim=1)).detach().numpy()\n",
    "        \n",
    "fpr, tpr, thresholds = roc_curve(y, y_score)\n",
    "roc_auc = auc(fpr, tpr)\n",
    "\n",
    "roc_auc"
   ]
  },
  {
   "cell_type": "code",
   "execution_count": 45,
   "metadata": {},
   "outputs": [
    {
     "data": {
      "text/plain": [
       "15.100993116016499"
      ]
     },
     "execution_count": 45,
     "metadata": {},
     "output_type": "execute_result"
    }
   ],
   "source": [
    "import numpy as np\n",
    "def threshold(sigma, d) -> float:\n",
    "        score = d*np.log(sigma)\n",
    "        gauss = d * np.log(2*torch.pi*torch.e)\n",
    "        return .5 * (gauss + score)\n",
    "\n",
    "threshold(1.2, d=d)"
   ]
  },
  {
   "cell_type": "code",
   "execution_count": 30,
   "metadata": {},
   "outputs": [
    {
     "name": "stdout",
     "output_type": "stream",
     "text": [
      "              precision    recall  f1-score   support\n",
      "\n",
      "           0       0.95      1.00      0.98      1135\n",
      "           1       1.00      0.95      0.97      1028\n",
      "\n",
      "    accuracy                           0.97      2163\n",
      "   macro avg       0.98      0.97      0.97      2163\n",
      "weighted avg       0.97      0.97      0.97      2163\n",
      "\n"
     ]
    },
    {
     "data": {
      "text/plain": [
       "array([[1133,    2],\n",
       "       [  56,  972]])"
      ]
     },
     "execution_count": 30,
     "metadata": {},
     "output_type": "execute_result"
    }
   ],
   "source": [
    "y_score = model.score_samples(x, normalize=True)\n",
    "y_pred = np.where(y_score > threshold(1.2, d), 1, 0)\n",
    "from sklearn.metrics import classification_report\n",
    "print(classification_report(y, y_pred, zero_division=1))\n",
    "\n",
    "# confusion matrix\n",
    "from sklearn.metrics import confusion_matrix\n",
    "confusion_matrix(y, y_pred)"
   ]
  },
  {
   "cell_type": "code",
   "execution_count": 31,
   "metadata": {},
   "outputs": [
    {
     "data": {
      "text/plain": [
       "array([0, 0, 0, ..., 1, 1, 1])"
      ]
     },
     "execution_count": 31,
     "metadata": {},
     "output_type": "execute_result"
    }
   ],
   "source": [
    "y_pred"
   ]
  },
  {
   "cell_type": "code",
   "execution_count": 32,
   "metadata": {},
   "outputs": [
    {
     "data": {
      "image/png": "[encoded data removed]",
      "text/plain": [
       "<Figure size 640x480 with 1 Axes>"
      ]
     },
     "metadata": {},
     "output_type": "display_data"
    }
   ],
   "source": [
    "from matplotlib import pyplot as plt\n",
    "plt.hist(y_score[y==0], bins=15, alpha=0.5, label='Normal')\n",
    "plt.hist(y_score[y==1], bins=15, alpha=0.5, label='Anomaly')\n",
    "plt.show()"
   ]
  },
  {
   "cell_type": "code",
   "execution_count": 33,
   "metadata": {},
   "outputs": [
    {
     "data": {
      "image/png": "[encoded data removed]",
      "text/plain": [
       "<Figure size 640x480 with 1 Axes>"
      ]
     },
     "metadata": {},
     "output_type": "display_data"
    }
   ],
   "source": [
    "x, y = zip(*[(_x, _y) for _x, _y in dataset])\n",
    "\n",
    "x = torch.stack(x)\n",
    "y = torch.tensor(y)\n",
    "\n",
    "x0 = x[y==0]\n",
    "x0_idx = torch.randperm(len(x0))[:100]\n",
    "x0 = x0[x0_idx]\n",
    "x1 = x[y==1]\n",
    "x1_idx = torch.randperm(len(x1))[:100]\n",
    "x1 = x1[x1_idx]\n",
    "\n",
    "x = torch.cat([x0, x1])\n",
    "y = torch.cat([torch.zeros(100), torch.ones(100)])\n",
    "\n",
    "y_score = model.score_samples(x, normalize=True)\n",
    "fpr, tpr, thresholds = roc_curve(y, y_score)\n",
    "roc_auc = auc(fpr, tpr)\n",
    "\n",
    "from matplotlib import pyplot as plt\n",
    "plt.hist(y_score[y==0], bins=10, alpha=0.5, label='Normal')\n",
    "plt.hist(y_score[y==1], bins=10, alpha=0.5, label='Anomaly')\n",
    "plt.show()"
   ]
  },
  {
   "cell_type": "code",
   "execution_count": 34,
   "metadata": {},
   "outputs": [
    {
     "data": {
      "image/png": "[encoded data removed]",
      "text/plain": [
       "<Figure size 640x480 with 3 Axes>"
      ]
     },
     "metadata": {},
     "output_type": "display_data"
    }
   ],
   "source": [
    "_y0_score = y_score[:100]\n",
    "_y1_score = y_score[100:]\n",
    "\n",
    "# get the idx of the highest 3 sigma\n",
    "idx = torch.argsort(torch.tensor(_y0_score), descending=True)\n",
    "\n",
    "plt.subplot(1, 3, 1)\n",
    "plt.imshow(x0[idx[0]][0])\n",
    "plt.title(_y0_score[idx[0]])\n",
    "plt.axis('off')\n",
    "\n",
    "plt.subplot(1, 3, 2)\n",
    "plt.imshow(x0[idx[1]][0])\n",
    "plt.title(_y0_score[idx[1]])\n",
    "plt.axis('off')\n",
    "\n",
    "plt.subplot(1, 3, 3)\n",
    "plt.imshow(x0[idx[2]][0])\n",
    "plt.title(_y0_score[idx[2]])\n",
    "plt.axis('off')\n",
    "\n",
    "plt.show()"
   ]
  },
  {
   "cell_type": "code",
   "execution_count": 35,
   "metadata": {},
   "outputs": [
    {
     "data": {
      "image/png": "[encoded data removed]",
      "text/plain": [
       "<Figure size 640x480 with 3 Axes>"
      ]
     },
     "metadata": {},
     "output_type": "display_data"
    }
   ],
   "source": [
    "_y1_score = y_score[100:]\n",
    "\n",
    "# get the idx of the highest 3 _y1_score\n",
    "idx = torch.argsort(torch.tensor(_y1_score), descending=False)\n",
    "\n",
    "plt.subplot(1, 3, 1)\n",
    "plt.imshow(x1[idx[0]][0])\n",
    "plt.title(_y1_score[idx[0]])\n",
    "plt.axis('off')\n",
    "\n",
    "plt.subplot(1, 3, 2)\n",
    "plt.imshow(x1[idx[1]][0])\n",
    "plt.title(_y1_score[idx[1]])\n",
    "plt.axis('off')\n",
    "\n",
    "plt.subplot(1, 3, 3)\n",
    "plt.imshow(x1[idx[2]][0])\n",
    "plt.title(_y1_score[idx[2]])\n",
    "plt.axis('off')\n",
    "\n",
    "plt.show()"
   ]
  },
  {
   "cell_type": "code",
   "execution_count": 36,
   "metadata": {},
   "outputs": [
    {
     "name": "stdout",
     "output_type": "stream",
     "text": [
      "Optimal threshold: 15.083626\n"
     ]
    }
   ],
   "source": [
    "# Calcular la diferencia entre TPR y FPR para cada umbral\n",
    "differences = tpr - fpr\n",
    "\n",
    "# Encontrar el índice del umbral que maximiza la diferencia\n",
    "optimal_threshold_index = np.argmax(differences)\n",
    "\n",
    "# Obtener el umbral óptimo\n",
    "optimal_threshold = thresholds[optimal_threshold_index]\n",
    "\n",
    "print(\"Optimal threshold:\", optimal_threshold)"
   ]
  },
  {
   "cell_type": "markdown",
   "metadata": {},
   "source": [
    "# Observing a 2"
   ]
  },
  {
   "cell_type": "code",
   "execution_count": 37,
   "metadata": {},
   "outputs": [
    {
     "data": {
      "text/plain": [
       "<matplotlib.image.AxesImage at 0x72875eeb2010>"
      ]
     },
     "execution_count": 37,
     "metadata": {},
     "output_type": "execute_result"
    },
    {
     "data": {
      "image/png": "[encoded data removed]",
      "text/plain": [
       "<Figure size 640x480 with 1 Axes>"
      ]
     },
     "metadata": {},
     "output_type": "display_data"
    }
   ],
   "source": [
    "## Extract a 2 from the test dataset\n",
    "model.eval()\n",
    "number = 9\n",
    "test2_dataset = MNIST('data/', train = False, download = True, transform=transform)\n",
    "test2_idx = torch.where((test2_dataset.targets == number))[0]\n",
    "test2_dataset = Subset(test2_dataset, test2_idx)\n",
    "\n",
    "X, y = zip(*test2_dataset)\n",
    "X = torch.stack(X)\n",
    "y = torch.tensor(y).flatten()\n",
    "y_score = model.score_samples(X, normalize=True)\n",
    "y_pred = np.zeros_like(y_score, dtype=int)\n",
    "y_pred[y_score > threshold(1.2, d)] = 1\n",
    "# y_score = model(X).detach()[:,1]\n",
    "\n",
    "from matplotlib import pyplot as plt\n",
    "plt.imshow(X[0,0])"
   ]
  },
  {
   "cell_type": "code",
   "execution_count": 38,
   "metadata": {},
   "outputs": [
    {
     "data": {
      "image/png": "[encoded data removed]",
      "text/plain": [
       "<Figure size 640x480 with 1 Axes>"
      ]
     },
     "metadata": {},
     "output_type": "display_data"
    }
   ],
   "source": [
    "y_score = model.score_samples(X, normalize=True)\n",
    "from matplotlib import pyplot as plt\n",
    "plt.hist(y_score, bins=15, alpha=0.5, label='Anomaly')\n",
    "plt.show()"
   ]
  },
  {
   "cell_type": "code",
   "execution_count": 39,
   "metadata": {},
   "outputs": [
    {
     "name": "stdout",
     "output_type": "stream",
     "text": [
      "14.088774\n"
     ]
    },
    {
     "data": {
      "text/plain": [
       "<matplotlib.image.AxesImage at 0x72875ac62010>"
      ]
     },
     "execution_count": 39,
     "metadata": {},
     "output_type": "execute_result"
    },
    {
     "data": {
      "image/png": "[encoded data removed]",
      "text/plain": [
       "<Figure size 640x480 with 1 Axes>"
      ]
     },
     "metadata": {},
     "output_type": "display_data"
    }
   ],
   "source": [
    "idx = torch.argsort(torch.tensor(y_score), descending=False)\n",
    "print(y_score[idx[0]])\n",
    "plt.imshow(X[idx[2],0])"
   ]
  },
  {
   "cell_type": "code",
   "execution_count": 40,
   "metadata": {},
   "outputs": [
    {
     "data": {
      "text/plain": [
       "array([126, 883])"
      ]
     },
     "execution_count": 40,
     "metadata": {},
     "output_type": "execute_result"
    }
   ],
   "source": [
    "np.bincount(y_pred)"
   ]
  },
  {
   "cell_type": "code",
   "execution_count": null,
   "metadata": {},
   "outputs": [],
   "source": []
  },
  {
   "cell_type": "code",
   "execution_count": null,
   "metadata": {},
   "outputs": [],
   "source": []
  }
 ],
 "metadata": {
  "kernelspec": {
   "display_name": "DeepLearning",
   "language": "python",
   "name": "python3"
  },
  "language_info": {
   "codemirror_mode": {
    "name": "ipython",
    "version": 3
   },
   "file_extension": ".py",
   "mimetype": "text/x-python",
   "name": "python",
   "nbconvert_exporter": "python",
   "pygments_lexer": "ipython3",
   "version": "3.11.3"
  },
  "orig_nbformat": 4
 },
 "nbformat": 4,
 "nbformat_minor": 2
}
