{
 "cells": [
  {
   "cell_type": "code",
   "execution_count": null,
   "metadata": {},
   "outputs": [],
   "source": [
    "import numpy as np\n",
    "import os\n",
    "import pandas as pd\n",
    "import sys\n",
    "import torch\n",
    "\n",
    "\n",
    "from matplotlib import pyplot as plt\n",
    "\n",
    "\n",
    "project_dir = os.path.join(os.getcwd(),'..')\n",
    "if project_dir not in sys.path:\n",
    "    sys.path.append(project_dir)\n",
    "import config\n",
    "\n",
    "# from experiments.MNIST import ExperimentADeLEn, ExperimentSupervised, ExperimentSVM\n",
    "from experiments.MedMNIST import ExperimentADeLEn, ExperimentSupervised, ExperimentSVM"
   ]
  },
  {
   "cell_type": "markdown",
   "metadata": {},
   "source": [
    "# Pollution experiments using MNIST\n"
   ]
  },
  {
   "cell_type": "code",
   "execution_count": null,
   "metadata": {},
   "outputs": [],
   "source": [
    "pollution_exp = [0, .05, .1, .2]"
   ]
  },
  {
   "cell_type": "markdown",
   "metadata": {},
   "source": [
    "## Table"
   ]
  },
  {
   "cell_type": "code",
   "execution_count": null,
   "metadata": {},
   "outputs": [],
   "source": [
    "from itertools import chain\n",
    "def generate_multi_df(data:list, parent_index:list, child_index:list) -> pd.DataFrame:\n",
    "    index_names = [\n",
    "        [x for x in parent_index for _ in child_index],\n",
    "        child_index*len(parent_index)\n",
    "    ]\n",
    "\n",
    "    tuples = list(zip(*index_names))\n",
    "    index = pd.MultiIndex.from_tuples(tuples)\n",
    "    return pd.DataFrame(chain.from_iterable(data), index=index)"
   ]
  },
  {
   "cell_type": "code",
   "execution_count": null,
   "metadata": {},
   "outputs": [],
   "source": [
    "exp = ExperimentADeLEn(.1, .2, 2)\n",
    "result_dir = exp.config()['save_result_dir']\n",
    "df = pd.read_csv(os.path.join(result_dir, 'metrics.csv'), index_col=0)\n",
    "acc = df['Accuracy'].mean(), df['Accuracy'].std()\n",
    "prec = df['Precision'].mean(), df['Precision'].std()\n",
    "rec = df['Recall'].mean(), df['Recall'].std()\n",
    "f1 = df['F1'].mean(), df['F1'].std()\n",
    "auc = df['AUC'].mean(), df['AUC'].std()\n",
    "\n",
    "\n",
    "data = [acc, prec, rec, f1, auc]\n",
    "parent_index = ['Acc', 'Prec', 'Recall', 'F1', 'AUC']\n",
    "child_index = ['Mean', 'Std']\n",
    "df = generate_multi_df(data, parent_index, child_index).T\n",
    "df"
   ]
  },
  {
   "cell_type": "code",
   "execution_count": null,
   "metadata": {},
   "outputs": [],
   "source": [
    "exp = ExperimentADeLEn(.1, .2, 2)\n",
    "result_dir = exp.config()['save_result_dir']\n",
    "df = pd.read_csv(os.path.join(result_dir, 'metrics.csv'), index_col=0)\n",
    "df['Accuracy'].mean(), df['Accuracy'].std(),"
   ]
  },
  {
   "cell_type": "code",
   "execution_count": null,
   "metadata": {},
   "outputs": [],
   "source": [
    "(df['Accuracy'].mean(), df['Accuracy'].std()), (df['Precision'].mean(), df['Precision'].std()), (df['Recall'].mean(), df['Recall'].std()), (df['F1'].mean(), df['F1'].std()), (df['AUC'].mean(), df['AUC'].std())"
   ]
  },
  {
   "cell_type": "code",
   "execution_count": null,
   "metadata": {},
   "outputs": [],
   "source": [
    "exp = ExperimentSupervised(.1, .2)\n",
    "result_dir = exp.config()['save_result_dir']\n",
    "df = pd.read_csv(os.path.join(result_dir, 'metrics.csv'), index_col=0)"
   ]
  },
  {
   "cell_type": "code",
   "execution_count": null,
   "metadata": {},
   "outputs": [],
   "source": [
    "(df['Accuracy'].mean(), df['Accuracy'].std()), (df['Precision'].mean(), df['Precision'].std()), (df['Recall'].mean(), df['Recall'].std()), (df['F1'].mean(), df['F1'].std()), (df['AUC'].mean(), df['AUC'].std())"
   ]
  },
  {
   "cell_type": "markdown",
   "metadata": {},
   "source": [
    "## Images"
   ]
  },
  {
   "cell_type": "code",
   "execution_count": null,
   "metadata": {},
   "outputs": [],
   "source": [
    "def generate_score_histogram(score_df:pd.DataFrame, normal_bins=10, anomaly_bins=10):\n",
    "    from matplotlib.ticker import MaxNLocator\n",
    "\n",
    "    with plt.style.context('seaborn-colorblind'):\n",
    "        fig = plt.figure(figsize=(5, 4))\n",
    "        ax = plt.gca()\n",
    "        ax.hist(score_df['Normal'], bins=normal_bins, alpha=.7, label='Normal')\n",
    "        ax.hist(score_df['Anomaly'], bins=anomaly_bins, alpha=.7, label='Anomaly')\n",
    "        ax.legend(fontsize='x-large')\n",
    "        ax.xaxis.set_major_locator(MaxNLocator(nbins=5)) \n",
    "        ax.yaxis.set_major_locator(MaxNLocator(nbins=5))\n",
    "        ax.set_ylabel('Samples', fontsize='xx-large')\n",
    "        ax.set_xlabel('Score', fontsize='xx-large')\n",
    "        ax.tick_params(axis='both', which='major', labelsize='x-large')\n",
    "        ax.grid()\n",
    "        \n",
    "        return fig\n",
    "    \n",
    "def plot_reconstructed(model, r0=(-6, 6), r1=(-6, 6), n=12):\n",
    "    model.eval()\n",
    "    w = 28\n",
    "    img = np.zeros((n*w, n*w))\n",
    "\n",
    "    fig = plt.figure(figsize=(5, 5))\n",
    "\n",
    "    for i, y in enumerate(np.linspace(*r1, n)):\n",
    "        for j, x in enumerate(np.linspace(*r0, n)):\n",
    "            z = torch.Tensor([[x, y]])\n",
    "            x_hat = torch.tanh(model.decode_path(z)) # ADeLEn\n",
    "            x_hat = x_hat.reshape(w, w).to('cpu').detach().numpy()\n",
    "            img[(n-1-i)*w:(n-1-i+1)*w, j*w:(j+1)*w] = x_hat\n",
    "    \n",
    "    plt.xlabel('$\\mathcal{N}(0, \\sigma_1)$', fontsize='xx-large')\n",
    "    plt.ylabel('$\\mathcal{N}(0, \\sigma_2)$', fontsize='xx-large')\n",
    "    plt.tick_params(axis='both', which='major', labelsize='x-large')\n",
    "    plt.imshow(img, extent=[*r0, *r1], cmap='viridis')\n",
    "\n",
    "    return fig"
   ]
  },
  {
   "cell_type": "markdown",
   "metadata": {},
   "source": [
    "### ADeLEn"
   ]
  },
  {
   "cell_type": "code",
   "execution_count": null,
   "metadata": {},
   "outputs": [],
   "source": [
    "for d in [2, 5, 10]:\n",
    "    for pollution in pollution_exp:\n",
    "        exp = ExperimentADeLEn(.1, pollution, d)\n",
    "        result_dir = exp.config()['save_result_dir']\n",
    "        img_dir = exp.config()['save_imgs_dir']\n",
    "\n",
    "        df = pd.read_csv(os.path.join(result_dir, 'metrics.csv'), index_col=0)\n",
    "        idx = df['AUC'].apply(lambda x: abs(x - df['AUC'].mean())).idxmin()\n",
    "\n",
    "        score_df = pd.read_pickle(os.path.join(result_dir, 'sample_score.pkl'))[f'It {idx+1}']\n",
    "        fig = generate_score_histogram(score_df)\n",
    "        fig.savefig(os.path.join(img_dir, f'score_histogram_{pollution}.pdf'), bbox_inches='tight')\n",
    "        plt.close(fig)"
   ]
  },
  {
   "cell_type": "markdown",
   "metadata": {},
   "source": [
    "#### Reconstructions"
   ]
  },
  {
   "cell_type": "code",
   "execution_count": null,
   "metadata": {},
   "outputs": [],
   "source": [
    "for pollution in pollution_exp:\n",
    "    exp = ExperimentADeLEn(.1, pollution, d=2)\n",
    "    img_dir = exp.config()['save_imgs_dir']\n",
    "    exp.run()\n",
    "\n",
    "    fig = plot_reconstructed(exp.model, r0=(-6, 6), r1=(-6, 6), n=10)\n",
    "    fig.savefig(os.path.join(img_dir, f'reconstruction_{pollution}.pdf'), bbox_inches='tight')\n",
    "    plt.close(fig)"
   ]
  },
  {
   "cell_type": "markdown",
   "metadata": {},
   "source": [
    "### Supervised"
   ]
  },
  {
   "cell_type": "code",
   "execution_count": null,
   "metadata": {},
   "outputs": [],
   "source": [
    "for pollution in pollution_exp:\n",
    "    exp = ExperimentSupervised(.1, pollution)\n",
    "    result_dir = exp.config()['save_result_dir']\n",
    "    img_dir = exp.config()['save_imgs_dir']\n",
    "\n",
    "    df = pd.read_csv(os.path.join(result_dir, 'metrics.csv'), index_col=0)\n",
    "    idx = df['AUC'].apply(lambda x: abs(x - df['AUC'].mean())).idxmin()\n",
    "\n",
    "    score_df = pd.read_pickle(os.path.join(result_dir, 'sample_score.pkl'))[f'It {idx+1}']\n",
    "    score_df['Normal'] = score_df['Normal'].apply(lambda x: x.item() if x is not None else x)\n",
    "    score_df['Anomaly'] = score_df['Anomaly'].apply(lambda x: x.item() if x is not None else x)\n",
    "    \n",
    "    fig = generate_score_histogram(score_df, normal_bins=(1 if pollution==.2 else 10))\n",
    "    fig.savefig(os.path.join(img_dir, f'score_histogram_{pollution}.pdf'), bbox_inches='tight')\n",
    "    plt.close(fig)"
   ]
  },
  {
   "cell_type": "markdown",
   "metadata": {},
   "source": [
    "# SVM"
   ]
  },
  {
   "cell_type": "code",
   "execution_count": null,
   "metadata": {},
   "outputs": [],
   "source": [
    "for pollution in pollution_exp:\n",
    "    exp = ExperimentSVM(.1, pollution)\n",
    "    result_dir = exp.config()['save_result_dir']\n",
    "    img_dir = exp.config()['save_imgs_dir']\n",
    "\n",
    "    df = pd.read_csv(os.path.join(result_dir, 'metrics.csv'), index_col=0)\n",
    "    idx = df['AUC'].apply(lambda x: abs(x - df['AUC'].mean())).idxmin()\n",
    "\n",
    "    score_df = pd.read_pickle(os.path.join(result_dir, 'sample_score.pkl'))[f'It {idx+1}']\n",
    "    \n",
    "    fig = generate_score_histogram(score_df)\n",
    "    fig.savefig(os.path.join(img_dir, f'score_histogram_{pollution}.pdf'), bbox_inches='tight')\n",
    "    plt.close(fig)"
   ]
  },
  {
   "cell_type": "markdown",
   "metadata": {},
   "source": [
    "# Number of labels"
   ]
  },
  {
   "cell_type": "code",
   "execution_count": null,
   "metadata": {},
   "outputs": [],
   "source": [
    "n_labels = [.05, .1, .2, .25, .5]\n",
    "pollution = .05\n",
    "\n",
    "for d in [2, 5, 10]:\n",
    "    for labels in n_labels:\n",
    "        exp = ExperimentADeLEn(labels, pollution, d)\n",
    "        result_dir = exp.config()['save_result_dir']\n",
    "        img_dir = exp.config()['save_imgs_dir']\n",
    "\n",
    "        df = pd.read_csv(os.path.join(result_dir, 'metrics.csv'), index_col=0)\n",
    "        idx = df['AUC'].apply(lambda x: abs(x - df['AUC'].mean())).idxmin()\n",
    "\n",
    "        score_df = pd.read_pickle(os.path.join(result_dir, 'sample_score.pkl'))[f'It {idx+1}']\n",
    "        fig = generate_score_histogram(score_df)\n",
    "        fig.savefig(os.path.join(img_dir, f'score_histogram_{labels}_{pollution}.pdf'), bbox_inches='tight')\n",
    "        plt.close(fig)\n"
   ]
  },
  {
   "cell_type": "code",
   "execution_count": 116,
   "metadata": {},
   "outputs": [
    {
     "name": "stdout",
     "output_type": "stream",
     "text": [
      "Using downloaded and verified file: data/pneumoniamnist.npz\n",
      "Using downloaded and verified file: data/pneumoniamnist.npz\n",
      "Using downloaded and verified file: data/pneumoniamnist.npz\n",
      "Using downloaded and verified file: data/pneumoniamnist.npz\n",
      "Using downloaded and verified file: data/pneumoniamnist.npz\n",
      "Using downloaded and verified file: data/pneumoniamnist.npz\n"
     ]
    }
   ],
   "source": [
    "labels = n_labels[3]\n",
    "exp_2 = ExperimentADeLEn(labels, pollution, 2)\n",
    "exp_5 = ExperimentADeLEn(labels, pollution, 5)\n",
    "exp_10 = ExperimentADeLEn(labels, pollution, 10)\n",
    "\n",
    "\n",
    "result_dir_2 = exp_2.config()['save_result_dir']\n",
    "result_dir_5 = exp_5.config()['save_result_dir']\n",
    "result_dir_10 = exp_10.config()['save_result_dir']\n",
    "img_dir_2 = exp_2.config()['save_imgs_dir']\n",
    "\n",
    "df_2 = pd.read_csv(os.path.join(result_dir_2, 'metrics.csv'), index_col=0)\n",
    "df_5 = pd.read_csv(os.path.join(result_dir_5, 'metrics.csv'), index_col=0)\n",
    "df_10 = pd.read_csv(os.path.join(result_dir_10, 'metrics.csv'), index_col=0)"
   ]
  },
  {
   "cell_type": "code",
   "execution_count": 117,
   "metadata": {},
   "outputs": [
    {
     "data": {
      "image/png": "[encoded data removed]",
      "text/plain": [
       "<Figure size 1200x400 with 1 Axes>"
      ]
     },
     "metadata": {},
     "output_type": "display_data"
    }
   ],
   "source": [
    "import seaborn as sns\n",
    "colors = sns.color_palette(\"colorblind\", 3)\n",
    "\n",
    "fig = plt.figure(figsize=(12, 4))\n",
    "\n",
    "metrics = ['Accuracy', 'Precision', 'Recall', 'F1', 'AUC']\n",
    "for i, metric in enumerate(metrics):\n",
    "    for j, exp in enumerate([df_2, df_5, df_10]):\n",
    "        data = exp[metric]\n",
    "        plt.boxplot(data, positions=[3*i + j+1], widths=0.5, patch_artist=True, \n",
    "                    boxprops=dict(facecolor=colors[j], alpha=.7),\n",
    "                    medianprops=dict(color='black', linewidth=1))\n",
    "        if j == 2 and i < len(metrics) - 1:\n",
    "            plt.axvline(x=3*i + j+1.5, linestyle='--', color='gray')\n",
    "\n",
    "ylim = plt.ylim()\n",
    "margin = (ylim[1] - ylim[0]) * 0.02  # Margen basado en el rango del eje y\n",
    "for i, metric in enumerate(metrics):\n",
    "    plt.text(3*i + 2, ylim[0] - margin, metric, ha='center', va='top', fontsize='x-large')\n",
    "\n",
    "    # plt.text(3*i + 2, plt.ylim()[0] - (plt.ylim()[1] - plt.ylim()[0]) * 0.05, metric, ha='center', va='top')\n",
    "plt.legend([plt.Line2D([0], [0], color=color, lw=4) for color in colors], ['2', '5', '10'])\n",
    "plt.xticks([])\n",
    "plt.yticks(fontsize='x-large')\n",
    "\n",
    "plt.show()"
   ]
  },
  {
   "cell_type": "code",
   "execution_count": 74,
   "metadata": {},
   "outputs": [
    {
     "data": {
      "text/plain": [
       "'10'"
      ]
     },
     "execution_count": 74,
     "metadata": {},
     "output_type": "execute_result"
    }
   ],
   "source": [
    "dim"
   ]
  },
  {
   "cell_type": "code",
   "execution_count": null,
   "metadata": {},
   "outputs": [],
   "source": [
    "# Configuración de la figura\n",
    "plt.figure(figsize=(12, 6))\n",
    "\n",
    "# Obtener una paleta de colores para daltonicos de Seaborn\n",
    "colors = sns.color_palette(\"colorblind\", 3)\n",
    "\n",
    "# Posiciones iniciales para los boxplots\n",
    "positions = [1, 2, 3]  # Posiciones iniciales para la primera métrica\n",
    "width = 0.5  # Ancho de cada boxplot\n",
    "\n",
    "# Dibujar los boxplots manualmente\n",
    "for i, metric in enumerate(['Accuracy', 'Precision', 'Recall', 'F1', 'AUC']):\n",
    "    for j, exp in enumerate(['2', '5', '10']):\n",
    "        # Filtrar datos para cada experimento y métrica\n",
    "        subset = df[(df['Dimension'] == exp) & (df['Métrica'] == metric)]\n",
    "        plt.boxplot(subset['Valor'], positions=[positions[j]], widths=width, patch_artist=True, boxprops=dict(facecolor=colors[j]))\n",
    "\n",
    "    # Dibujar línea discontinua entre las métricas si no es la última\n",
    "    if i < 2:\n",
    "        plt.axvline(x=positions[-1] + 0.5, color='gray', linestyle='--')\n",
    "\n",
    "    # Actualizar posiciones para la siguiente métrica\n",
    "    positions = [p + 4 for p in positions]  # Aumentar 4 posiciones para la siguiente métrica\n",
    "\n",
    "# Configurar los ejes\n",
    "plt.xticks([2, 6, 10], ['Precisión', 'Recall', 'F1-score'])\n",
    "plt.xlim(0, positions[-1] + 1)\n",
    "plt.title('Comparación de Métricas por Experimento')\n",
    "plt.ylabel('Valor de la Métrica')\n",
    "plt.xlabel('Tipo de Métrica')\n",
    "\n",
    "# Leyenda\n",
    "plt.legend([plt.Line2D([0], [0], color=color, lw=4) for color in colors], ['Exp1', 'Exp2', 'Exp3'])\n",
    "plt.tight_layout()\n",
    "\n",
    "# Mostrar el gráfico\n",
    "plt.show()\n"
   ]
  },
  {
   "cell_type": "code",
   "execution_count": null,
   "metadata": {},
   "outputs": [],
   "source": [
    "df"
   ]
  }
 ],
 "metadata": {
  "kernelspec": {
   "display_name": "DeepLearning",
   "language": "python",
   "name": "python3"
  },
  "language_info": {
   "codemirror_mode": {
    "name": "ipython",
    "version": 3
   },
   "file_extension": ".py",
   "mimetype": "text/x-python",
   "name": "python",
   "nbconvert_exporter": "python",
   "pygments_lexer": "ipython3",
   "version": "3.1.-1"
  }
 },
 "nbformat": 4,
 "nbformat_minor": 2
}
