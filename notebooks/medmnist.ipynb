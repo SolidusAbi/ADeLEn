{
 "cells": [
  {
   "cell_type": "markdown",
   "metadata": {},
   "source": [
    "# Probando!!!"
   ]
  },
  {
   "cell_type": "code",
   "execution_count": null,
   "metadata": {},
   "outputs": [],
   "source": [
    "import medmnist, torch\n",
    "from medmnist import INFO, Evaluator\n",
    "from medmnist.dataset import PneumoniaMNIST\n",
    "import torch.utils.data as data\n",
    "\n",
    "import os, sys\n",
    "project_dir = os.path.join(os.getcwd(),'..')\n",
    "if project_dir not in sys.path:\n",
    "    sys.path.append(project_dir)\n",
    "\n",
    "\n",
    "print(f\"MedMNIST v{medmnist.__version__} @ {medmnist.HOMEPAGE}\")"
   ]
  },
  {
   "cell_type": "code",
   "execution_count": null,
   "metadata": {},
   "outputs": [],
   "source": [
    "from dataset import AnomalyPneumoniaMNIST\n",
    "from matplotlib import pyplot as plt\n",
    "from torchvision import transforms\n",
    "\n",
    "data_transform = transforms.Compose([\n",
    "    transforms.ToTensor(),\n",
    "    transforms.Normalize(mean=[.5], std=[.5]),\n",
    "])\n",
    "\n",
    "# Load the dataset\n",
    "seed = 42\n",
    "train_dataset = AnomalyPneumoniaMNIST('data/', download=True, transform=data_transform, n_normal_samples=-1, known_anomalies=0.1, pollution=0.05, seed=seed)\n",
    "print(train_dataset)\n",
    "\n",
    "train_dataset.montage(5, 5, seed)\n",
    "plt.show()"
   ]
  },
  {
   "cell_type": "code",
   "execution_count": null,
   "metadata": {},
   "outputs": [],
   "source": [
    "# Generate the test dataset and the loaders\n",
    "BATCH_SIZE = 128\n",
    "test_dataset = PneumoniaMNIST(split='test', transform=data_transform, download=True, root='data/')\n",
    "\n",
    "train_loader = data.DataLoader(dataset=train_dataset, batch_size=BATCH_SIZE, shuffle=True)\n",
    "test_loader = data.DataLoader(dataset=test_dataset, batch_size=4*BATCH_SIZE, shuffle=False)"
   ]
  },
  {
   "cell_type": "markdown",
   "metadata": {},
   "source": [
    "# Model"
   ]
  },
  {
   "cell_type": "code",
   "execution_count": null,
   "metadata": {},
   "outputs": [],
   "source": [
    "from ADeLEn.model import ADeLEn\n",
    "from torch.nn.functional import mse_loss\n",
    "from VAE.loss import SGVBL\n",
    "\n",
    "# model = ADeLEn((28, 28), [1, 12, 32], [1024, 512, 128, 2], skip_connection=False) # Old implementation\n",
    "model = ADeLEn((28, 28), [1, 32, 48], [1024, 256, 32], bottleneck=10, skip_connection=False)\n",
    "from torch.nn.functional import mse_loss\n",
    "sgvbl = SGVBL(model, len(train_dataset), mle=mse_loss)"
   ]
  },
  {
   "cell_type": "markdown",
   "metadata": {},
   "source": [
    "# Training"
   ]
  },
  {
   "cell_type": "code",
   "execution_count": null,
   "metadata": {},
   "outputs": [],
   "source": [
    "def _weights(dataset):\n",
    "    import numpy as np\n",
    "    _, y = zip(*dataset)\n",
    "    y = torch.tensor(y)\n",
    "\n",
    "    count = torch.bincount(y)\n",
    "    weights = 1. / np.array(count)\n",
    "    weights /= weights.sum()\n",
    "\n",
    "    return weights[y]\n",
    "\n",
    "def train(model, dataset, batch_size, n_epochs, lr=1e-3, kl_weight=1, weighted_sampler=False):\n",
    "    from tqdm import tqdm\n",
    "    from torch.utils.data import DataLoader\n",
    "    from torch.optim import Adam\n",
    "    \n",
    "    if weighted_sampler:\n",
    "        sampler = torch.utils.data.WeightedRandomSampler(_weights(dataset), len(dataset), replacement=True)\n",
    "        train_loader = DataLoader(dataset, batch_size=batch_size, sampler=sampler)\n",
    "    else:\n",
    "        train_loader = DataLoader(dataset, batch_size=batch_size, shuffle=True)\n",
    "\n",
    "    device = torch.device('cuda' if torch.cuda.is_available() else 'cpu')\n",
    "    model.to(device)\n",
    "    model.train()\n",
    "\n",
    "    epoch_iterator = tqdm(\n",
    "            range(n_epochs),\n",
    "            leave=True,\n",
    "            unit=\"epoch\",\n",
    "            postfix={\"tls\": \"%.4f\" % -1},\n",
    "        )\n",
    "    \n",
    "    opt = Adam(model.parameters(), lr=lr)\n",
    "\n",
    "    for _ in epoch_iterator:\n",
    "        epoch_loss = 0.\n",
    "        for x, y in train_loader:\n",
    "            x = x.to(device) \n",
    "            opt.zero_grad()\n",
    "            x_hat = torch.tanh(model(x))\n",
    "            loss = sgvbl(x, x_hat, y, kl_weight)\n",
    "            epoch_loss += loss.detach().item()\n",
    "\n",
    "            loss.backward()\n",
    "            opt.step()\n",
    "\n",
    "        epoch_iterator.set_postfix(tls=\"%.3f\" % (epoch_loss/len(train_loader)))\n",
    "\n",
    "    return model.eval().cpu()"
   ]
  },
  {
   "cell_type": "code",
   "execution_count": null,
   "metadata": {},
   "outputs": [],
   "source": [
    "model = train(model, train_dataset, BATCH_SIZE, 100, lr=1e-3, kl_weight=1, weighted_sampler=True)"
   ]
  },
  {
   "cell_type": "markdown",
   "metadata": {},
   "source": [
    "# Result"
   ]
  },
  {
   "cell_type": "code",
   "execution_count": null,
   "metadata": {},
   "outputs": [],
   "source": [
    "import numpy as np\n",
    "from matplotlib import pyplot as plt\n",
    "\n",
    "def plot_latent(model, data, num_batches=100):\n",
    "    model.eval()\n",
    "    # device = torch.device('cuda' if torch.cuda.is_available() else 'cpu')\n",
    "    fig = plt.figure(figsize=(5,5))\n",
    "    with torch.no_grad():\n",
    "        for i, (x, y) in enumerate(data):\n",
    "            x = x\n",
    "            z = model.bottleneck(model.encode_path(x))\n",
    "            z = z.cpu().detach().numpy()\n",
    "            y = y.cpu().detach().numpy()\n",
    "            anomalies = np.where(y == 1)\n",
    "            normal = np.where(y == 0)\n",
    "            if i == 0:\n",
    "                plt.scatter(z[normal, 0], z[normal, 1], c='r', alpha=.7, label='normal')\n",
    "                plt.scatter(z[anomalies, 0], z[anomalies, 1], c='b', alpha=.7, label='anomalies')\n",
    "            else:\n",
    "                plt.scatter(z[normal, 0], z[normal, 1], c='r',alpha=.7)\n",
    "                plt.scatter(z[anomalies, 0], z[anomalies, 1], c='b',alpha=.7)\n",
    "           \n",
    "            if i > num_batches:\n",
    "                plt.legend()\n",
    "                return\n",
    "    plt.legend()\n",
    "    return fig"
   ]
  },
  {
   "cell_type": "code",
   "execution_count": null,
   "metadata": {},
   "outputs": [],
   "source": [
    "model.eval()\n",
    "train_eval_loader = data.DataLoader(dataset=train_dataset, batch_size=4*BATCH_SIZE, shuffle=False)\n",
    "\n",
    "\n",
    "# model.train()\n",
    "plot_latent(model, train_eval_loader, num_batches=1)"
   ]
  },
  {
   "cell_type": "code",
   "execution_count": null,
   "metadata": {},
   "outputs": [],
   "source": [
    "x, y = next(iter(train_loader))\n",
    "x_0 = x[np.argwhere(y==0)[0].squeeze()[0]].unsqueeze(0)\n",
    "x_1 = x[np.argwhere(y==1)[0].squeeze()[0]].unsqueeze(0)\n",
    "x = torch.cat([x_0, x_1], dim=0)\n",
    "# _ = model.bottleneck(model.encoder(x.to(device)))\n",
    "_ = model(x)\n",
    "\n",
    "# mu, sigma = model.bottleneck[1].anomaly_detector.mu.detach().cpu(), model.bottleneck[1].anomaly_detector.sigma.detach().cpu()\n",
    "mu, sigma = model.bottleneck.mu.detach().cpu(), model.bottleneck.sigma.detach().cpu()\n",
    "\n",
    "plt.figure(figsize=(8,5))\n",
    "plt.subplot(1,2,1)\n",
    "plt.title(\"Normal\", fontsize='x-large')\n",
    "plt.xlabel(\"$\\mathcal{N}([%.3f, %.3f], [%.3f, %.3f])$\" % (*mu[0].numpy().tolist(), *sigma[0].numpy().tolist()), fontsize='large')\n",
    "plt.xticks([])\n",
    "plt.yticks([])\n",
    "plt.imshow(x[0][0], cmap='gray')\n",
    "plt.subplot(1,2,2)\n",
    "plt.title(\"Anomaly\", fontsize='x-large')\n",
    "plt.xlabel(\"$\\mathcal{N}([%.3f, %.3f], [%.3f, %.3f])$\" % (*mu[1].numpy().tolist(), *sigma[1].numpy().tolist()), fontsize='large')\n",
    "plt.xticks([])\n",
    "plt.yticks([])\n",
    "plt.imshow(x[1][0], cmap='gray')\n",
    "\n",
    "plt.savefig('figures/medmnist_test.pdf', bbox_inches='tight')\n",
    "plt.show()\n",
    "\n",
    "x = torch.cat([x_0, x_1])\n",
    "# z = model.bottleneck(model.encoder(x.to(device))).detach().cpu()\n",
    "mu, sigma"
   ]
  },
  {
   "cell_type": "code",
   "execution_count": null,
   "metadata": {},
   "outputs": [],
   "source": [
    "x_hat = model(x_0)\n",
    "plt.subplot(2,2,1)\n",
    "plt.imshow(x_hat[0,0].detach().cpu(), cmap='gray')\n",
    "plt.subplot(2,2,2)\n",
    "plt.imshow(x_0[0,0], cmap='gray')\n",
    "\n",
    "x_hat = model(x_1)\n",
    "plt.subplot(2,2,3)\n",
    "plt.imshow(x_hat[0,0].detach().cpu(), cmap='gray')\n",
    "plt.subplot(2,2,4)\n",
    "plt.imshow(x_1[0,0], cmap='gray')\n",
    "\n",
    "mse_loss(x_hat, x_0), mse_loss(x_hat, x_1)\n"
   ]
  },
  {
   "cell_type": "code",
   "execution_count": null,
   "metadata": {},
   "outputs": [],
   "source": [
    "import numpy as np\n",
    "# def plot_reconstructed(autoencoder, r0=(-10, 10), r1=(-10, 10), n=12):\n",
    "#     w = 28\n",
    "#     img = np.zeros((n*w, n*w))\n",
    "\n",
    "#     bottleneck, unflatten = autoencoder.bottleneck[1:]\n",
    "#     bottleneck = bottleneck.bottleneck[2]\n",
    "\n",
    "#     for i, y in enumerate(np.linspace(*r1, n)):\n",
    "#         for j, x in enumerate(np.linspace(*r0, n)):\n",
    "#             z = torch.Tensor([[x, y]]).to(device)\n",
    "#             x_hat = torch.tanh(autoencoder.decoder(unflatten(bottleneck(z)))) # ADeLEn\n",
    "#             # x_hat = torch.tanh(autoencoder.decoder(z))\n",
    "#             x_hat = x_hat.reshape(w, w).to('cpu').detach().numpy()\n",
    "#             img[(n-1-i)*w:(n-1-i+1)*w, j*w:(j+1)*w] = x_hat\n",
    "    \n",
    "#     plt.xlabel('$\\mathcal{N}(0, \\sigma_1)$', fontsize='x-large')\n",
    "#     plt.ylabel('$\\mathcal{N}(0, \\sigma_2)$', fontsize='x-large')\n",
    "#     plt.imshow(img, extent=[*r0, *r1], cmap='viridis')\n",
    "\n",
    "def plot_reconstructed(model, r0=(-10, 10), r1=(-10, 10), n=12):\n",
    "    w = 28\n",
    "    img = np.zeros((n*w, n*w))\n",
    "\n",
    "    for i, y in enumerate(np.linspace(*r1, n)):\n",
    "        for j, x in enumerate(np.linspace(*r0, n)):\n",
    "            z = torch.Tensor([[x, y]])\n",
    "            x_hat = torch.tanh(model.decode_path(z)) # ADeLEn\n",
    "            # x_hat = torch.tanh(autoencoder.decoder(z))\n",
    "            x_hat = x_hat.reshape(w, w).to('cpu').detach().numpy()\n",
    "            img[(n-1-i)*w:(n-1-i+1)*w, j*w:(j+1)*w] = x_hat\n",
    "    \n",
    "    plt.xlabel('$\\mathcal{N}(0, \\sigma_1)$', fontsize='x-large')\n",
    "    plt.ylabel('$\\mathcal{N}(0, \\sigma_2)$', fontsize='x-large')\n",
    "    plt.imshow(img, extent=[*r0, *r1], cmap='viridis')"
   ]
  },
  {
   "cell_type": "code",
   "execution_count": null,
   "metadata": {},
   "outputs": [],
   "source": [
    "model.eval()\n",
    "plot_reconstructed(model, r0=(-5, 5), r1=(-5, 5), n=15)"
   ]
  },
  {
   "cell_type": "code",
   "execution_count": null,
   "metadata": {},
   "outputs": [],
   "source": [
    "x_test, y_test = next(iter(test_loader))\n",
    "model.eval()\n",
    "print(x_test.shape)\n",
    "# x_0 = x_test[np.argwhere(y_test==0)[0].squeeze()[:100]]\n",
    "# x_1 = x_test[np.argwhere(y_test==1)[0].squeeze()[:100]]\n",
    "x_0 = x_test[np.argwhere(y_test==0)[0].squeeze()]\n",
    "x_1 = x_test[np.argwhere(y_test==1)[0].squeeze()]\n",
    "\n",
    "x = torch.cat([x_0, x_1], dim=0)\n",
    "y = torch.cat([torch.zeros(len(x_0)), torch.ones(len(x_1))])\n",
    "\n",
    "x_enc = model.encode_path(x)\n",
    "# x_enc, sk = model.encoder(x.to(device))\n",
    "# flatten, bottleneck, unflatten = model.bottleneck[:3]\n",
    "# bottleneck = bottleneck.bottleneck[:2]\n",
    "x_bottleneck = model.bottleneck(x_enc)\n",
    "\n",
    "anomaly_detector = model.bottleneck\n",
    "sigma = anomaly_detector.sigma.detach().cpu()\n",
    "sigma.mean(axis=0), sigma.std(axis=0)"
   ]
  },
  {
   "cell_type": "code",
   "execution_count": null,
   "metadata": {},
   "outputs": [],
   "source": [
    "model.bottleneck"
   ]
  },
  {
   "cell_type": "code",
   "execution_count": null,
   "metadata": {},
   "outputs": [],
   "source": [
    "sigma[:100].mean(axis=0), sigma[100:].mean(axis=0)"
   ]
  },
  {
   "cell_type": "code",
   "execution_count": null,
   "metadata": {},
   "outputs": [],
   "source": [
    "import numpy as np\n",
    "x_test, y_test = list(zip(*[(_x, _y) for _x, _y in test_dataset]))\n",
    "x_test = torch.tensor(np.stack(x_test))\n",
    "y_test = torch.tensor(y_test).flatten()\n",
    "\n",
    "_ = model(x_test)"
   ]
  },
  {
   "cell_type": "code",
   "execution_count": null,
   "metadata": {},
   "outputs": [],
   "source": [
    "normalize = np.log(2*np.pi*np.e)\n",
    "y_score = .5*(normalize + torch.log(model.bottleneck.sigma).sum(axis=1).detach().cpu().numpy())\n",
    "\n",
    "y_score = model.score_samples(x_test)\n",
    "\n",
    "from sklearn.metrics import roc_curve, auc, roc_auc_score\n",
    "fpr, tpr, thresholds = roc_curve(y_test, y_score)\n",
    "roc_auc = auc(fpr, tpr)\n",
    "\n",
    "plt.plot(fpr, tpr, label='ROC curve (area = %0.2f)' % roc_auc)\n",
    "plt.plot([0, 1], [0, 1], 'k--')\n",
    "plt.xlabel('False Positive Rate')\n",
    "plt.ylabel('True Positive Rate')\n",
    "plt.title('Receiver Operating Characteristic')\n",
    "plt.legend(loc=\"lower right\")\n",
    "plt.show()\n"
   ]
  },
  {
   "cell_type": "code",
   "execution_count": null,
   "metadata": {},
   "outputs": [],
   "source": [
    "y_score[torch.argwhere(y_test==0).squeeze()]\n",
    "y_score[torch.argwhere(y_test==1).squeeze()]"
   ]
  },
  {
   "cell_type": "code",
   "execution_count": null,
   "metadata": {},
   "outputs": [],
   "source": [
    "plt.hist(y_score[torch.argwhere(y_test==0).squeeze()], bins=25, alpha=.5, label='normal')\n",
    "plt.hist(y_score[torch.argwhere(y_test==1).squeeze()], bins=25, alpha=.5, label='anomaly')\n",
    "plt.legend()\n",
    "plt.show()"
   ]
  },
  {
   "cell_type": "code",
   "execution_count": null,
   "metadata": {},
   "outputs": [],
   "source": [
    "import numpy as np\n",
    "def threshold(sigma, d) -> float:\n",
    "        score = d*np.log(sigma)\n",
    "        gauss = d * np.log(2*torch.pi*torch.e)\n",
    "        return .5 * (gauss + score)\n",
    "\n",
    "threshold(1.2, d=10)"
   ]
  },
  {
   "cell_type": "code",
   "execution_count": null,
   "metadata": {},
   "outputs": [],
   "source": [
    "y_pred = np.zeros_like(y_score)\n",
    "y_pred[y_score > threshold(1.2, d=10)] = 1\n",
    "\n",
    "from sklearn.metrics import classification_report\n",
    "print(classification_report(y_test, y_pred))\n",
    "\n",
    "from sklearn.metrics import confusion_matrix\n",
    "confusion_matrix(y_test, y_pred)"
   ]
  },
  {
   "cell_type": "code",
   "execution_count": null,
   "metadata": {},
   "outputs": [],
   "source": [
    "# Calcular la diferencia entre TPR y FPR para cada umbral\n",
    "differences = tpr - fpr\n",
    "\n",
    "# Encontrar el índice del umbral que maximiza la diferencia\n",
    "optimal_threshold_index = np.argmax(differences)\n",
    "\n",
    "# Obtener el umbral óptimo\n",
    "optimal_threshold = thresholds[optimal_threshold_index]\n",
    "\n",
    "print(\"Optimal threshold:\", optimal_threshold)"
   ]
  },
  {
   "cell_type": "code",
   "execution_count": null,
   "metadata": {},
   "outputs": [],
   "source": [
    "import numpy as np\n",
    "from scipy import stats\n",
    "\n",
    "# Tus datos\n",
    "data1 = y_score[y_test==0]\n",
    "data2 = y_score[y_test==1]\n",
    "\n",
    "# Realizar la prueba t\n",
    "t_stat, p_value = stats.ttest_ind(data1, data2)\n",
    "\n",
    "print(f\"t-statistic: {t_stat}\")\n",
    "print(f\"p-value: {p_value}\")"
   ]
  },
  {
   "cell_type": "code",
   "execution_count": null,
   "metadata": {},
   "outputs": [],
   "source": []
  },
  {
   "cell_type": "code",
   "execution_count": null,
   "metadata": {},
   "outputs": [],
   "source": []
  }
 ],
 "metadata": {
  "kernelspec": {
   "display_name": "DeepLearning",
   "language": "python",
   "name": "python3"
  },
  "language_info": {
   "codemirror_mode": {
    "name": "ipython",
    "version": 3
   },
   "file_extension": ".py",
   "mimetype": "text/x-python",
   "name": "python",
   "nbconvert_exporter": "python",
   "pygments_lexer": "ipython3",
   "version": "3.10.9"
  },
  "orig_nbformat": 4
 },
 "nbformat": 4,
 "nbformat_minor": 2
}
