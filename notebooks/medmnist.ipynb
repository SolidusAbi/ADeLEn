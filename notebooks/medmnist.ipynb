{
 "cells": [
  {
   "cell_type": "markdown",
   "metadata": {},
   "source": [
    "# Probando!!!"
   ]
  },
  {
   "cell_type": "code",
   "execution_count": null,
   "metadata": {},
   "outputs": [],
   "source": [
    "import medmnist, torch\n",
    "from medmnist import INFO, Evaluator\n",
    "import torch.utils.data as data\n",
    "\n",
    "import os, sys\n",
    "project_dir = os.path.join(os.getcwd(),'..')\n",
    "if project_dir not in sys.path:\n",
    "    sys.path.append(project_dir)\n",
    "\n",
    "\n",
    "print(f\"MedMNIST v{medmnist.__version__} @ {medmnist.HOMEPAGE}\")"
   ]
  },
  {
   "cell_type": "code",
   "execution_count": null,
   "metadata": {},
   "outputs": [],
   "source": [
    "data_flag = 'pneumoniamnist'\n",
    "# data_flag = 'breastmnist'\n",
    "download = True\n",
    "\n",
    "NUM_EPOCHS = 3\n",
    "BATCH_SIZE = 128\n",
    "lr = 0.001\n",
    "\n",
    "info = INFO[data_flag]\n",
    "task = info['task']\n",
    "n_channels = info['n_channels']\n",
    "n_classes = len(info['label'])\n",
    "\n",
    "DataClass = getattr(medmnist, info['python_class'])"
   ]
  },
  {
   "cell_type": "code",
   "execution_count": null,
   "metadata": {},
   "outputs": [],
   "source": [
    "from torchvision import transforms\n",
    "from torch.utils import data\n",
    "\n",
    "# function for normalize values to 0 and 1\n",
    "def normalize(data:torch.Tensor):\n",
    "    data_min = data.min()\n",
    "    data_max = data.max()\n",
    "    data = (data - data_min) / (data_max - data_min)\n",
    "    return data\n",
    "\n",
    "# preprocessing\n",
    "data_transform = transforms.Compose([\n",
    "    transforms.ToTensor(),\n",
    "    # transforms.Resize((32,32)),\n",
    "    transforms.Normalize(mean=[.5], std=[.5]),\n",
    "    # transforms.Normalize(mean=[.16], std=[.5])\n",
    "])\n",
    "\n",
    "# load the data\n",
    "train_dataset = DataClass(split='train', transform=data_transform, download=download)\n",
    "test_dataset = DataClass(split='test', transform=data_transform, download=download)\n",
    "\n",
    "# pil_dataset = DataClass(split='train', download=download)\n",
    "\n",
    "# encapsulate data into dataloader form\n",
    "train_loader = data.DataLoader(dataset=train_dataset, batch_size=BATCH_SIZE, shuffle=True)\n",
    "train_loader_at_eval = data.DataLoader(dataset=train_dataset, batch_size=2*BATCH_SIZE, shuffle=False)\n",
    "test_loader = data.DataLoader(dataset=test_dataset, batch_size=4*BATCH_SIZE, shuffle=False)"
   ]
  },
  {
   "cell_type": "code",
   "execution_count": null,
   "metadata": {},
   "outputs": [],
   "source": [
    "train_dataset_original_labels = train_dataset.labels.copy()"
   ]
  },
  {
   "cell_type": "code",
   "execution_count": null,
   "metadata": {},
   "outputs": [],
   "source": [
    "train_dataset.montage(length=20)"
   ]
  },
  {
   "cell_type": "code",
   "execution_count": null,
   "metadata": {},
   "outputs": [],
   "source": [
    "# from torch.utils.data import Subset, DataLoader\n",
    "# import numpy as np\n",
    "\n",
    "# normal_idx = torch.tensor(np.where((train_dataset_original_labels == 1))[0])\n",
    "# anomaly_idx = torch.tensor(np.where((train_dataset_original_labels == 0))[0])\n",
    "\n",
    "# idx = torch.cat([normal_idx, anomaly_idx[:512]])\n",
    "\n",
    "# # change labels to 0 and 1, the rest to -1\n",
    "# train_dataset.labels = np.ones_like(train_dataset_original_labels).flatten() * -1\n",
    "# # Original\n",
    "# # train_dataset.labels[normal_idx] = 0\n",
    "# # train_dataset.labels[anomaly_idx] = 1\n",
    "\n",
    "# #Modified\n",
    "# train_dataset.labels[normal_idx] = 1\n",
    "# train_dataset.labels[anomaly_idx] = 0\n",
    "\n",
    "# x_train_set = Subset(train_dataset, idx)\n",
    "# train_loader =  DataLoader(x_train_set, 512, shuffle=True)"
   ]
  },
  {
   "cell_type": "code",
   "execution_count": null,
   "metadata": {},
   "outputs": [],
   "source": [
    "from torch.utils.data import Subset, DataLoader\n",
    "import numpy as np\n",
    "\n",
    "normal_idx = torch.tensor(np.where((train_dataset_original_labels == 0))[0])\n",
    "anomaly_idx = torch.tensor(np.where((train_dataset_original_labels == 1))[0])\n",
    "\n",
    "fake_normal_idx = anomaly_idx[256:256+24]\n",
    "idx = torch.cat([normal_idx, fake_normal_idx, anomaly_idx[:256]])\n",
    "# idx = torch.cat([normal_idx, anomaly_idx[:256]])\n",
    "\n",
    "\n",
    "# change labels to 0 and 1, the rest to -1\n",
    "train_dataset.labels = np.ones_like(train_dataset_original_labels).flatten() * -1\n",
    "# Original\n",
    "train_dataset.labels[normal_idx] = 0\n",
    "train_dataset.labels[anomaly_idx] = 1\n",
    "train_dataset.labels[fake_normal_idx] = 0\n",
    "\n",
    "\n",
    "x_train_set = Subset(train_dataset, idx)\n",
    "train_loader =  DataLoader(x_train_set, 100, shuffle=True)"
   ]
  },
  {
   "cell_type": "code",
   "execution_count": null,
   "metadata": {},
   "outputs": [],
   "source": [
    "print(normal_idx.shape, anomaly_idx.shape)\n",
    "\n",
    "bin_count = np.array([0,0])\n",
    "for _, y in train_loader:\n",
    "    bin_count += np.bincount(y.flatten(), minlength=2)\n",
    "\n",
    "print(bin_count)"
   ]
  },
  {
   "cell_type": "markdown",
   "metadata": {},
   "source": [
    "# Model"
   ]
  },
  {
   "cell_type": "code",
   "execution_count": null,
   "metadata": {},
   "outputs": [],
   "source": [
    "import torch\n",
    "from torch import nn\n",
    "from VAE.AnomalyDetector import AnomalyDetector\n",
    "from VAE.utils import SGVBL, cosine_scheduler\n",
    "\n",
    "# class VAEModel(nn.Module):\n",
    "#     def __init__(self, input_size, latent_space):\n",
    "#         super(VAEModel, self).__init__()\n",
    "#         conv_out_size = input_size // (2*2)\n",
    "#         self.encoder = nn.Sequential(\n",
    "#             nn.Conv2d(1,16, 3, stride=1, padding=1),\n",
    "#             nn.BatchNorm2d(16),\n",
    "#             nn.Dropout2d(0.2),\n",
    "#             nn.ReLU(),\n",
    "#             nn.MaxPool2d(3, stride=2, padding=1),\n",
    "#             nn.Conv2d(16, 32, 3, stride=1, padding=1),\n",
    "#             nn.BatchNorm2d(32),\n",
    "#             nn.Dropout2d(0.2),\n",
    "#             nn.ReLU(),\n",
    "#             nn.MaxPool2d(3, stride=2, padding=1),\n",
    "#             nn.Flatten(),\n",
    "#             nn.Linear(32*(conv_out_size**2), 128),\n",
    "#             nn.BatchNorm1d(128),\n",
    "#             nn.Dropout(0.5),\n",
    "#             nn.ReLU(),\n",
    "#         )\n",
    "\n",
    "#         self.botleneck = AnomalyDetector(128, latent_space)\n",
    "\n",
    "#         self.decoder = nn.Sequential(\n",
    "#             nn.Linear(latent_space, 128),\n",
    "#             nn.BatchNorm1d(128),\n",
    "#             # nn.Dropout(0.1),\n",
    "#             nn.ReLU(),\n",
    "#             nn.Linear(128, 32*(conv_out_size**2)),\n",
    "#             nn.BatchNorm1d(32*(conv_out_size**2)),\n",
    "#             # nn.Dropout(0.1),\n",
    "#             nn.ReLU(),\n",
    "#             nn.Unflatten(1, (32, conv_out_size, conv_out_size)),\n",
    "#             nn.Upsample(scale_factor=2),\n",
    "#             nn.Conv2d(32, 16, 3, stride=1, padding=1),\n",
    "#             nn.BatchNorm2d(16),\n",
    "#             # nn.Dropout2d(0.1),\n",
    "#             nn.ReLU(),\n",
    "#             nn.Upsample(scale_factor=2),\n",
    "#             nn.Conv2d(16, 1, 3, stride=1, padding=1),\n",
    "#         )\n",
    "\n",
    "\n",
    "#     def forward(self, x:torch.Tensor) -> torch.Tensor:\n",
    "#         x = self.encoder(x)\n",
    "#         x = self.botleneck(x)\n",
    "#         x = self.decoder(x)\n",
    "#         return x\n",
    "\n",
    "# model = VAEModel(28, 2)\n",
    "# from torch.nn.functional import mse_loss\n",
    "# sgvbl = SGVBL(model, len(x_train_set), mle=mse_loss)"
   ]
  },
  {
   "cell_type": "code",
   "execution_count": null,
   "metadata": {},
   "outputs": [],
   "source": [
    "from ADeLEn.model import ADeLEn\n",
    "from torch.nn.functional import mse_loss\n",
    "\n",
    "# model = ADeLEn((28, 28), [1, 12, 32], [1024, 512, 128, 2], skip_connection=False) # Old implementation\n",
    "model = ADeLEn((28, 28), [1, 12, 32], [512, 32], bottleneck=2, skip_connection=False)\n",
    "from torch.nn.functional import mse_loss\n",
    "sgvbl = SGVBL(model, len(x_train_set), mle=mse_loss)"
   ]
  },
  {
   "cell_type": "code",
   "execution_count": null,
   "metadata": {},
   "outputs": [],
   "source": [
    "model"
   ]
  },
  {
   "cell_type": "markdown",
   "metadata": {},
   "source": [
    "# Training"
   ]
  },
  {
   "cell_type": "code",
   "execution_count": null,
   "metadata": {},
   "outputs": [],
   "source": [
    "\n",
    "device = torch.device('cuda' if torch.cuda.is_available() else 'cpu')\n",
    "model.to(device)\n",
    "model.train()\n",
    "n_epochs = 100\n",
    "from tqdm import tqdm\n",
    "# kl_weight = 0.02\n",
    "\n",
    "epoch_iterator = tqdm(\n",
    "        range(n_epochs),\n",
    "        leave=True,\n",
    "        unit=\"epoch\",\n",
    "        postfix={\"tls\": \"%.4f\" % -1},\n",
    "    )\n",
    "\n",
    "kl_weight = 1.5*cosine_scheduler(n_epochs)\n",
    "\n",
    "opt = torch.optim.Adam(model.parameters(), lr=1e-3)\n",
    "for epoch in epoch_iterator:\n",
    "    epoch_loss = 0.\n",
    "    # kl_weight = min(kl_weight+0.012, .9)\n",
    "    for x, y in train_loader:\n",
    "        # check if there are a target with 1\n",
    "        # if torch.any(y == 1):\n",
    "            # print(\"Anomaly detected\")\n",
    "            # break\n",
    "        x = x.to(device) # GPU\n",
    "        opt.zero_grad()\n",
    "        x_hat = torch.tanh(model(x))\n",
    "        # loss = sgvbl(x, x_hat, y, kl_weight[epoch])\n",
    "        loss = sgvbl(x, x_hat, y, 1)\n",
    "        epoch_loss += loss.detach().item()\n",
    "\n",
    "        loss.backward()\n",
    "        opt.step()\n",
    "    \n",
    "    epoch_iterator.set_postfix(tls=\"%.3f\" % (epoch_loss/len(train_loader)))\n",
    "\n",
    "model = model.eval()"
   ]
  },
  {
   "cell_type": "markdown",
   "metadata": {},
   "source": [
    "# Result"
   ]
  },
  {
   "cell_type": "code",
   "execution_count": null,
   "metadata": {},
   "outputs": [],
   "source": [
    "import numpy as np\n",
    "from matplotlib import pyplot as plt\n",
    "\n",
    "def plot_latent(model, data, num_batches=100):\n",
    "    model.eval()\n",
    "    fig = plt.figure(figsize=(5,5))\n",
    "    with torch.no_grad():\n",
    "        for i, (x, y) in enumerate(data):\n",
    "            x = x.to(device)\n",
    "            z = model.bottleneck(model.encode_path(x))\n",
    "            z = z.cpu().detach().numpy()\n",
    "            y = y.cpu().detach().numpy()\n",
    "            anomalies = np.where(y == 1)\n",
    "            normal = np.where(y == 0)\n",
    "            if i == 0:\n",
    "                plt.scatter(z[normal, 0], z[normal, 1], c='r', alpha=.7, label='normal')\n",
    "                plt.scatter(z[anomalies, 0], z[anomalies, 1], c='b', alpha=.7, label='anomalies')\n",
    "            else:\n",
    "                plt.scatter(z[normal, 0], z[normal, 1], c='r',alpha=.7)\n",
    "                plt.scatter(z[anomalies, 0], z[anomalies, 1], c='b',alpha=.7)\n",
    "           \n",
    "            if i > num_batches:\n",
    "                plt.legend()\n",
    "                return\n",
    "    plt.legend()\n",
    "    return fig"
   ]
  },
  {
   "cell_type": "code",
   "execution_count": null,
   "metadata": {},
   "outputs": [],
   "source": [
    "model.eval()\n",
    "# model.train()\n",
    "plot_latent(model, train_loader_at_eval, num_batches=1)"
   ]
  },
  {
   "cell_type": "code",
   "execution_count": null,
   "metadata": {},
   "outputs": [],
   "source": [
    "model"
   ]
  },
  {
   "cell_type": "code",
   "execution_count": null,
   "metadata": {},
   "outputs": [],
   "source": [
    "x, y = next(iter(train_loader))\n",
    "x_0 = x[np.argwhere(y==0)[0].squeeze()[0]].unsqueeze(0)\n",
    "x_1 = x[np.argwhere(y==1)[0].squeeze()[0]].unsqueeze(0)\n",
    "x = torch.cat([x_0, x_1], dim=0)\n",
    "# _ = model.bottleneck(model.encoder(x.to(device)))\n",
    "_ = model(x.to(device))\n",
    "\n",
    "# mu, sigma = model.bottleneck[1].anomaly_detector.mu.detach().cpu(), model.bottleneck[1].anomaly_detector.sigma.detach().cpu()\n",
    "mu, sigma = model.bottleneck.mu.detach().cpu(), model.bottleneck.sigma.detach().cpu()\n",
    "\n",
    "plt.figure(figsize=(8,5))\n",
    "plt.subplot(1,2,1)\n",
    "plt.title(\"Pneumonia\", fontsize='x-large')\n",
    "# plt.xlabel(\"$\\mathcal{N}([%.3f, %.3f], [%.3f, %.3f])$\" % (*mu[0].numpy().tolist(), *sigma[0].numpy().tolist()), fontsize='large')\n",
    "plt.xticks([])\n",
    "plt.yticks([])\n",
    "plt.imshow(x[0][0], cmap='gray')\n",
    "plt.subplot(1,2,2)\n",
    "plt.title(\"Normal\", fontsize='x-large')\n",
    "# plt.xlabel(\"$\\mathcal{N}([%.3f, %.3f], [%.3f, %.3f])$\" % (*mu[1].numpy().tolist(), *sigma[1].numpy().tolist()), fontsize='large')\n",
    "plt.xticks([])\n",
    "plt.yticks([])\n",
    "plt.imshow(x[1][0], cmap='gray')\n",
    "\n",
    "plt.savefig('figures/medmnist_test.pdf', bbox_inches='tight')\n",
    "plt.show()\n",
    "\n",
    "x = torch.cat([x_0, x_1])\n",
    "# z = model.bottleneck(model.encoder(x.to(device))).detach().cpu()\n",
    "mu, sigma"
   ]
  },
  {
   "cell_type": "code",
   "execution_count": null,
   "metadata": {},
   "outputs": [],
   "source": [
    "x_hat = model(x_0.to(device))\n",
    "plt.subplot(2,2,1)\n",
    "plt.imshow(x_hat[0,0].detach().cpu(), cmap='gray')\n",
    "plt.subplot(2,2,2)\n",
    "plt.imshow(x_0[0,0], cmap='gray')\n",
    "\n",
    "x_hat = model(x_1.to(device))\n",
    "plt.subplot(2,2,3)\n",
    "plt.imshow(x_hat[0,0].detach().cpu(), cmap='gray')\n",
    "plt.subplot(2,2,4)\n",
    "plt.imshow(x_1[0,0], cmap='gray')\n",
    "\n",
    "mse_loss(x_hat, x_0.to(device)), mse_loss(x_hat, x_1.to(device))\n"
   ]
  },
  {
   "cell_type": "code",
   "execution_count": null,
   "metadata": {},
   "outputs": [],
   "source": [
    "model"
   ]
  },
  {
   "cell_type": "code",
   "execution_count": null,
   "metadata": {},
   "outputs": [],
   "source": [
    "bottleneck, unflatten = model.bottleneck[1:]\n",
    "bottleneck = bottleneck.bottleneck[2]"
   ]
  },
  {
   "cell_type": "code",
   "execution_count": null,
   "metadata": {},
   "outputs": [],
   "source": [
    "import numpy as np\n",
    "# def plot_reconstructed(autoencoder, r0=(-10, 10), r1=(-10, 10), n=12):\n",
    "#     w = 28\n",
    "#     img = np.zeros((n*w, n*w))\n",
    "\n",
    "#     bottleneck, unflatten = autoencoder.bottleneck[1:]\n",
    "#     bottleneck = bottleneck.bottleneck[2]\n",
    "\n",
    "#     for i, y in enumerate(np.linspace(*r1, n)):\n",
    "#         for j, x in enumerate(np.linspace(*r0, n)):\n",
    "#             z = torch.Tensor([[x, y]]).to(device)\n",
    "#             x_hat = torch.tanh(autoencoder.decoder(unflatten(bottleneck(z)))) # ADeLEn\n",
    "#             # x_hat = torch.tanh(autoencoder.decoder(z))\n",
    "#             x_hat = x_hat.reshape(w, w).to('cpu').detach().numpy()\n",
    "#             img[(n-1-i)*w:(n-1-i+1)*w, j*w:(j+1)*w] = x_hat\n",
    "    \n",
    "#     plt.xlabel('$\\mathcal{N}(0, \\sigma_1)$', fontsize='x-large')\n",
    "#     plt.ylabel('$\\mathcal{N}(0, \\sigma_2)$', fontsize='x-large')\n",
    "#     plt.imshow(img, extent=[*r0, *r1], cmap='viridis')\n",
    "\n",
    "def plot_reconstructed(model, r0=(-10, 10), r1=(-10, 10), n=12):\n",
    "    w = 28\n",
    "    img = np.zeros((n*w, n*w))\n",
    "\n",
    "    for i, y in enumerate(np.linspace(*r1, n)):\n",
    "        for j, x in enumerate(np.linspace(*r0, n)):\n",
    "            z = torch.Tensor([[x, y]]).to(device)\n",
    "            x_hat = torch.tanh(model.decode_path(z)) # ADeLEn\n",
    "            # x_hat = torch.tanh(autoencoder.decoder(z))\n",
    "            x_hat = x_hat.reshape(w, w).to('cpu').detach().numpy()\n",
    "            img[(n-1-i)*w:(n-1-i+1)*w, j*w:(j+1)*w] = x_hat\n",
    "    \n",
    "    plt.xlabel('$\\mathcal{N}(0, \\sigma_1)$', fontsize='x-large')\n",
    "    plt.ylabel('$\\mathcal{N}(0, \\sigma_2)$', fontsize='x-large')\n",
    "    plt.imshow(img, extent=[*r0, *r1], cmap='viridis')"
   ]
  },
  {
   "cell_type": "code",
   "execution_count": null,
   "metadata": {},
   "outputs": [],
   "source": [
    "model.eval()\n",
    "plot_reconstructed(model, r0=(-5, 5), r1=(-5, 5), n=15)"
   ]
  },
  {
   "cell_type": "code",
   "execution_count": null,
   "metadata": {},
   "outputs": [],
   "source": [
    "model"
   ]
  },
  {
   "cell_type": "code",
   "execution_count": null,
   "metadata": {},
   "outputs": [],
   "source": [
    "x_test, y_test = next(iter(test_loader))\n",
    "model.eval()\n",
    "print(x_test.shape)\n",
    "x_0 = x_test[np.argwhere(y_test==0)[0].squeeze()[:100]]\n",
    "x_1 = x_test[np.argwhere(y_test==1)[0].squeeze()[:100]]\n",
    "\n",
    "x = torch.cat([x_0, x_1], dim=0)\n",
    "\n",
    "x_enc = model.encode_path(x.to(device))\n",
    "# x_enc, sk = model.encoder(x.to(device))\n",
    "# flatten, bottleneck, unflatten = model.bottleneck[:3]\n",
    "# bottleneck = bottleneck.bottleneck[:2]\n",
    "x_bottleneck = model.bottleneck(x_enc)\n",
    "\n",
    "anomaly_detector = model.bottleneck\n",
    "sigma = anomaly_detector.sigma.detach().cpu()\n",
    "sigma.mean(axis=0), sigma.std(axis=0)"
   ]
  },
  {
   "cell_type": "code",
   "execution_count": null,
   "metadata": {},
   "outputs": [],
   "source": [
    "model.bottleneck"
   ]
  },
  {
   "cell_type": "code",
   "execution_count": null,
   "metadata": {},
   "outputs": [],
   "source": [
    "sigma[:100].mean(axis=0), sigma[100:].mean(axis=0)"
   ]
  },
  {
   "cell_type": "code",
   "execution_count": null,
   "metadata": {},
   "outputs": [],
   "source": [
    "sigma[100:]\n"
   ]
  },
  {
   "cell_type": "code",
   "execution_count": null,
   "metadata": {},
   "outputs": [],
   "source": [
    "from sklearn.decomposition import PCA\n",
    "\n",
    "pca = PCA(n_components=2)\n",
    "mu_2d = pca.fit_transform(x_bottleneck.detach().cpu().numpy())\n",
    "\n",
    "import matplotlib.pyplot as plt\n",
    "\n",
    "plt.scatter(mu_2d[:, 0], mu_2d[:, 1])\n",
    "plt.show()"
   ]
  }
 ],
 "metadata": {
  "kernelspec": {
   "display_name": "DeepLearning",
   "language": "python",
   "name": "python3"
  },
  "language_info": {
   "codemirror_mode": {
    "name": "ipython",
    "version": 3
   },
   "file_extension": ".py",
   "mimetype": "text/x-python",
   "name": "python",
   "nbconvert_exporter": "python",
   "pygments_lexer": "ipython3",
   "version": "3.10.9"
  },
  "orig_nbformat": 4
 },
 "nbformat": 4,
 "nbformat_minor": 2
}
