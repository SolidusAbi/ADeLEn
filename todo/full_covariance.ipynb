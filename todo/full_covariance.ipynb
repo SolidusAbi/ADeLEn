{
 "cells": [
  {
   "cell_type": "code",
   "execution_count": 1,
   "metadata": {},
   "outputs": [],
   "source": [
    "import numpy as np\n",
    "import os\n",
    "import pandas as pd\n",
    "import sys\n",
    "import torch\n",
    "\n",
    "from matplotlib import pyplot as plt\n",
    "from tqdm import tqdm\n",
    "\n",
    "project_dir = os.path.join(os.getcwd(),'..')\n",
    "if project_dir not in sys.path:\n",
    "    sys.path.append(project_dir)"
   ]
  },
  {
   "cell_type": "code",
   "execution_count": 2,
   "metadata": {},
   "outputs": [
    {
     "name": "stdout",
     "output_type": "stream",
     "text": [
      "tensor([3, 6, 7])\n",
      "tensor([[ 0,  1,  2],\n",
      "        [-2,  4,  5],\n",
      "        [-2, -2,  8]])\n"
     ]
    }
   ],
   "source": [
    "x = torch.arange(9).reshape(3,3)\n",
    "idx = torch.tril_indices(3, 3, offset=-1)\n",
    "\n",
    "# Usa los índices para obtener los elementos de la parte inferior triangular\n",
    "lower_triangular_elements = x[idx[0], idx[1]]\n",
    "x[idx[0], idx[1]] = -2\n",
    "print(lower_triangular_elements)\n",
    "print(x)"
   ]
  },
  {
   "cell_type": "code",
   "execution_count": 3,
   "metadata": {},
   "outputs": [
    {
     "ename": "TypeError",
     "evalue": "stack(): argument 'tensors' (position 1) must be tuple of Tensors, not Tensor",
     "output_type": "error",
     "traceback": [
      "\u001b[0;31m---------------------------------------------------------------------------\u001b[0m",
      "\u001b[0;31mTypeError\u001b[0m                                 Traceback (most recent call last)",
      "Cell \u001b[0;32mIn[3], line 1\u001b[0m\n\u001b[0;32m----> 1\u001b[0m argwhere_format \u001b[38;5;241m=\u001b[39m \u001b[43mtorch\u001b[49m\u001b[38;5;241;43m.\u001b[39;49m\u001b[43mstack\u001b[49m\u001b[43m(\u001b[49m\u001b[43midx\u001b[49m\u001b[43m,\u001b[49m\u001b[43m \u001b[49m\u001b[43mdim\u001b[49m\u001b[38;5;241;43m=\u001b[39;49m\u001b[38;5;241;43m1\u001b[39;49m\u001b[43m)\u001b[49m\n\u001b[1;32m      2\u001b[0m argwhere_format\n",
      "\u001b[0;31mTypeError\u001b[0m: stack(): argument 'tensors' (position 1) must be tuple of Tensors, not Tensor"
     ]
    }
   ],
   "source": [
    "argwhere_format = torch.stack(idx, dim=1)\n",
    "argwhere_format"
   ]
  },
  {
   "cell_type": "code",
   "execution_count": null,
   "metadata": {},
   "outputs": [],
   "source": [
    "import torch\n",
    "\n",
    "# Genera los índices de la parte inferior triangular de una matriz de 3x3\n",
    "indices = torch.tril_indices(row=3, col=3, offset=0)\n",
    "\n",
    "# Transponer y apilar los índices para obtener el formato similar a argwhere\n",
    "argwhere_format = torch.stack((indices[0], indices[1]), dim=1)\n",
    "print(argwhere_format)"
   ]
  },
  {
   "cell_type": "code",
   "execution_count": null,
   "metadata": {},
   "outputs": [],
   "source": [
    "x, y = zip(indices)\n",
    "print(x, y)"
   ]
  },
  {
   "cell_type": "code",
   "execution_count": 4,
   "metadata": {},
   "outputs": [],
   "source": [
    "import torch\n",
    "\n",
    "from VAE.nn.VariationalLayer import VariationalLayer\n",
    "from torch.nn.parameter import Parameter\n",
    "import torch.nn.functional as F\n",
    "from torch import nn\n",
    "import numpy as np\n",
    "\n",
    "class AnomalyDetector(nn.Linear, VariationalLayer):\n",
    "    '''\n",
    "        This implementation is for anomaly detection.\n",
    "    '''\n",
    "    def __init__(self, in_features, out_features, bias=True, full_cov=False, sigma_anomaly=3) -> None:\n",
    "        assert out_features > 1, \"The Gaussian posterior variables must be greater than 1\"\n",
    "\n",
    "        super(AnomalyDetector, self).__init__(in_features, out_features, bias)\n",
    "        self.log_sigma_weight = Parameter(torch.Tensor(out_features, in_features))\n",
    "        self.log_sigma_bias = Parameter(torch.Tensor(out_features))\n",
    "\n",
    "        if full_cov:\n",
    "            # Correlation estimation\n",
    "            self.corr_weight = Parameter(torch.Tensor(out_features, in_features))\n",
    "            self.corr_bias = Parameter(torch.Tensor(out_features))\n",
    "        \n",
    "        torch.nn.init.xavier_uniform_(self.log_sigma_weight)\n",
    "        self.log_sigma_bias.data.fill_(2*np.log((2*sigma_anomaly)))\n",
    "        \n",
    "        self.sigma_anomaly = sigma_anomaly\n",
    "        self.mu, self.sigma = None, None\n",
    "\n",
    "    def forward(self, x: torch.Tensor) -> torch.Tensor:\n",
    "        mu = F.linear(x, self.weight, self.bias) \n",
    "        sigma = torch.exp(0.5 * F.linear(x, self.log_sigma_weight, self.log_sigma_bias))\n",
    "\n",
    "        # if self.training:\n",
    "        self.mu, self.sigma = mu, sigma\n",
    "\n",
    "        # Reparameterization trick\n",
    "        eps = torch.normal(0, torch.ones_like(sigma))\n",
    "        return mu + sigma * eps\n",
    "\n",
    "    def kl_reg(self, targets: torch.Tensor) -> torch.Tensor:\n",
    "        # KL-Divergence regularization\n",
    "        assert torch.all((targets == 0) | (targets == 1))\n",
    "        sigma_2 = (torch.ones_like(targets) + ((self.sigma_anomaly-1) * targets)).unsqueeze(1).cuda()\n",
    "        result = (torch.log(sigma_2) - torch.log(self.sigma) + (self.sigma**2 + self.mu**2)/(2*sigma_2**2) - 0.5)\n",
    "        \n",
    "        return result.mean() "
   ]
  },
  {
   "cell_type": "markdown",
   "metadata": {},
   "source": [
    "## Correlation and Covariance Implementation"
   ]
  },
  {
   "cell_type": "code",
   "execution_count": 110,
   "metadata": {},
   "outputs": [],
   "source": [
    "import math\n",
    "in_features, out_features = 10, 3\n",
    "corr_size = math.comb(out_features, 2)\n",
    "corr_weight = Parameter(torch.Tensor(corr_size, in_features))\n",
    "corr_bias = Parameter(torch.Tensor(corr_size))\n",
    "\n",
    "log_sigma_weight = Parameter(torch.Tensor(out_features, in_features))\n",
    "log_sigma_bias = Parameter(torch.Tensor(out_features))\n",
    "\n",
    "torch.nn.init.xavier_uniform_(log_sigma_weight)\n",
    "log_sigma_bias.data.fill_(2*np.log((2*1)))\n",
    "\n",
    "torch.nn.init.xavier_uniform_(corr_weight)\n",
    "corr_bias.data.fill_(0)\n",
    "\n",
    "x = torch.rand((5, 10))"
   ]
  },
  {
   "cell_type": "code",
   "execution_count": 111,
   "metadata": {},
   "outputs": [
    {
     "name": "stdout",
     "output_type": "stream",
     "text": [
      "tensor([[ 0.6322, -0.2046, -0.4174],\n",
      "        [ 0.4306,  0.0737,  0.2556],\n",
      "        [ 0.6470,  0.1931,  0.1220],\n",
      "        [ 0.4489, -0.4777,  0.0782],\n",
      "        [ 0.6865,  0.2448,  0.4651]], grad_fn=<TanhBackward0>)\n",
      "tensor([[1.7624, 2.4587, 1.5704],\n",
      "        [1.8130, 1.6283, 2.6903],\n",
      "        [1.8902, 2.9939, 2.0489],\n",
      "        [1.7350, 1.6193, 2.1700],\n",
      "        [1.3757, 2.3768, 2.0024]], grad_fn=<ExpBackward0>)\n"
     ]
    }
   ],
   "source": [
    "corr = F.tanh(F.linear(x, corr_weight, corr_bias))\n",
    "sigma = torch.exp(0.5 * F.linear(x, log_sigma_weight, log_sigma_bias))\n",
    "\n",
    "print(corr)\n",
    "print(sigma)"
   ]
  },
  {
   "cell_type": "code",
   "execution_count": 119,
   "metadata": {},
   "outputs": [
    {
     "data": {
      "text/plain": [
       "torch.Size([5, 3])"
      ]
     },
     "execution_count": 119,
     "metadata": {},
     "output_type": "execute_result"
    }
   ],
   "source": [
    "corr.shape"
   ]
  },
  {
   "cell_type": "code",
   "execution_count": 112,
   "metadata": {},
   "outputs": [
    {
     "data": {
      "text/plain": [
       "(tensor([2.7396, 1.2711, 3.6612, 1.2610, 2.2448], grad_fn=<MulBackward0>),\n",
       " tensor([-0.5663,  0.3595,  0.7477, -1.7986,  0.6743], grad_fn=<MulBackward0>),\n",
       " tensor([-1.6115,  1.1198,  0.7485,  0.2746,  2.2134], grad_fn=<MulBackward0>))"
      ]
     },
     "execution_count": 112,
     "metadata": {},
     "output_type": "execute_result"
    }
   ],
   "source": [
    "cov1 = corr[:, 0] * (sigma[:, 0] * sigma[:, 1])\n",
    "cov2 = corr[:, 1] * (sigma[:, 0] * sigma[:, 2])\n",
    "cov3 = corr[:, 2] * (sigma[:, 1] * sigma[:, 2])\n",
    "cov1, cov2, cov3"
   ]
  },
  {
   "cell_type": "code",
   "execution_count": 113,
   "metadata": {},
   "outputs": [
    {
     "data": {
      "text/plain": [
       "tensor([[[0., 0., 0.],\n",
       "         [1., 0., 0.],\n",
       "         [1., 1., 0.]]])"
      ]
     },
     "execution_count": 113,
     "metadata": {},
     "output_type": "execute_result"
    }
   ],
   "source": [
    "idx = torch.tril_indices(corr.size(1), corr.size(1), offset=-1)\n",
    "\n",
    "a = torch.zeros((1,3,3))\n",
    "a[:, *tuple(idx)] = 1\n",
    "a"
   ]
  },
  {
   "cell_type": "code",
   "execution_count": 114,
   "metadata": {},
   "outputs": [
    {
     "name": "stdout",
     "output_type": "stream",
     "text": [
      "tensor([1, 2, 2]) tensor([0, 0, 1])\n"
     ]
    }
   ],
   "source": [
    "print(*tuple(idx))"
   ]
  },
  {
   "cell_type": "code",
   "execution_count": 115,
   "metadata": {},
   "outputs": [
    {
     "data": {
      "text/plain": [
       "tensor([[1, 2, 2],\n",
       "        [0, 0, 1]])"
      ]
     },
     "execution_count": 115,
     "metadata": {},
     "output_type": "execute_result"
    }
   ],
   "source": [
    "idx"
   ]
  },
  {
   "cell_type": "code",
   "execution_count": 124,
   "metadata": {},
   "outputs": [
    {
     "data": {
      "text/plain": [
       "(tensor([1, 2, 2]), tensor([0, 0, 1]))"
      ]
     },
     "execution_count": 124,
     "metadata": {},
     "output_type": "execute_result"
    }
   ],
   "source": [
    "# idx = list(combinations(range(out_features), 2))\n",
    "idx = torch.tril_indices(corr.size(1), corr.size(1), offset=-1)\n",
    "tuple(idx)"
   ]
  },
  {
   "cell_type": "code",
   "execution_count": 125,
   "metadata": {},
   "outputs": [
    {
     "data": {
      "text/plain": [
       "torch.Size([5, 3])"
      ]
     },
     "execution_count": 125,
     "metadata": {},
     "output_type": "execute_result"
    }
   ],
   "source": [
    "corr.size()"
   ]
  },
  {
   "cell_type": "code",
   "execution_count": 130,
   "metadata": {},
   "outputs": [
    {
     "data": {
      "text/plain": [
       "tensor([[[ 0.0000,  0.0000,  0.0000],\n",
       "         [ 0.6322,  0.0000,  0.0000],\n",
       "         [-0.2046, -0.4174,  0.0000]],\n",
       "\n",
       "        [[ 0.0000,  0.0000,  0.0000],\n",
       "         [ 0.4306,  0.0000,  0.0000],\n",
       "         [ 0.0737,  0.2556,  0.0000]],\n",
       "\n",
       "        [[ 0.0000,  0.0000,  0.0000],\n",
       "         [ 0.6470,  0.0000,  0.0000],\n",
       "         [ 0.1931,  0.1220,  0.0000]],\n",
       "\n",
       "        [[ 0.0000,  0.0000,  0.0000],\n",
       "         [ 0.4489,  0.0000,  0.0000],\n",
       "         [-0.4777,  0.0782,  0.0000]],\n",
       "\n",
       "        [[ 0.0000,  0.0000,  0.0000],\n",
       "         [ 0.6865,  0.0000,  0.0000],\n",
       "         [ 0.2448,  0.4651,  0.0000]]], grad_fn=<CopySlices>)"
      ]
     },
     "execution_count": 130,
     "metadata": {},
     "output_type": "execute_result"
    }
   ],
   "source": [
    "corr_matrix = torch.zeros((corr.size(0), out_features, out_features))\n",
    "corr_matrix[:, *tuple(idx)] = corr\n",
    "corr_matrix"
   ]
  },
  {
   "cell_type": "code",
   "execution_count": 181,
   "metadata": {},
   "outputs": [],
   "source": [
    "def covariance_matrix(corr, sigma):\n",
    "    idx = torch.tril_indices(corr.size(1), corr.size(1), offset=-1)\n",
    "    cov_matrix = torch.zeros((corr.size(0), corr.size(1), corr.size(1)))\n",
    "\n",
    "    test = sigma[:, idx.T]\n",
    "\n",
    "    cov_matrix[:, *tuple(idx)] = corr * test.prod(dim=2)\n",
    "    cov_matrix = cov_matrix + torch.diag_embed(sigma**2)\n",
    "    return cov_matrix"
   ]
  },
  {
   "cell_type": "code",
   "execution_count": 182,
   "metadata": {},
   "outputs": [
    {
     "data": {
      "text/plain": [
       "tensor([[[ 3.1061,  0.0000,  0.0000],\n",
       "         [ 2.7396,  6.0451,  0.0000],\n",
       "         [-0.5663, -1.6115,  2.4663]],\n",
       "\n",
       "        [[ 3.2869,  0.0000,  0.0000],\n",
       "         [ 1.2711,  2.6515,  0.0000],\n",
       "         [ 0.3595,  1.1198,  7.2378]],\n",
       "\n",
       "        [[ 3.5728,  0.0000,  0.0000],\n",
       "         [ 3.6612,  8.9634,  0.0000],\n",
       "         [ 0.7477,  0.7485,  4.1978]],\n",
       "\n",
       "        [[ 3.0103,  0.0000,  0.0000],\n",
       "         [ 1.2610,  2.6220,  0.0000],\n",
       "         [-1.7986,  0.2746,  4.7089]],\n",
       "\n",
       "        [[ 1.8924,  0.0000,  0.0000],\n",
       "         [ 2.2448,  5.6493,  0.0000],\n",
       "         [ 0.6743,  2.2134,  4.0096]]], grad_fn=<AddBackward0>)"
      ]
     },
     "execution_count": 182,
     "metadata": {},
     "output_type": "execute_result"
    }
   ],
   "source": [
    "covariance_matrix(corr, sigma)"
   ]
  },
  {
   "cell_type": "code",
   "execution_count": 131,
   "metadata": {},
   "outputs": [
    {
     "name": "stdout",
     "output_type": "stream",
     "text": [
      "tensor([[ 0.6322, -0.2046, -0.4174],\n",
      "        [ 0.4306,  0.0737,  0.2556],\n",
      "        [ 0.6470,  0.1931,  0.1220],\n",
      "        [ 0.4489, -0.4777,  0.0782],\n",
      "        [ 0.6865,  0.2448,  0.4651]], grad_fn=<TanhBackward0>)\n"
     ]
    }
   ],
   "source": [
    "print(corr)"
   ]
  },
  {
   "cell_type": "code",
   "execution_count": 174,
   "metadata": {},
   "outputs": [
    {
     "data": {
      "text/plain": [
       "(torch.Size([5, 3]), torch.Size([5, 3, 2]), torch.Size([5, 3]))"
      ]
     },
     "execution_count": 174,
     "metadata": {},
     "output_type": "execute_result"
    }
   ],
   "source": [
    "idx = torch.tril_indices(corr.size(1), corr.size(1), offset=-1)\n",
    "test = sigma[:, idx.T]\n",
    "\n",
    "cov = test.prod(dim=-1) * corr\n",
    "\n",
    "corr.shape, test.shape, cov.shape"
   ]
  },
  {
   "cell_type": "code",
   "execution_count": 175,
   "metadata": {},
   "outputs": [
    {
     "data": {
      "text/plain": [
       "(tensor([[[2.4587, 1.7624],\n",
       "          [1.5704, 1.7624],\n",
       "          [1.5704, 2.4587]],\n",
       " \n",
       "         [[1.6283, 1.8130],\n",
       "          [2.6903, 1.8130],\n",
       "          [2.6903, 1.6283]],\n",
       " \n",
       "         [[2.9939, 1.8902],\n",
       "          [2.0489, 1.8902],\n",
       "          [2.0489, 2.9939]],\n",
       " \n",
       "         [[1.6193, 1.7350],\n",
       "          [2.1700, 1.7350],\n",
       "          [2.1700, 1.6193]],\n",
       " \n",
       "         [[2.3768, 1.3757],\n",
       "          [2.0024, 1.3757],\n",
       "          [2.0024, 2.3768]]], grad_fn=<IndexBackward0>),\n",
       " tensor([[4.3332, 2.7678, 3.8612],\n",
       "         [2.9521, 4.8775, 4.3808],\n",
       "         [5.6590, 3.8727, 6.1341],\n",
       "         [2.8095, 3.7650, 3.5138],\n",
       "         [3.2697, 2.7546, 4.7594]], grad_fn=<ProdBackward1>))"
      ]
     },
     "execution_count": 175,
     "metadata": {},
     "output_type": "execute_result"
    }
   ],
   "source": [
    "test, test.prod(dim=-1)"
   ]
  },
  {
   "cell_type": "code",
   "execution_count": 177,
   "metadata": {},
   "outputs": [
    {
     "data": {
      "text/plain": [
       "(4.33321288, 2.76767296, 3.86114248)"
      ]
     },
     "execution_count": 177,
     "metadata": {},
     "output_type": "execute_result"
    }
   ],
   "source": [
    "2.4587 * 1.7624, 1.5704 * 1.7624, 1.5704 * 2.4587"
   ]
  },
  {
   "cell_type": "code",
   "execution_count": 166,
   "metadata": {},
   "outputs": [
    {
     "data": {
      "text/plain": [
       "tensor([[[2.4587, 1.7624],\n",
       "         [1.5704, 1.7624],\n",
       "         [1.5704, 2.4587]],\n",
       "\n",
       "        [[1.6283, 1.8130],\n",
       "         [2.6903, 1.8130],\n",
       "         [2.6903, 1.6283]],\n",
       "\n",
       "        [[2.9939, 1.8902],\n",
       "         [2.0489, 1.8902],\n",
       "         [2.0489, 2.9939]],\n",
       "\n",
       "        [[1.6193, 1.7350],\n",
       "         [2.1700, 1.7350],\n",
       "         [2.1700, 1.6193]],\n",
       "\n",
       "        [[2.3768, 1.3757],\n",
       "         [2.0024, 1.3757],\n",
       "         [2.0024, 2.3768]]], grad_fn=<IndexBackward0>)"
      ]
     },
     "execution_count": 166,
     "metadata": {},
     "output_type": "execute_result"
    }
   ],
   "source": [
    "# idx = torch.triu_indices(3, 3, offset=1)\n",
    "idx = torch.tril_indices(3, 3, offset=-1)\n",
    "test = sigma[:, idx.T]\n",
    "test"
   ]
  },
  {
   "cell_type": "code",
   "execution_count": 150,
   "metadata": {},
   "outputs": [
    {
     "data": {
      "text/plain": [
       "tensor([[1.7624, 2.4587],\n",
       "        [1.7624, 1.5704],\n",
       "        [2.4587, 1.5704]], grad_fn=<IndexBackward0>)"
      ]
     },
     "execution_count": 150,
     "metadata": {},
     "output_type": "execute_result"
    }
   ],
   "source": [
    "sigma[0, [[0,1], [0,2], [1,2]]]"
   ]
  },
  {
   "cell_type": "code",
   "execution_count": 266,
   "metadata": {},
   "outputs": [
    {
     "data": {
      "text/plain": [
       "tensor([[[  1.0000,   0.0000,   0.0000,   0.0000,   0.0000],\n",
       "         [ -2.0000,   4.0000,   0.0000,   0.0000,   0.0000],\n",
       "         [ -2.7931,  -5.1724,   9.0000,   0.0000,   0.0000],\n",
       "         [ -3.1724,  -5.7931,  -7.8621,  16.0000,   0.0000],\n",
       "         [ -2.9310,  -5.1724,  -6.7241,  -7.5862,  25.0000]],\n",
       "\n",
       "        [[ 36.0000,   0.0000,   0.0000,   0.0000,   0.0000],\n",
       "         [-13.0345,  49.0000,   0.0000,   0.0000,   0.0000],\n",
       "         [-11.5862,  -9.6552,  64.0000,   0.0000,   0.0000],\n",
       "         [ -5.5862,  -2.1724,   2.4828,  81.0000,   0.0000],\n",
       "         [  6.2069,  12.0690,  19.3103,  27.9310, 100.0000]],\n",
       "\n",
       "        [[121.0000,   0.0000,   0.0000,   0.0000,   0.0000],\n",
       "         [ 50.0690, 144.0000,   0.0000,   0.0000,   0.0000],\n",
       "         [ 64.1034,  80.6897, 169.0000,   0.0000,   0.0000],\n",
       "         [ 90.2759, 110.0690, 131.7931, 196.0000,   0.0000],\n",
       "         [130.8621, 155.1724, 181.5517, 210.0000, 225.0000]]])"
      ]
     },
     "execution_count": 266,
     "metadata": {},
     "output_type": "execute_result"
    }
   ],
   "source": [
    "def correlation_tests():\n",
    "    # sigma = torch.ones(1,5)*2\n",
    "    sigma = torch.arange(1, 6).reshape(1, 5)\n",
    "    corr = torch.tensor([[1, .5, .25, .2, .1, .09, .08, .05, .02, .01]])\n",
    "\n",
    "    idx = torch.tril_indices(5, 5, offset=-1)\n",
    "\n",
    "    print(tuple(idx))\n",
    "    corr_matrix = torch.zeros((1, 5, 5))\n",
    "    corr_matrix[:, *tuple(idx)] = corr\n",
    "    print(corr_matrix.shape, torch.diag_embed(sigma).shape)\n",
    "    print((corr_matrix + torch.eye(*corr_matrix.shape[1:])))\n",
    "\n",
    "\n",
    "    cov_matrix = torch.zeros((1, 5, 5))\n",
    "    # cov_10 = corr_matrix[:, 1, 0] * (sigma[0, 1] * sigma[0, 0])\n",
    "    # cov_20 = corr_matrix[:, 2, 0] * (sigma[0, 2] * sigma[0, 0])\n",
    "    # cov_21 = corr_matrix[:, 2, 1] * (sigma[0, 2] * sigma[0, 1])\n",
    "    # cov_30 = corr_matrix[:, 3, 0] * (sigma[0, 3] * sigma[0, 0])\n",
    "    # cov_31 = corr_matrix[:, 3, 1] * (sigma[0, 3] * sigma[0, 1])\n",
    "    # cov_32 = corr_matrix[:, 3, 2] * (sigma[0, 3] * sigma[0, 2])\n",
    "\n",
    "    for i in range(1, 5):\n",
    "        for j in range(i):\n",
    "            cov_matrix[:, i, j] = corr_matrix[:, i, j] * (sigma[0, i] * sigma[0, j])\n",
    "\n",
    "    cov_matrix = cov_matrix + torch.diag_embed(sigma**2)\n",
    "    print(cov_matrix)\n",
    "    \n",
    "    return sigma, corr, cov_matrix\n",
    "\n",
    "def correlation_tests(n_samples=1, n_variables=3):\n",
    "    '''\n",
    "        Inneficent way to generate the correlation matrix. This function\n",
    "        is only for testing purposes.\n",
    "    '''\n",
    "    sigma = torch.arange(1, (n_samples*n_variables)+1).reshape(n_samples, n_variables)\n",
    "    \n",
    "    n_corr = math.comb(n_variables, 2)\n",
    "    corr = torch.linspace(-1, 1, steps=n_samples*n_corr).reshape(n_samples, n_corr)\n",
    "    idx = torch.tril_indices(n_variables, n_variables, offset=-1)\n",
    "    corr_matrix = torch.zeros((n_samples, n_variables, n_variables))\n",
    "    for n in range(n_samples):\n",
    "        corr_matrix[n, *tuple(idx)] = corr[n]\n",
    "\n",
    "    cov_matrix = torch.zeros((n_samples, n_variables, n_variables))\n",
    "\n",
    "    for n in range(n_samples):\n",
    "        for i in range(1, n_variables):\n",
    "            for j in range(i):\n",
    "                corr_matrix[n, i, j]\n",
    "                cov_matrix[n, i, j] = corr_matrix[n, i, j] * (sigma[n, i] * sigma[n, j])\n",
    "\n",
    "    cov_matrix = cov_matrix + torch.diag_embed(sigma**2)\n",
    "        \n",
    "    return sigma, corr, cov_matrix\n",
    "\n",
    "sigma, corr, cov_matrix = correlation_tests(n_samples=3, n_variables=5)\n",
    "\n",
    "\n",
    "cov_matrix"
   ]
  },
  {
   "cell_type": "code",
   "execution_count": 271,
   "metadata": {},
   "outputs": [
    {
     "data": {
      "text/plain": [
       "210.0"
      ]
     },
     "execution_count": 271,
     "metadata": {},
     "output_type": "execute_result"
    }
   ],
   "source": [
    "1 * math.sqrt(196*225)"
   ]
  },
  {
   "cell_type": "code",
   "execution_count": 268,
   "metadata": {},
   "outputs": [
    {
     "data": {
      "text/plain": [
       "(tensor([[-1.0000, -0.9310, -0.8621, -0.7931, -0.7241, -0.6552, -0.5862, -0.5172,\n",
       "          -0.4483, -0.3793],\n",
       "         [-0.3103, -0.2414, -0.1724, -0.1034, -0.0345,  0.0345,  0.1034,  0.1724,\n",
       "           0.2414,  0.3103],\n",
       "         [ 0.3793,  0.4483,  0.5172,  0.5862,  0.6552,  0.7241,  0.7931,  0.8621,\n",
       "           0.9310,  1.0000]]),\n",
       " tensor([[ 1,  2,  3,  4,  5],\n",
       "         [ 6,  7,  8,  9, 10],\n",
       "         [11, 12, 13, 14, 15]]))"
      ]
     },
     "execution_count": 268,
     "metadata": {},
     "output_type": "execute_result"
    }
   ],
   "source": [
    "corr, sigma"
   ]
  },
  {
   "cell_type": "code",
   "execution_count": 269,
   "metadata": {},
   "outputs": [],
   "source": [
    "def covariance_matrix(corr, sigma):\n",
    "    n_variables = sigma.size(1)\n",
    "    idx = torch.tril_indices(n_variables, n_variables, offset=-1)\n",
    "    cov_matrix = torch.zeros((corr.size(0), n_variables, n_variables))\n",
    "    test = sigma[:, idx.T]\n",
    "\n",
    "    cov_matrix[:, *tuple(idx)] = corr * test.prod(dim=2)\n",
    "    cov_matrix = cov_matrix + torch.diag_embed(sigma**2)\n",
    "    return cov_matrix"
   ]
  },
  {
   "cell_type": "code",
   "execution_count": 270,
   "metadata": {},
   "outputs": [
    {
     "data": {
      "text/plain": [
       "tensor(True)"
      ]
     },
     "execution_count": 270,
     "metadata": {},
     "output_type": "execute_result"
    }
   ],
   "source": [
    "cov_matrix_opt = covariance_matrix(corr, sigma)\n",
    "\n",
    "torch.all(cov_matrix == cov_matrix_opt)"
   ]
  },
  {
   "cell_type": "code",
   "execution_count": 249,
   "metadata": {},
   "outputs": [
    {
     "data": {
      "text/plain": [
       "14.399999999999999"
      ]
     },
     "execution_count": 249,
     "metadata": {},
     "output_type": "execute_result"
    }
   ],
   "source": [
    "0.6 * math.sqrt(16*36)"
   ]
  },
  {
   "cell_type": "markdown",
   "metadata": {},
   "source": [
    "### ---"
   ]
  },
  {
   "cell_type": "code",
   "execution_count": null,
   "metadata": {},
   "outputs": [],
   "source": [
    "import math\n",
    "in_features, out_features = 10, 3\n",
    "corr_size = math.comb(out_features, 2)\n",
    "corr_weight = Parameter(torch.Tensor(corr_size, in_features))\n",
    "corr_bias = Parameter(torch.Tensor(corr_size))\n",
    "\n",
    "log_sigma_weight = Parameter(torch.Tensor(out_features, in_features))\n",
    "log_sigma_bias = Parameter(torch.Tensor(out_features))\n",
    "\n",
    "torch.nn.init.xavier_uniform_(log_sigma_weight)\n",
    "log_sigma_bias.data.fill_(2*np.log((2*1)))\n",
    "\n",
    "torch.nn.init.xavier_uniform_(corr_weight)\n",
    "corr_bias.data.fill_(0)\n",
    "\n",
    "x = torch.rand((5, 10))"
   ]
  },
  {
   "cell_type": "code",
   "execution_count": 274,
   "metadata": {},
   "outputs": [
    {
     "name": "stdout",
     "output_type": "stream",
     "text": [
      "tensor([[ 0.6322, -0.2046, -0.4174],\n",
      "        [ 0.4306,  0.0737,  0.2556],\n",
      "        [ 0.6470,  0.1931,  0.1220],\n",
      "        [ 0.4489, -0.4777,  0.0782],\n",
      "        [ 0.6865,  0.2448,  0.4651]], grad_fn=<TanhBackward0>)\n",
      "tensor([[3.1061, 6.0451, 2.4663],\n",
      "        [3.2869, 2.6515, 7.2378],\n",
      "        [3.5728, 8.9634, 4.1978],\n",
      "        [3.0103, 2.6220, 4.7089],\n",
      "        [1.8924, 5.6493, 4.0096]], grad_fn=<PowBackward0>)\n"
     ]
    }
   ],
   "source": [
    "corr = F.tanh(F.linear(x, corr_weight, corr_bias))\n",
    "sigma = torch.exp(0.5 * F.linear(x, log_sigma_weight, log_sigma_bias))\n",
    "\n",
    "print(corr)\n",
    "print(sigma**2)"
   ]
  },
  {
   "cell_type": "code",
   "execution_count": 273,
   "metadata": {},
   "outputs": [
    {
     "data": {
      "text/plain": [
       "tensor([[[ 3.1061,  0.0000,  0.0000],\n",
       "         [ 2.7396,  6.0451,  0.0000],\n",
       "         [-0.5663, -1.6115,  2.4663]],\n",
       "\n",
       "        [[ 3.2869,  0.0000,  0.0000],\n",
       "         [ 1.2711,  2.6515,  0.0000],\n",
       "         [ 0.3595,  1.1198,  7.2378]],\n",
       "\n",
       "        [[ 3.5728,  0.0000,  0.0000],\n",
       "         [ 3.6612,  8.9634,  0.0000],\n",
       "         [ 0.7477,  0.7485,  4.1978]],\n",
       "\n",
       "        [[ 3.0103,  0.0000,  0.0000],\n",
       "         [ 1.2610,  2.6220,  0.0000],\n",
       "         [-1.7986,  0.2746,  4.7089]],\n",
       "\n",
       "        [[ 1.8924,  0.0000,  0.0000],\n",
       "         [ 2.2448,  5.6493,  0.0000],\n",
       "         [ 0.6743,  2.2134,  4.0096]]], grad_fn=<AddBackward0>)"
      ]
     },
     "execution_count": 273,
     "metadata": {},
     "output_type": "execute_result"
    }
   ],
   "source": [
    "def covariance_matrix(corr, sigma):\n",
    "    n_variables = sigma.size(1)\n",
    "    idx = torch.tril_indices(n_variables, n_variables, offset=-1)\n",
    "    cov_matrix = torch.zeros((corr.size(0), n_variables, n_variables))\n",
    "    test = sigma[:, idx.T]\n",
    "\n",
    "    cov_matrix[:, *tuple(idx)] = corr * test.prod(dim=2)\n",
    "    cov_matrix = cov_matrix + torch.diag_embed(sigma**2)\n",
    "    return cov_matrix\n",
    "\n",
    "cov_matrix = covariance_matrix(corr, sigma)\n",
    "cov_matrix"
   ]
  }
 ],
 "metadata": {
  "kernelspec": {
   "display_name": "ADeLEn",
   "language": "python",
   "name": "python3"
  },
  "language_info": {
   "codemirror_mode": {
    "name": "ipython",
    "version": 3
   },
   "file_extension": ".py",
   "mimetype": "text/x-python",
   "name": "python",
   "nbconvert_exporter": "python",
   "pygments_lexer": "ipython3",
   "version": "3.12.7"
  }
 },
 "nbformat": 4,
 "nbformat_minor": 2
}
