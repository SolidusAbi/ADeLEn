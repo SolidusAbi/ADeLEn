{
 "cells": [
  {
   "cell_type": "code",
   "execution_count": null,
   "metadata": {},
   "outputs": [],
   "source": [
    "import numpy as np\n",
    "import os\n",
    "import pandas as pd\n",
    "import sys\n",
    "import torch\n",
    "\n",
    "from matplotlib import pyplot as plt\n",
    "from tqdm import tqdm\n",
    "\n",
    "project_dir = os.path.join(os.getcwd(),'..')\n",
    "if project_dir not in sys.path:\n",
    "    sys.path.append(project_dir)"
   ]
  },
  {
   "cell_type": "code",
   "execution_count": null,
   "metadata": {},
   "outputs": [],
   "source": [
    "x = torch.arange(9).reshape(3,3)\n",
    "idx = torch.tril_indices(3, 3, offset=-1)\n",
    "\n",
    "# Usa los índices para obtener los elementos de la parte inferior triangular\n",
    "lower_triangular_elements = x[idx[0], idx[1]]\n",
    "x[idx[0], idx[1]] = -2\n",
    "print(lower_triangular_elements)\n",
    "print(x)"
   ]
  },
  {
   "cell_type": "code",
   "execution_count": null,
   "metadata": {},
   "outputs": [],
   "source": [
    "argwhere_format = torch.stack(idx, dim=1)\n",
    "argwhere_format"
   ]
  },
  {
   "cell_type": "code",
   "execution_count": null,
   "metadata": {},
   "outputs": [],
   "source": [
    "import torch\n",
    "\n",
    "# Genera los índices de la parte inferior triangular de una matriz de 3x3\n",
    "indices = torch.tril_indices(row=3, col=3, offset=0)\n",
    "\n",
    "# Transponer y apilar los índices para obtener el formato similar a argwhere\n",
    "argwhere_format = torch.stack((indices[0], indices[1]), dim=1)\n",
    "print(argwhere_format)"
   ]
  },
  {
   "cell_type": "code",
   "execution_count": null,
   "metadata": {},
   "outputs": [],
   "source": [
    "x, y = zip(indices)\n",
    "print(x, y)"
   ]
  },
  {
   "cell_type": "code",
   "execution_count": null,
   "metadata": {},
   "outputs": [],
   "source": [
    "import torch\n",
    "\n",
    "from VAE.nn.VariationalLayer import VariationalLayer\n",
    "from torch.nn.parameter import Parameter\n",
    "import torch.nn.functional as F\n",
    "from torch import nn\n",
    "import numpy as np\n",
    "\n",
    "class AnomalyDetector(nn.Linear, VariationalLayer):\n",
    "    '''\n",
    "        This implementation is for anomaly detection.\n",
    "    '''\n",
    "    def __init__(self, in_features, out_features, bias=True, full_cov=False, sigma_anomaly=3) -> None:\n",
    "        assert out_features > 1, \"The Gaussian posterior variables must be greater than 1\"\n",
    "\n",
    "        super(AnomalyDetector, self).__init__(in_features, out_features, bias)\n",
    "        self.log_sigma_weight = Parameter(torch.Tensor(out_features, in_features))\n",
    "        self.log_sigma_bias = Parameter(torch.Tensor(out_features))\n",
    "\n",
    "        if full_cov:\n",
    "            # Correlation estimation\n",
    "            self.corr_weight = Parameter(torch.Tensor(out_features, in_features))\n",
    "            self.corr_bias = Parameter(torch.Tensor(out_features))\n",
    "        \n",
    "        torch.nn.init.xavier_uniform_(self.log_sigma_weight)\n",
    "        self.log_sigma_bias.data.fill_(2*np.log((2*sigma_anomaly)))\n",
    "        \n",
    "        self.sigma_anomaly = sigma_anomaly\n",
    "        self.mu, self.sigma = None, None\n",
    "\n",
    "    def forward(self, x: torch.Tensor) -> torch.Tensor:\n",
    "        mu = F.linear(x, self.weight, self.bias) \n",
    "        sigma = torch.exp(0.5 * F.linear(x, self.log_sigma_weight, self.log_sigma_bias))\n",
    "\n",
    "        # if self.training:\n",
    "        self.mu, self.sigma = mu, sigma\n",
    "\n",
    "        # Reparameterization trick\n",
    "        eps = torch.normal(0, torch.ones_like(sigma))\n",
    "        return mu + sigma * eps\n",
    "\n",
    "    def kl_reg(self, targets: torch.Tensor) -> torch.Tensor:\n",
    "        # KL-Divergence regularization\n",
    "        assert torch.all((targets == 0) | (targets == 1))\n",
    "        sigma_2 = (torch.ones_like(targets) + ((self.sigma_anomaly-1) * targets)).unsqueeze(1).cuda()\n",
    "        result = (torch.log(sigma_2) - torch.log(self.sigma) + (self.sigma**2 + self.mu**2)/(2*sigma_2**2) - 0.5)\n",
    "        \n",
    "        return result.mean() "
   ]
  },
  {
   "cell_type": "markdown",
   "metadata": {},
   "source": [
    "## Correlation and Covariance Implementation"
   ]
  },
  {
   "cell_type": "code",
   "execution_count": null,
   "metadata": {},
   "outputs": [],
   "source": [
    "import math\n",
    "in_features, out_features = 10, 3\n",
    "corr_size = math.comb(out_features, 2)\n",
    "corr_weight = Parameter(torch.Tensor(corr_size, in_features))\n",
    "corr_bias = Parameter(torch.Tensor(corr_size))\n",
    "\n",
    "log_sigma_weight = Parameter(torch.Tensor(out_features, in_features))\n",
    "log_sigma_bias = Parameter(torch.Tensor(out_features))\n",
    "\n",
    "torch.nn.init.xavier_uniform_(log_sigma_weight)\n",
    "log_sigma_bias.data.fill_(2*np.log((2*1)))\n",
    "\n",
    "torch.nn.init.xavier_uniform_(corr_weight)\n",
    "corr_bias.data.fill_(0)\n",
    "\n",
    "x = torch.rand((5, 10))"
   ]
  },
  {
   "cell_type": "code",
   "execution_count": null,
   "metadata": {},
   "outputs": [],
   "source": [
    "corr = F.tanh(F.linear(x, corr_weight, corr_bias))\n",
    "sigma = torch.exp(0.5 * F.linear(x, log_sigma_weight, log_sigma_bias))\n",
    "\n",
    "print(corr)\n",
    "print(sigma)"
   ]
  },
  {
   "cell_type": "code",
   "execution_count": null,
   "metadata": {},
   "outputs": [],
   "source": [
    "cov1 = corr[:, 0] * (sigma[:, 0] * sigma[:, 1])\n",
    "cov2 = corr[:, 1] * (sigma[:, 0] * sigma[:, 2])\n",
    "cov3 = corr[:, 2] * (sigma[:, 1] * sigma[:, 2])\n",
    "cov1, cov2, cov3"
   ]
  },
  {
   "cell_type": "code",
   "execution_count": null,
   "metadata": {},
   "outputs": [],
   "source": [
    "idx = torch.triu_indices(corr.size(1), corr.size(1), offset=1)\n",
    "\n",
    "a = torch.zeros((3,3))\n",
    "a[tuple(idx)] = 1\n",
    "a"
   ]
  },
  {
   "cell_type": "code",
   "execution_count": null,
   "metadata": {},
   "outputs": [],
   "source": [
    "# idx = list(combinations(range(out_features), 2))\n",
    "idx = torch.triu_indices(*corr.size(), offset=1)\n",
    "idx.T"
   ]
  },
  {
   "cell_type": "code",
   "execution_count": null,
   "metadata": {},
   "outputs": [],
   "source": [
    "corr.shape"
   ]
  },
  {
   "cell_type": "code",
   "execution_count": null,
   "metadata": {},
   "outputs": [],
   "source": [
    "idx = torch.triu_indices(*corr.size(), offset=1)\n",
    "test = sigma[:, idx.T]\n",
    "\n",
    "cov = test.prod(dim=-1) * corr\n",
    "cov.shape"
   ]
  },
  {
   "cell_type": "code",
   "execution_count": null,
   "metadata": {},
   "outputs": [],
   "source": [
    "def correlation_tests():\n",
    "    sigma = torch.ones(1,3)*2\n",
    "    corr = torch.tensor([[1, .5, .25]])\n",
    "\n",
    "    cov_1 = corr[0,0] * (sigma[0, 0] * sigma[0, 1])\n",
    "    cov_2 = corr[0,1] * (sigma[0, 0] * sigma[0, 2])\n",
    "    cov_3 = corr[0,2] * (sigma[0, 1] * sigma[0, 2])\n",
    "\n",
    "    print(sigma, corr)\n",
    "    print(cov_1, cov_2, cov_3)\n",
    "\n",
    "correlation_tests()"
   ]
  },
  {
   "cell_type": "code",
   "execution_count": null,
   "metadata": {},
   "outputs": [],
   "source": [
    "sigmas = torch.arange(0.1, 1.21, 0.1)\n",
    "sigmas"
   ]
  },
  {
   "cell_type": "code",
   "execution_count": null,
   "metadata": {},
   "outputs": [],
   "source": [
    "indices = torch.tril_indices(corr.size(1), corr.size(1), offset=-1)\n",
    "print(indices)"
   ]
  },
  {
   "cell_type": "code",
   "execution_count": null,
   "metadata": {},
   "outputs": [],
   "source": [
    "import math\n",
    "math.comb(4, 2)"
   ]
  },
  {
   "cell_type": "code",
   "execution_count": null,
   "metadata": {},
   "outputs": [],
   "source": [
    "torch.diag_embed(sigma)"
   ]
  },
  {
   "cell_type": "code",
   "execution_count": null,
   "metadata": {},
   "outputs": [],
   "source": [
    "n_latent = 4\n",
    "tri_idx_row, tri_idx_col = torch.tril_indices(row=n_latent, col=n_latent, offset=-1)\n",
    "\n",
    "print(len(tri_idx_col))"
   ]
  }
 ],
 "metadata": {
  "kernelspec": {
   "display_name": "ADeLEn",
   "language": "python",
   "name": "python3"
  },
  "language_info": {
   "codemirror_mode": {
    "name": "ipython",
    "version": 3
   },
   "file_extension": ".py",
   "mimetype": "text/x-python",
   "name": "python",
   "nbconvert_exporter": "python",
   "pygments_lexer": "ipython3",
   "version": "3.12.7"
  }
 },
 "nbformat": 4,
 "nbformat_minor": 2
}
