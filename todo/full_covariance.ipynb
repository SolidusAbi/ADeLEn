{
 "cells": [
  {
   "cell_type": "code",
   "execution_count": 18,
   "metadata": {},
   "outputs": [],
   "source": [
    "import numpy as np\n",
    "import os\n",
    "import pandas as pd\n",
    "import sys\n",
    "import torch\n",
    "\n",
    "from matplotlib import pyplot as plt\n",
    "from tqdm import tqdm\n",
    "\n",
    "project_dir = os.path.join(os.getcwd(),'..')\n",
    "if project_dir not in sys.path:\n",
    "    sys.path.append(project_dir)"
   ]
  },
  {
   "cell_type": "code",
   "execution_count": 19,
   "metadata": {},
   "outputs": [
    {
     "name": "stdout",
     "output_type": "stream",
     "text": [
      "tensor([3, 6, 7])\n",
      "tensor([[ 0,  1,  2],\n",
      "        [-2,  4,  5],\n",
      "        [-2, -2,  8]])\n"
     ]
    }
   ],
   "source": [
    "x = torch.arange(9).reshape(3,3)\n",
    "idx = torch.tril_indices(3, 3, offset=-1)\n",
    "\n",
    "# Usa los índices para obtener los elementos de la parte inferior triangular\n",
    "lower_triangular_elements = x[idx[0], idx[1]]\n",
    "x[idx[0], idx[1]] = -2\n",
    "print(lower_triangular_elements)\n",
    "print(x)"
   ]
  },
  {
   "cell_type": "code",
   "execution_count": 20,
   "metadata": {},
   "outputs": [
    {
     "ename": "TypeError",
     "evalue": "stack(): argument 'tensors' (position 1) must be tuple of Tensors, not Tensor",
     "output_type": "error",
     "traceback": [
      "\u001b[0;31m---------------------------------------------------------------------------\u001b[0m",
      "\u001b[0;31mTypeError\u001b[0m                                 Traceback (most recent call last)",
      "Cell \u001b[0;32mIn[20], line 1\u001b[0m\n\u001b[0;32m----> 1\u001b[0m argwhere_format \u001b[38;5;241m=\u001b[39m \u001b[43mtorch\u001b[49m\u001b[38;5;241;43m.\u001b[39;49m\u001b[43mstack\u001b[49m\u001b[43m(\u001b[49m\u001b[43midx\u001b[49m\u001b[43m,\u001b[49m\u001b[43m \u001b[49m\u001b[43mdim\u001b[49m\u001b[38;5;241;43m=\u001b[39;49m\u001b[38;5;241;43m1\u001b[39;49m\u001b[43m)\u001b[49m\n\u001b[1;32m      2\u001b[0m argwhere_format\n",
      "\u001b[0;31mTypeError\u001b[0m: stack(): argument 'tensors' (position 1) must be tuple of Tensors, not Tensor"
     ]
    }
   ],
   "source": [
    "argwhere_format = torch.stack(idx, dim=1)\n",
    "argwhere_format"
   ]
  },
  {
   "cell_type": "code",
   "execution_count": 21,
   "metadata": {},
   "outputs": [
    {
     "name": "stdout",
     "output_type": "stream",
     "text": [
      "tensor([[0, 0],\n",
      "        [1, 0],\n",
      "        [1, 1],\n",
      "        [2, 0],\n",
      "        [2, 1],\n",
      "        [2, 2]])\n"
     ]
    }
   ],
   "source": [
    "import torch\n",
    "\n",
    "# Genera los índices de la parte inferior triangular de una matriz de 3x3\n",
    "indices = torch.tril_indices(row=3, col=3, offset=0)\n",
    "\n",
    "# Transponer y apilar los índices para obtener el formato similar a argwhere\n",
    "argwhere_format = torch.stack((indices[0], indices[1]), dim=1)\n",
    "print(argwhere_format)"
   ]
  },
  {
   "cell_type": "code",
   "execution_count": 22,
   "metadata": {},
   "outputs": [
    {
     "name": "stdout",
     "output_type": "stream",
     "text": [
      "(tensor([0, 1, 1, 2, 2, 2]),) (tensor([0, 0, 1, 0, 1, 2]),)\n"
     ]
    }
   ],
   "source": [
    "x, y = zip(indices)\n",
    "print(x, y)"
   ]
  },
  {
   "cell_type": "code",
   "execution_count": 23,
   "metadata": {},
   "outputs": [],
   "source": [
    "import torch\n",
    "\n",
    "from VAE.nn.VariationalLayer import VariationalLayer\n",
    "from torch.nn.parameter import Parameter\n",
    "import torch.nn.functional as F\n",
    "from torch import nn\n",
    "import numpy as np\n",
    "\n",
    "class AnomalyDetector(nn.Linear, VariationalLayer):\n",
    "    '''\n",
    "        This implementation is for anomaly detection.\n",
    "    '''\n",
    "    def __init__(self, in_features, out_features, bias=True, full_cov=False, sigma_anomaly=3) -> None:\n",
    "        assert out_features > 1, \"The Gaussian posterior variables must be greater than 1\"\n",
    "\n",
    "        super(AnomalyDetector, self).__init__(in_features, out_features, bias)\n",
    "        self.log_sigma_weight = Parameter(torch.Tensor(out_features, in_features))\n",
    "        self.log_sigma_bias = Parameter(torch.Tensor(out_features))\n",
    "\n",
    "        if full_cov:\n",
    "            # Correlation estimation\n",
    "            self.corr_weight = Parameter(torch.Tensor(out_features, in_features))\n",
    "            self.corr_bias = Parameter(torch.Tensor(out_features))\n",
    "        \n",
    "        torch.nn.init.xavier_uniform_(self.log_sigma_weight)\n",
    "        self.log_sigma_bias.data.fill_(2*np.log((2*sigma_anomaly)))\n",
    "        \n",
    "        self.sigma_anomaly = sigma_anomaly\n",
    "        self.mu, self.sigma = None, None\n",
    "\n",
    "    def forward(self, x: torch.Tensor) -> torch.Tensor:\n",
    "        mu = F.linear(x, self.weight, self.bias) \n",
    "        sigma = torch.exp(0.5 * F.linear(x, self.log_sigma_weight, self.log_sigma_bias))\n",
    "\n",
    "        # if self.training:\n",
    "        self.mu, self.sigma = mu, sigma\n",
    "\n",
    "        # Reparameterization trick\n",
    "        eps = torch.normal(0, torch.ones_like(sigma))\n",
    "        return mu + sigma * eps\n",
    "\n",
    "    def kl_reg(self, targets: torch.Tensor) -> torch.Tensor:\n",
    "        # KL-Divergence regularization\n",
    "        assert torch.all((targets == 0) | (targets == 1))\n",
    "        sigma_2 = (torch.ones_like(targets) + ((self.sigma_anomaly-1) * targets)).unsqueeze(1).cuda()\n",
    "        result = (torch.log(sigma_2) - torch.log(self.sigma) + (self.sigma**2 + self.mu**2)/(2*sigma_2**2) - 0.5)\n",
    "        \n",
    "        return result.mean() "
   ]
  },
  {
   "cell_type": "markdown",
   "metadata": {},
   "source": [
    "## Correlation and Covariance Implementation"
   ]
  },
  {
   "cell_type": "code",
   "execution_count": 24,
   "metadata": {},
   "outputs": [],
   "source": [
    "import math\n",
    "in_features, out_features = 10, 3\n",
    "corr_size = math.comb(out_features, 2)\n",
    "corr_weight = Parameter(torch.Tensor(corr_size, in_features))\n",
    "corr_bias = Parameter(torch.Tensor(corr_size))\n",
    "\n",
    "log_sigma_weight = Parameter(torch.Tensor(out_features, in_features))\n",
    "log_sigma_bias = Parameter(torch.Tensor(out_features))\n",
    "\n",
    "torch.nn.init.xavier_uniform_(log_sigma_weight)\n",
    "log_sigma_bias.data.fill_(2*np.log((2*1)))\n",
    "\n",
    "torch.nn.init.xavier_uniform_(corr_weight)\n",
    "corr_bias.data.fill_(0)\n",
    "\n",
    "x = torch.rand((5, 10))"
   ]
  },
  {
   "cell_type": "code",
   "execution_count": 25,
   "metadata": {},
   "outputs": [
    {
     "name": "stdout",
     "output_type": "stream",
     "text": [
      "tensor([[-0.4742, -0.7323,  0.2421],\n",
      "        [-0.6136, -0.6057,  0.0196],\n",
      "        [-0.6130, -0.4806, -0.1536],\n",
      "        [-0.5227, -0.8324,  0.7438],\n",
      "        [-0.4280, -0.4303,  0.5668]], grad_fn=<TanhBackward0>)\n",
      "tensor([[2.2982, 2.5568, 1.8826],\n",
      "        [2.0268, 2.8106, 1.5734],\n",
      "        [2.0550, 2.6878, 1.4660],\n",
      "        [3.1454, 2.7031, 2.1273],\n",
      "        [2.1495, 4.4167, 1.7010]], grad_fn=<ExpBackward0>)\n"
     ]
    }
   ],
   "source": [
    "corr = F.tanh(F.linear(x, corr_weight, corr_bias))\n",
    "sigma = torch.exp(0.5 * F.linear(x, log_sigma_weight, log_sigma_bias))\n",
    "\n",
    "print(corr)\n",
    "print(sigma)"
   ]
  },
  {
   "cell_type": "code",
   "execution_count": 26,
   "metadata": {},
   "outputs": [
    {
     "data": {
      "text/plain": [
       "torch.Size([5, 3])"
      ]
     },
     "execution_count": 26,
     "metadata": {},
     "output_type": "execute_result"
    }
   ],
   "source": [
    "corr.shape"
   ]
  },
  {
   "cell_type": "code",
   "execution_count": 27,
   "metadata": {},
   "outputs": [
    {
     "data": {
      "text/plain": [
       "(tensor([-2.7865, -3.4956, -3.3859, -4.4437, -4.0632], grad_fn=<MulBackward0>),\n",
       " tensor([-3.1683, -1.9317, -1.4478, -5.5695, -1.5735], grad_fn=<MulBackward0>),\n",
       " tensor([ 1.1655,  0.0869, -0.6052,  4.2771,  4.2585], grad_fn=<MulBackward0>))"
      ]
     },
     "execution_count": 27,
     "metadata": {},
     "output_type": "execute_result"
    }
   ],
   "source": [
    "cov1 = corr[:, 0] * (sigma[:, 0] * sigma[:, 1])\n",
    "cov2 = corr[:, 1] * (sigma[:, 0] * sigma[:, 2])\n",
    "cov3 = corr[:, 2] * (sigma[:, 1] * sigma[:, 2])\n",
    "cov1, cov2, cov3"
   ]
  },
  {
   "cell_type": "code",
   "execution_count": 28,
   "metadata": {},
   "outputs": [
    {
     "data": {
      "text/plain": [
       "tensor([[[0., 0., 0.],\n",
       "         [1., 0., 0.],\n",
       "         [1., 1., 0.]]])"
      ]
     },
     "execution_count": 28,
     "metadata": {},
     "output_type": "execute_result"
    }
   ],
   "source": [
    "idx = torch.tril_indices(corr.size(1), corr.size(1), offset=-1)\n",
    "\n",
    "a = torch.zeros((1,3,3))\n",
    "a[:, *tuple(idx)] = 1\n",
    "a"
   ]
  },
  {
   "cell_type": "code",
   "execution_count": 29,
   "metadata": {},
   "outputs": [
    {
     "name": "stdout",
     "output_type": "stream",
     "text": [
      "tensor([1, 2, 2]) tensor([0, 0, 1])\n"
     ]
    }
   ],
   "source": [
    "print(*tuple(idx))"
   ]
  },
  {
   "cell_type": "code",
   "execution_count": 30,
   "metadata": {},
   "outputs": [
    {
     "data": {
      "text/plain": [
       "tensor([[1, 2, 2],\n",
       "        [0, 0, 1]])"
      ]
     },
     "execution_count": 30,
     "metadata": {},
     "output_type": "execute_result"
    }
   ],
   "source": [
    "idx"
   ]
  },
  {
   "cell_type": "code",
   "execution_count": 31,
   "metadata": {},
   "outputs": [
    {
     "data": {
      "text/plain": [
       "(tensor([1, 2, 2]), tensor([0, 0, 1]))"
      ]
     },
     "execution_count": 31,
     "metadata": {},
     "output_type": "execute_result"
    }
   ],
   "source": [
    "# idx = list(combinations(range(out_features), 2))\n",
    "idx = torch.tril_indices(corr.size(1), corr.size(1), offset=-1)\n",
    "tuple(idx)"
   ]
  },
  {
   "cell_type": "code",
   "execution_count": 32,
   "metadata": {},
   "outputs": [
    {
     "data": {
      "text/plain": [
       "torch.Size([5, 3])"
      ]
     },
     "execution_count": 32,
     "metadata": {},
     "output_type": "execute_result"
    }
   ],
   "source": [
    "corr.size()"
   ]
  },
  {
   "cell_type": "code",
   "execution_count": 33,
   "metadata": {},
   "outputs": [
    {
     "data": {
      "text/plain": [
       "tensor([[[ 0.0000,  0.0000,  0.0000],\n",
       "         [-0.4742,  0.0000,  0.0000],\n",
       "         [-0.7323,  0.2421,  0.0000]],\n",
       "\n",
       "        [[ 0.0000,  0.0000,  0.0000],\n",
       "         [-0.6136,  0.0000,  0.0000],\n",
       "         [-0.6057,  0.0196,  0.0000]],\n",
       "\n",
       "        [[ 0.0000,  0.0000,  0.0000],\n",
       "         [-0.6130,  0.0000,  0.0000],\n",
       "         [-0.4806, -0.1536,  0.0000]],\n",
       "\n",
       "        [[ 0.0000,  0.0000,  0.0000],\n",
       "         [-0.5227,  0.0000,  0.0000],\n",
       "         [-0.8324,  0.7438,  0.0000]],\n",
       "\n",
       "        [[ 0.0000,  0.0000,  0.0000],\n",
       "         [-0.4280,  0.0000,  0.0000],\n",
       "         [-0.4303,  0.5668,  0.0000]]], grad_fn=<CopySlices>)"
      ]
     },
     "execution_count": 33,
     "metadata": {},
     "output_type": "execute_result"
    }
   ],
   "source": [
    "corr_matrix = torch.zeros((corr.size(0), out_features, out_features))\n",
    "corr_matrix[:, *tuple(idx)] = corr\n",
    "corr_matrix"
   ]
  },
  {
   "cell_type": "code",
   "execution_count": 34,
   "metadata": {},
   "outputs": [],
   "source": [
    "def covariance_matrix(corr, sigma):\n",
    "    idx = torch.tril_indices(corr.size(1), corr.size(1), offset=-1)\n",
    "    cov_matrix = torch.zeros((corr.size(0), corr.size(1), corr.size(1)))\n",
    "\n",
    "    test = sigma[:, idx.T]\n",
    "\n",
    "    cov_matrix[:, *tuple(idx)] = corr * test.prod(dim=2)\n",
    "    cov_matrix = cov_matrix + torch.diag_embed(sigma**2)\n",
    "    return cov_matrix"
   ]
  },
  {
   "cell_type": "code",
   "execution_count": 35,
   "metadata": {},
   "outputs": [
    {
     "data": {
      "text/plain": [
       "tensor([[[ 5.2818,  0.0000,  0.0000],\n",
       "         [-2.7865,  6.5371,  0.0000],\n",
       "         [-3.1683,  1.1655,  3.5442]],\n",
       "\n",
       "        [[ 4.1080,  0.0000,  0.0000],\n",
       "         [-3.4956,  7.8993,  0.0000],\n",
       "         [-1.9317,  0.0869,  2.4755]],\n",
       "\n",
       "        [[ 4.2232,  0.0000,  0.0000],\n",
       "         [-3.3859,  7.2243,  0.0000],\n",
       "         [-1.4478, -0.6052,  2.1492]],\n",
       "\n",
       "        [[ 9.8935,  0.0000,  0.0000],\n",
       "         [-4.4437,  7.3066,  0.0000],\n",
       "         [-5.5695,  4.2771,  4.5253]],\n",
       "\n",
       "        [[ 4.6204,  0.0000,  0.0000],\n",
       "         [-4.0632, 19.5074,  0.0000],\n",
       "         [-1.5735,  4.2585,  2.8933]]], grad_fn=<AddBackward0>)"
      ]
     },
     "execution_count": 35,
     "metadata": {},
     "output_type": "execute_result"
    }
   ],
   "source": [
    "covariance_matrix(corr, sigma)"
   ]
  },
  {
   "cell_type": "code",
   "execution_count": 36,
   "metadata": {},
   "outputs": [
    {
     "name": "stdout",
     "output_type": "stream",
     "text": [
      "tensor([[-0.4742, -0.7323,  0.2421],\n",
      "        [-0.6136, -0.6057,  0.0196],\n",
      "        [-0.6130, -0.4806, -0.1536],\n",
      "        [-0.5227, -0.8324,  0.7438],\n",
      "        [-0.4280, -0.4303,  0.5668]], grad_fn=<TanhBackward0>)\n"
     ]
    }
   ],
   "source": [
    "print(corr)"
   ]
  },
  {
   "cell_type": "code",
   "execution_count": 37,
   "metadata": {},
   "outputs": [
    {
     "data": {
      "text/plain": [
       "(torch.Size([5, 3]), torch.Size([5, 3, 2]), torch.Size([5, 3]))"
      ]
     },
     "execution_count": 37,
     "metadata": {},
     "output_type": "execute_result"
    }
   ],
   "source": [
    "idx = torch.tril_indices(corr.size(1), corr.size(1), offset=-1)\n",
    "test = sigma[:, idx.T]\n",
    "\n",
    "cov = test.prod(dim=-1) * corr\n",
    "\n",
    "corr.shape, test.shape, cov.shape"
   ]
  },
  {
   "cell_type": "code",
   "execution_count": 38,
   "metadata": {},
   "outputs": [
    {
     "data": {
      "text/plain": [
       "(tensor([[[2.5568, 2.2982],\n",
       "          [1.8826, 2.2982],\n",
       "          [1.8826, 2.5568]],\n",
       " \n",
       "         [[2.8106, 2.0268],\n",
       "          [1.5734, 2.0268],\n",
       "          [1.5734, 2.8106]],\n",
       " \n",
       "         [[2.6878, 2.0550],\n",
       "          [1.4660, 2.0550],\n",
       "          [1.4660, 2.6878]],\n",
       " \n",
       "         [[2.7031, 3.1454],\n",
       "          [2.1273, 3.1454],\n",
       "          [2.1273, 2.7031]],\n",
       " \n",
       "         [[4.4167, 2.1495],\n",
       "          [1.7010, 2.1495],\n",
       "          [1.7010, 4.4167]]], grad_fn=<IndexBackward0>),\n",
       " tensor([[5.8760, 4.3266, 4.8134],\n",
       "         [5.6965, 3.1890, 4.4221],\n",
       "         [5.5235, 3.0127, 3.9403],\n",
       "         [8.5022, 6.6911, 5.7501],\n",
       "         [9.4938, 3.6562, 7.5127]], grad_fn=<ProdBackward1>))"
      ]
     },
     "execution_count": 38,
     "metadata": {},
     "output_type": "execute_result"
    }
   ],
   "source": [
    "test, test.prod(dim=-1)"
   ]
  },
  {
   "cell_type": "code",
   "execution_count": 39,
   "metadata": {},
   "outputs": [
    {
     "data": {
      "text/plain": [
       "(4.33321288, 2.76767296, 3.86114248)"
      ]
     },
     "execution_count": 39,
     "metadata": {},
     "output_type": "execute_result"
    }
   ],
   "source": [
    "2.4587 * 1.7624, 1.5704 * 1.7624, 1.5704 * 2.4587"
   ]
  },
  {
   "cell_type": "code",
   "execution_count": 40,
   "metadata": {},
   "outputs": [
    {
     "data": {
      "text/plain": [
       "tensor([[[2.5568, 2.2982],\n",
       "         [1.8826, 2.2982],\n",
       "         [1.8826, 2.5568]],\n",
       "\n",
       "        [[2.8106, 2.0268],\n",
       "         [1.5734, 2.0268],\n",
       "         [1.5734, 2.8106]],\n",
       "\n",
       "        [[2.6878, 2.0550],\n",
       "         [1.4660, 2.0550],\n",
       "         [1.4660, 2.6878]],\n",
       "\n",
       "        [[2.7031, 3.1454],\n",
       "         [2.1273, 3.1454],\n",
       "         [2.1273, 2.7031]],\n",
       "\n",
       "        [[4.4167, 2.1495],\n",
       "         [1.7010, 2.1495],\n",
       "         [1.7010, 4.4167]]], grad_fn=<IndexBackward0>)"
      ]
     },
     "execution_count": 40,
     "metadata": {},
     "output_type": "execute_result"
    }
   ],
   "source": [
    "# idx = torch.triu_indices(3, 3, offset=1)\n",
    "idx = torch.tril_indices(3, 3, offset=-1)\n",
    "test = sigma[:, idx.T]\n",
    "test"
   ]
  },
  {
   "cell_type": "code",
   "execution_count": 41,
   "metadata": {},
   "outputs": [
    {
     "data": {
      "text/plain": [
       "tensor([[2.2982, 2.5568],\n",
       "        [2.2982, 1.8826],\n",
       "        [2.5568, 1.8826]], grad_fn=<IndexBackward0>)"
      ]
     },
     "execution_count": 41,
     "metadata": {},
     "output_type": "execute_result"
    }
   ],
   "source": [
    "sigma[0, [[0,1], [0,2], [1,2]]]"
   ]
  },
  {
   "cell_type": "code",
   "execution_count": 248,
   "metadata": {},
   "outputs": [
    {
     "data": {
      "text/plain": [
       "tensor([[[  1.0000,   0.0000,   0.0000,   0.0000,   0.0000],\n",
       "         [ -2.0000,   2.0000,   0.0000,   0.0000,   0.0000],\n",
       "         [ -2.7931,  -5.1724,   3.0000,   0.0000,   0.0000],\n",
       "         [ -3.1724,  -5.7931,  -7.8621,   4.0000,   0.0000],\n",
       "         [ -2.9310,  -5.1724,  -6.7241,  -7.5862,   5.0000]],\n",
       "\n",
       "        [[  6.0000,   0.0000,   0.0000,   0.0000,   0.0000],\n",
       "         [-13.0345,   7.0000,   0.0000,   0.0000,   0.0000],\n",
       "         [-11.5862,  -9.6552,   8.0000,   0.0000,   0.0000],\n",
       "         [ -5.5862,  -2.1724,   2.4828,   9.0000,   0.0000],\n",
       "         [  6.2069,  12.0690,  19.3103,  27.9310,  10.0000]],\n",
       "\n",
       "        [[ 11.0000,   0.0000,   0.0000,   0.0000,   0.0000],\n",
       "         [ 50.0690,  12.0000,   0.0000,   0.0000,   0.0000],\n",
       "         [ 64.1034,  80.6897,  13.0000,   0.0000,   0.0000],\n",
       "         [ 90.2759, 110.0690, 131.7931,  14.0000,   0.0000],\n",
       "         [130.8621, 155.1724, 181.5517, 210.0000,  15.0000]]])"
      ]
     },
     "execution_count": 248,
     "metadata": {},
     "output_type": "execute_result"
    }
   ],
   "source": [
    "def correlation_tests():\n",
    "    # sigma = torch.ones(1,5)*2\n",
    "    sigma = torch.arange(1, 6).reshape(1, 5)\n",
    "    corr = torch.tensor([[1, .5, .25, .2, .1, .09, .08, .05, .02, .01]])\n",
    "\n",
    "    idx = torch.tril_indices(5, 5, offset=-1)\n",
    "\n",
    "    print(tuple(idx))\n",
    "    corr_matrix = torch.zeros((1, 5, 5))\n",
    "    corr_matrix[:, *tuple(idx)] = corr\n",
    "    print(corr_matrix.shape, torch.diag_embed(sigma).shape)\n",
    "    print((corr_matrix + torch.eye(*corr_matrix.shape[1:])))\n",
    "\n",
    "\n",
    "    cov_matrix = torch.zeros((1, 5, 5))\n",
    "    # cov_10 = corr_matrix[:, 1, 0] * (sigma[0, 1] * sigma[0, 0])\n",
    "    # cov_20 = corr_matrix[:, 2, 0] * (sigma[0, 2] * sigma[0, 0])\n",
    "    # cov_21 = corr_matrix[:, 2, 1] * (sigma[0, 2] * sigma[0, 1])\n",
    "    # cov_30 = corr_matrix[:, 3, 0] * (sigma[0, 3] * sigma[0, 0])\n",
    "    # cov_31 = corr_matrix[:, 3, 1] * (sigma[0, 3] * sigma[0, 1])\n",
    "    # cov_32 = corr_matrix[:, 3, 2] * (sigma[0, 3] * sigma[0, 2])\n",
    "\n",
    "    for i in range(1, 5):\n",
    "        for j in range(i):\n",
    "            cov_matrix[:, i, j] = corr_matrix[:, i, j] * (sigma[0, i] * sigma[0, j])\n",
    "\n",
    "    cov_matrix = cov_matrix + torch.diag_embed(sigma**2)\n",
    "    print(cov_matrix)\n",
    "    \n",
    "    return sigma, corr, cov_matrix\n",
    "\n",
    "def correlation_tests(n_samples=1, n_variables=3):\n",
    "    '''\n",
    "        Inneficent way to generate the correlation matrix. This function\n",
    "        is only for testing purposes.\n",
    "    '''\n",
    "    sigma = torch.arange(1, (n_samples*n_variables)+1).reshape(n_samples, n_variables)\n",
    "    \n",
    "    n_corr = math.comb(n_variables, 2)\n",
    "    corr = torch.linspace(-1, 1, steps=n_samples*n_corr).reshape(n_samples, n_corr)\n",
    "    idx = torch.tril_indices(n_variables, n_variables, offset=-1)\n",
    "    corr_matrix = torch.zeros((n_samples, n_variables, n_variables))\n",
    "    for n in range(n_samples):\n",
    "        corr_matrix[n, *tuple(idx)] = corr[n]\n",
    "\n",
    "    cov_matrix = torch.zeros((n_samples, n_variables, n_variables))\n",
    "\n",
    "    for n in range(n_samples):\n",
    "        for i in range(1, n_variables):\n",
    "            for j in range(i):\n",
    "                corr_matrix[n, i, j]\n",
    "                cov_matrix[n, i, j] = corr_matrix[n, i, j] * (sigma[n, i] * sigma[n, j])\n",
    "\n",
    "    cov_matrix = cov_matrix + torch.diag_embed(sigma)\n",
    "        \n",
    "    return sigma, corr, cov_matrix\n",
    "\n",
    "sigma, corr, cov_matrix = correlation_tests(n_samples=3, n_variables=5)\n",
    "\n",
    "\n",
    "cov_matrix"
   ]
  },
  {
   "cell_type": "code",
   "execution_count": 262,
   "metadata": {},
   "outputs": [
    {
     "data": {
      "text/plain": [
       "tensor([[[ 1.0000e+00, -2.0000e+00, -2.7931e+00, -3.1724e+00, -2.9310e+00],\n",
       "         [-2.0000e+00,  8.0000e+00, -4.7586e+00, -5.2414e+00, -4.4828e+00],\n",
       "         [-2.7931e+00, -4.7586e+00,  4.3555e+01,  1.5239e+01,  1.4768e+01],\n",
       "         [-3.1724e+00, -5.2414e+00,  1.5239e+01,  1.2144e+02,  6.1784e+01],\n",
       "         [-2.9310e+00, -4.4828e+00,  1.4768e+01,  6.1784e+01,  1.6311e+02]],\n",
       "\n",
       "        [[ 3.6000e+01, -7.8207e+01, -6.9517e+01, -3.3517e+01,  3.7241e+01],\n",
       "         [-7.8207e+01,  2.1890e+02,  8.3434e+01,  5.7606e+01,  3.5791e+00],\n",
       "         [-6.9517e+01,  8.3434e+01,  2.9146e+02,  1.0556e+02, -3.3960e+01],\n",
       "         [-3.3517e+01,  5.7606e+01,  1.0556e+02,  1.2309e+02,  2.3843e+02],\n",
       "         [ 3.7241e+01,  3.5791e+00, -3.3960e+01,  2.3843e+02,  1.4372e+03]],\n",
       "\n",
       "        [[ 1.2100e+02,  5.5076e+02,  7.0514e+02,  9.9303e+02,  1.4395e+03],\n",
       "         [ 5.5076e+02,  2.6509e+03,  4.1779e+03,  5.8408e+03,  8.4142e+03],\n",
       "         [ 7.0514e+02,  4.1779e+03,  1.0789e+04,  1.6382e+04,  2.3270e+04],\n",
       "         [ 9.9303e+02,  5.8408e+03,  1.6382e+04,  3.7830e+04,  5.5761e+04],\n",
       "         [ 1.4395e+03,  8.4142e+03,  2.3270e+04,  5.5761e+04,  1.1849e+05]]])"
      ]
     },
     "execution_count": 262,
     "metadata": {},
     "output_type": "execute_result"
    }
   ],
   "source": [
    "torch.bmm(cov_matrix, cov_matrix.transpose(1, 2))"
   ]
  },
  {
   "cell_type": "code",
   "execution_count": 261,
   "metadata": {},
   "outputs": [
    {
     "data": {
      "text/plain": [
       "tensor([[ 1.0000, -2.0000, -2.7931, -3.1724, -2.9310],\n",
       "        [ 0.0000,  2.0000, -5.1724, -5.7931, -5.1724],\n",
       "        [ 0.0000,  0.0000,  3.0000, -7.8621, -6.7241],\n",
       "        [ 0.0000,  0.0000,  0.0000,  4.0000, -7.5862],\n",
       "        [ 0.0000,  0.0000,  0.0000,  0.0000,  5.0000]])"
      ]
     },
     "execution_count": 261,
     "metadata": {},
     "output_type": "execute_result"
    }
   ],
   "source": [
    "cov_matrix.transpose(1, 2)[0]"
   ]
  },
  {
   "cell_type": "code",
   "execution_count": 260,
   "metadata": {},
   "outputs": [
    {
     "data": {
      "text/plain": [
       "tensor([[ 1.0000,  0.0000,  0.0000,  0.0000,  0.0000],\n",
       "        [-2.0000,  2.0000,  0.0000,  0.0000,  0.0000],\n",
       "        [-2.7931, -5.1724,  3.0000,  0.0000,  0.0000],\n",
       "        [-3.1724, -5.7931, -7.8621,  4.0000,  0.0000],\n",
       "        [-2.9310, -5.1724, -6.7241, -7.5862,  5.0000]])"
      ]
     },
     "execution_count": 260,
     "metadata": {},
     "output_type": "execute_result"
    }
   ],
   "source": [
    "cov_matrix[0]"
   ]
  },
  {
   "cell_type": "code",
   "execution_count": 44,
   "metadata": {},
   "outputs": [
    {
     "data": {
      "text/plain": [
       "(tensor([[-1.0000, -0.9310, -0.8621, -0.7931, -0.7241, -0.6552, -0.5862, -0.5172,\n",
       "          -0.4483, -0.3793],\n",
       "         [-0.3103, -0.2414, -0.1724, -0.1034, -0.0345,  0.0345,  0.1034,  0.1724,\n",
       "           0.2414,  0.3103],\n",
       "         [ 0.3793,  0.4483,  0.5172,  0.5862,  0.6552,  0.7241,  0.7931,  0.8621,\n",
       "           0.9310,  1.0000]]),\n",
       " tensor([[ 1,  2,  3,  4,  5],\n",
       "         [ 6,  7,  8,  9, 10],\n",
       "         [11, 12, 13, 14, 15]]))"
      ]
     },
     "execution_count": 44,
     "metadata": {},
     "output_type": "execute_result"
    }
   ],
   "source": [
    "corr, sigma"
   ]
  },
  {
   "cell_type": "code",
   "execution_count": 45,
   "metadata": {},
   "outputs": [],
   "source": [
    "def covariance_matrix(corr, sigma):\n",
    "    n_variables = sigma.size(1)\n",
    "    idx = torch.tril_indices(n_variables, n_variables, offset=-1)\n",
    "    cov_matrix = torch.zeros((corr.size(0), n_variables, n_variables))\n",
    "    test = sigma[:, idx.T]\n",
    "\n",
    "    cov_matrix[:, *tuple(idx)] = corr * test.prod(dim=2)\n",
    "    cov_matrix = cov_matrix + torch.diag_embed(sigma**2)\n",
    "    return cov_matrix"
   ]
  },
  {
   "cell_type": "code",
   "execution_count": 46,
   "metadata": {},
   "outputs": [
    {
     "data": {
      "text/plain": [
       "tensor(True)"
      ]
     },
     "execution_count": 46,
     "metadata": {},
     "output_type": "execute_result"
    }
   ],
   "source": [
    "cov_matrix_opt = covariance_matrix(corr, sigma)\n",
    "\n",
    "torch.all(cov_matrix == cov_matrix_opt)"
   ]
  },
  {
   "cell_type": "code",
   "execution_count": 49,
   "metadata": {},
   "outputs": [
    {
     "data": {
      "text/plain": [
       "tensor([[-1.0000, -0.9310, -0.8621, -0.7931, -0.7241, -0.6552, -0.5862, -0.5172,\n",
       "         -0.4483, -0.3793],\n",
       "        [-0.3103, -0.2414, -0.1724, -0.1034, -0.0345,  0.0345,  0.1034,  0.1724,\n",
       "          0.2414,  0.3103],\n",
       "        [ 0.3793,  0.4483,  0.5172,  0.5862,  0.6552,  0.7241,  0.7931,  0.8621,\n",
       "          0.9310,  1.0000]])"
      ]
     },
     "execution_count": 49,
     "metadata": {},
     "output_type": "execute_result"
    }
   ],
   "source": [
    "corr"
   ]
  },
  {
   "cell_type": "code",
   "execution_count": 48,
   "metadata": {},
   "outputs": [
    {
     "data": {
      "text/plain": [
       "tensor([[[  1.0000,   0.0000,   0.0000,   0.0000,   0.0000],\n",
       "         [ -2.0000,   4.0000,   0.0000,   0.0000,   0.0000],\n",
       "         [ -2.7931,  -5.1724,   9.0000,   0.0000,   0.0000],\n",
       "         [ -3.1724,  -5.7931,  -7.8621,  16.0000,   0.0000],\n",
       "         [ -2.9310,  -5.1724,  -6.7241,  -7.5862,  25.0000]],\n",
       "\n",
       "        [[ 36.0000,   0.0000,   0.0000,   0.0000,   0.0000],\n",
       "         [-13.0345,  49.0000,   0.0000,   0.0000,   0.0000],\n",
       "         [-11.5862,  -9.6552,  64.0000,   0.0000,   0.0000],\n",
       "         [ -5.5862,  -2.1724,   2.4828,  81.0000,   0.0000],\n",
       "         [  6.2069,  12.0690,  19.3103,  27.9310, 100.0000]],\n",
       "\n",
       "        [[121.0000,   0.0000,   0.0000,   0.0000,   0.0000],\n",
       "         [ 50.0690, 144.0000,   0.0000,   0.0000,   0.0000],\n",
       "         [ 64.1034,  80.6897, 169.0000,   0.0000,   0.0000],\n",
       "         [ 90.2759, 110.0690, 131.7931, 196.0000,   0.0000],\n",
       "         [130.8621, 155.1724, 181.5517, 210.0000, 225.0000]]])"
      ]
     },
     "execution_count": 48,
     "metadata": {},
     "output_type": "execute_result"
    }
   ],
   "source": [
    "cov_matrix"
   ]
  },
  {
   "cell_type": "code",
   "execution_count": 51,
   "metadata": {},
   "outputs": [
    {
     "data": {
      "text/plain": [
       "110.0736"
      ]
     },
     "execution_count": 51,
     "metadata": {},
     "output_type": "execute_result"
    }
   ],
   "source": [
    "0.6552 * math.sqrt(144*196)"
   ]
  },
  {
   "cell_type": "markdown",
   "metadata": {},
   "source": [
    "### ---"
   ]
  },
  {
   "cell_type": "code",
   "execution_count": 331,
   "metadata": {},
   "outputs": [],
   "source": [
    "import math\n",
    "in_features, out_features = 10, 3\n",
    "corr_size = math.comb(out_features, 2)\n",
    "corr_weight = Parameter(torch.Tensor(corr_size, in_features))\n",
    "corr_bias = Parameter(torch.Tensor(corr_size))\n",
    "\n",
    "log_sigma_weight = Parameter(torch.Tensor(out_features, in_features))\n",
    "log_sigma_bias = Parameter(torch.Tensor(out_features))\n",
    "\n",
    "torch.nn.init.xavier_uniform_(log_sigma_weight)\n",
    "log_sigma_bias.data.fill_(2*np.log((2*1)))\n",
    "\n",
    "torch.nn.init.xavier_uniform_(corr_weight)\n",
    "corr_bias.data.fill_(0)\n",
    "\n",
    "x = torch.rand((5, 10))"
   ]
  },
  {
   "cell_type": "code",
   "execution_count": 464,
   "metadata": {},
   "outputs": [
    {
     "name": "stdout",
     "output_type": "stream",
     "text": [
      "tensor([[-0.2903,  0.1116,  0.5963],\n",
      "        [-0.5898,  0.2591,  0.7299],\n",
      "        [ 0.1199,  0.3307,  0.7757],\n",
      "        [-0.4145,  0.5578,  0.8469],\n",
      "        [-0.1558, -0.2250,  0.2757]], grad_fn=<TanhBackward0>)\n",
      "tensor([[3.3669, 4.7113, 1.2586],\n",
      "        [4.6382, 1.8477, 1.4570],\n",
      "        [3.2549, 3.9438, 0.9478],\n",
      "        [2.2858, 3.6933, 0.8907],\n",
      "        [2.9648, 4.2810, 1.7595]], grad_fn=<PowBackward0>)\n"
     ]
    }
   ],
   "source": [
    "corr = F.tanh(F.linear(x, corr_weight, corr_bias))\n",
    "sigma = torch.exp(0.5 * F.linear(x, log_sigma_weight, log_sigma_bias))\n",
    "\n",
    "print(corr)\n",
    "print(sigma**2)"
   ]
  },
  {
   "cell_type": "code",
   "execution_count": 471,
   "metadata": {},
   "outputs": [
    {
     "data": {
      "text/plain": [
       "tensor([[[ 3.3669, -1.1562,  0.2297],\n",
       "         [-1.1562,  4.7113,  1.4521],\n",
       "         [ 0.2297,  1.4521,  1.2586]],\n",
       "\n",
       "        [[ 4.6382, -1.7267,  0.6736],\n",
       "         [-1.7267,  1.8477,  1.1976],\n",
       "         [ 0.6736,  1.1976,  1.4570]],\n",
       "\n",
       "        [[ 3.2549,  0.4294,  0.5809],\n",
       "         [ 0.4294,  3.9438,  1.4997],\n",
       "         [ 0.5809,  1.4997,  0.9478]],\n",
       "\n",
       "        [[ 2.2858, -1.2042,  0.7960],\n",
       "         [-1.2042,  3.6933,  1.5362],\n",
       "         [ 0.7960,  1.5362,  0.8907]],\n",
       "\n",
       "        [[ 2.9648, -0.5551, -0.5139],\n",
       "         [-0.5551,  4.2810,  0.7568],\n",
       "         [-0.5139,  0.7568,  1.7595]]], grad_fn=<AddBackward0>)"
      ]
     },
     "execution_count": 471,
     "metadata": {},
     "output_type": "execute_result"
    }
   ],
   "source": [
    "def covariance_matrix(corr, sigma):\n",
    "    n_variables = sigma.size(1)\n",
    "    idx = torch.tril_indices(n_variables, n_variables, offset=-1)\n",
    "    cov_matrix = torch.zeros((corr.size(0), n_variables, n_variables))\n",
    "    test = sigma[:, idx.T]\n",
    "\n",
    "    cov_matrix[:, *tuple(idx)] = corr * test.prod(dim=2)\n",
    "    cov_matrix = cov_matrix + cov_matrix.transpose(-1, -2) + torch.diag_embed(sigma**2)\n",
    "    # cov_matrix = cov_matrix + torch.diag_embed(sigma)\n",
    "    return cov_matrix\n",
    "\n",
    "cov_matrix = covariance_matrix(corr, sigma)\n",
    "cov_matrix"
   ]
  },
  {
   "cell_type": "code",
   "execution_count": null,
   "metadata": {},
   "outputs": [
    {
     "data": {
      "text/plain": [
       "20"
      ]
     },
     "execution_count": 457,
     "metadata": {},
     "output_type": "execute_result"
    }
   ],
   "source": [
    "tensor([[[ 1.8349,  0.0000,  0.0000],\n",
    "         [-1.1562,  2.1706,  0.0000],\n",
    "         [ 0.2297,  1.4521,  1.1219]],\n",
    "\n",
    "        [[ 2.1536,  0.0000,  0.0000],\n",
    "         [-1.7267,  1.3593,  0.0000],\n",
    "         [ 0.6736,  1.1976,  1.2071]],\n",
    "\n",
    "        [[ 1.8041,  0.0000,  0.0000],\n",
    "         [ 0.4294,  1.9859,  0.0000],\n",
    "         [ 0.5809,  1.4997,  0.9736]],\n",
    "\n",
    "        [[ 1.5119,  0.0000,  0.0000],\n",
    "         [-1.2042,  1.9218,  0.0000],\n",
    "         [ 0.7960,  1.5362,  0.9438]],\n",
    "\n",
    "        [[ 1.7218,  0.0000,  0.0000],\n",
    "         [-0.5551,  2.0691,  0.0000],\n",
    "         [-0.5139,  0.7568,  1.3265]]]"
   ]
  },
  {
   "cell_type": "markdown",
   "metadata": {},
   "source": [
    "### Test nuevo"
   ]
  },
  {
   "cell_type": "code",
   "execution_count": 390,
   "metadata": {},
   "outputs": [
    {
     "name": "stdout",
     "output_type": "stream",
     "text": [
      "tensor([[  1,  -4,   5,   7],\n",
      "        [ -4,  20,  -8, -12],\n",
      "        [  5,  -8,  70, 110],\n",
      "        [  7, -12, 110, 210]])\n",
      "tensor([ 1.0000,  4.4721,  8.3666, 14.4914])\n"
     ]
    }
   ],
   "source": [
    "A = torch.tensor([[1,0,0,0],[-4,2,0,0], [5,6,3,0], [7,8,9,4]])\n",
    "Cov = A @ A.T\n",
    "sigma = torch.diag(Cov).sqrt()\n",
    "print(Cov)\n",
    "print(sigma)\n"
   ]
  },
  {
   "cell_type": "code",
   "execution_count": 391,
   "metadata": {},
   "outputs": [
    {
     "data": {
      "text/plain": [
       "(4.47213595499958, 8.366600265340756)"
      ]
     },
     "execution_count": 391,
     "metadata": {},
     "output_type": "execute_result"
    }
   ],
   "source": [
    "math.sqrt(20), math.sqrt(70)"
   ]
  },
  {
   "cell_type": "code",
   "execution_count": 401,
   "metadata": {},
   "outputs": [
    {
     "data": {
      "text/plain": [
       "6.082762530298219"
      ]
     },
     "execution_count": 401,
     "metadata": {},
     "output_type": "execute_result"
    }
   ],
   "source": [
    "math.sqrt(7**2 - 12)"
   ]
  },
  {
   "cell_type": "code",
   "execution_count": 397,
   "metadata": {},
   "outputs": [
    {
     "name": "stdout",
     "output_type": "stream",
     "text": [
      "tensor([  1.0000,  20.0000,  70.0000, 210.0000])\n",
      "tensor([[ 0.,  0.,  0.,  0.],\n",
      "        [-4.,  0.,  0.,  0.],\n",
      "        [ 5.,  6.,  0.,  0.],\n",
      "        [ 7.,  8.,  9.,  0.]])\n"
     ]
    },
    {
     "data": {
      "text/plain": [
       "tensor([[ 1.0000,  0.0000,  0.0000,  0.0000],\n",
       "        [-4.0000,  2.0000,  0.0000,  0.0000],\n",
       "        [ 5.0000,  6.0000,  3.0000,  0.0000],\n",
       "        [ 7.0000,  8.0000,  9.0000,  4.0000]])"
      ]
     },
     "execution_count": 397,
     "metadata": {},
     "output_type": "execute_result"
    }
   ],
   "source": [
    "var = sigma**2\n",
    "print(var)\n",
    "idx = torch.tril_indices(4, 4, offset=-1)\n",
    "L = torch.zeros_like(A, dtype=torch.float)\n",
    "L[*tuple(idx)] = A[*tuple(idx)].float()\n",
    "\n",
    "print(L)\n",
    "\n",
    "diag_indices = torch.arange(4)\n",
    "L[diag_indices, diag_indices] = torch.sqrt((sigma**2 - (L**2).sum(dim=1))).float()\n",
    "L"
   ]
  },
  {
   "cell_type": "code",
   "execution_count": 418,
   "metadata": {},
   "outputs": [
    {
     "data": {
      "text/plain": [
       "(tensor([[  1.,   0.,   0.,   0.],\n",
       "         [ -4.,  20.,   0.,   0.],\n",
       "         [  5.,  -8.,  70.,   0.],\n",
       "         [  7., -12., 110., 210.]]),\n",
       " tensor([[ 1.0000,  0.0000,  0.0000,  0.0000],\n",
       "         [-4.0000,  2.0000,  0.0000,  0.0000],\n",
       "         [ 5.0000,  6.0000,  3.0000,  0.0000],\n",
       "         [ 7.0000,  8.0000,  9.0000,  4.0000]]))"
      ]
     },
     "execution_count": 418,
     "metadata": {},
     "output_type": "execute_result"
    }
   ],
   "source": [
    "# Covarianze trinagular lower matrix\n",
    "C_l = torch.zeros_like(Cov, dtype=torch.float)\n",
    "idx_ = torch.tril_indices(4, 4, offset=0)\n",
    "C_l[*tuple(idx_)] = Cov[*tuple(idx_)].float()\n",
    "\n",
    "# Cholesky decomposition\n",
    "L_l = L\n",
    "\n",
    "C_l, L_l"
   ]
  },
  {
   "cell_type": "code",
   "execution_count": 437,
   "metadata": {},
   "outputs": [
    {
     "name": "stdout",
     "output_type": "stream",
     "text": [
      "tensor([[  1.,   0.,   0.,   0.],\n",
      "        [ -4.,  20.,   0.,   0.],\n",
      "        [  5.,  -8.,  70.,   0.],\n",
      "        [  7., -12., 110., 210.]])\n",
      "Matriz triangular inferior L_l:\n",
      "tensor([[ 1.,  0.,  0.,  0.],\n",
      "        [-4.,  2.,  0.,  0.],\n",
      "        [ 5.,  6.,  3.,  0.],\n",
      "        [ 7.,  8.,  9.,  4.]])\n"
     ]
    }
   ],
   "source": [
    "import torch\n",
    "\n",
    "# Ejemplo de matriz de covarianza triangular inferior C_l\n",
    "# C_l = torch.tensor([[4.0, 0.0, 0.0, 0.0],\n",
    "#                     [2.0, 5.0, 0.0, 0.0],\n",
    "#                     [1.0, 3.0, 6.0, 0.0],\n",
    "#                     [0.5, 1.5, 2.5, 7.0]])\n",
    "\n",
    "# Inicializar L_l con ceros\n",
    "L_l = torch.zeros_like(C_l)\n",
    "print(C_l)\n",
    "# Calcular L_l manualmente\n",
    "for i in range(C_l.size(0)):\n",
    "    for j in range(i + 1):\n",
    "        # print(i,j)\n",
    "        if i == j:\n",
    "            L_l[i, j] = torch.sqrt(C_l[i, j] - torch.sum(L_l[i, :j] ** 2))\n",
    "        else:\n",
    "            L_l[i, j] = (C_l[i, j] - torch.sum(L_l[i, :j] * L_l[j, :j])) / L_l[j, j]\n",
    "\n",
    "# Mostrar L_l\n",
    "print(\"Matriz triangular inferior L_l:\")\n",
    "print(L_l)"
   ]
  },
  {
   "cell_type": "code",
   "execution_count": 436,
   "metadata": {},
   "outputs": [
    {
     "data": {
      "text/plain": [
       "21.666666666666668"
      ]
     },
     "execution_count": 436,
     "metadata": {},
     "output_type": "execute_result"
    }
   ],
   "source": [
    "(110 - (8*3 + 7*3)) / 3"
   ]
  },
  {
   "cell_type": "code",
   "execution_count": 449,
   "metadata": {},
   "outputs": [
    {
     "name": "stdout",
     "output_type": "stream",
     "text": [
      "tensor([7., 8.])\n",
      "tensor([5., 6.])\n",
      "tensor([35., 48.])\n",
      "tensor(27.)\n",
      "tensor(9.)\n"
     ]
    }
   ],
   "source": [
    "print(L_l[3,  :2])\n",
    "print(L_l[2, :2])\n",
    "print(L_l[3,  :2] * L_l[2, :2])\n",
    "print(110 - torch.sum(L_l[3,  :2] * L_l[2, :2]))\n",
    "print((110 - torch.sum(L_l[3,  :2] * L_l[2, :2]))/ L_l[2, 2])"
   ]
  },
  {
   "cell_type": "code",
   "execution_count": 450,
   "metadata": {},
   "outputs": [
    {
     "data": {
      "text/plain": [
       "6.0"
      ]
     },
     "execution_count": 450,
     "metadata": {},
     "output_type": "execute_result"
    }
   ],
   "source": [
    "(-8 - (5*-4)) / 2"
   ]
  },
  {
   "cell_type": "code",
   "execution_count": 373,
   "metadata": {},
   "outputs": [
    {
     "data": {
      "text/plain": [
       "tensor([0., 0., 0.])"
      ]
     },
     "execution_count": 373,
     "metadata": {},
     "output_type": "execute_result"
    }
   ],
   "source": [
    "L[diag_indices, diag_indices].float()"
   ]
  },
  {
   "cell_type": "code",
   "execution_count": 366,
   "metadata": {},
   "outputs": [
    {
     "data": {
      "text/plain": [
       "torch.Size([3])"
      ]
     },
     "execution_count": 366,
     "metadata": {},
     "output_type": "execute_result"
    }
   ],
   "source": [
    " torch.tensor([1,1,1]).shape"
   ]
  },
  {
   "cell_type": "code",
   "execution_count": 357,
   "metadata": {},
   "outputs": [
    {
     "data": {
      "text/plain": [
       "tensor([0, 0, 0])"
      ]
     },
     "execution_count": 357,
     "metadata": {},
     "output_type": "execute_result"
    }
   ],
   "source": [
    "L[diag_indices, diag_indices]"
   ]
  },
  {
   "cell_type": "code",
   "execution_count": 356,
   "metadata": {},
   "outputs": [
    {
     "data": {
      "text/plain": [
       "tensor([0, 1, 2])"
      ]
     },
     "execution_count": 356,
     "metadata": {},
     "output_type": "execute_result"
    }
   ],
   "source": [
    "diag_indices"
   ]
  },
  {
   "cell_type": "code",
   "execution_count": 355,
   "metadata": {},
   "outputs": [
    {
     "data": {
      "text/plain": [
       "tensor([1.0000, 4.0000, 9.0000])"
      ]
     },
     "execution_count": 355,
     "metadata": {},
     "output_type": "execute_result"
    }
   ],
   "source": [
    "sigma**2 - (L**2).sum(dim=1)"
   ]
  },
  {
   "cell_type": "code",
   "execution_count": null,
   "metadata": {},
   "outputs": [
    {
     "name": "stdout",
     "output_type": "stream",
     "text": [
      "tensor([[ 0,  0,  0],\n",
      "        [ 4,  0,  0],\n",
      "        [ 5, 32,  0]])\n"
     ]
    },
    {
     "data": {
      "text/plain": [
       "tensor([[   0,    0,    0],\n",
       "        [  16,    0,    0],\n",
       "        [  25, 1024,    0]])"
      ]
     },
     "execution_count": 341,
     "metadata": {},
     "output_type": "execute_result"
    }
   ],
   "source": [
    "idx = torch.tril_indices(3, 3, offset=-1)\n",
    "L = torch.zeros_like(Cov)\n",
    "L[*tuple(idx)] = Cov[*tuple(idx)]\n",
    "\n",
    "\n",
    "\n",
    "print(L)\n",
    "(L**2)"
   ]
  },
  {
   "cell_type": "code",
   "execution_count": 455,
   "metadata": {},
   "outputs": [
    {
     "data": {
      "text/plain": [
       "tensor(3.7835e-44)"
      ]
     },
     "execution_count": 455,
     "metadata": {},
     "output_type": "execute_result"
    }
   ],
   "source": [
    "torch.exp(torch.tensor(-100))\n",
    "\n",
    "\n"
   ]
  }
 ],
 "metadata": {
  "kernelspec": {
   "display_name": "ADeLEn",
   "language": "python",
   "name": "python3"
  },
  "language_info": {
   "codemirror_mode": {
    "name": "ipython",
    "version": 3
   },
   "file_extension": ".py",
   "mimetype": "text/x-python",
   "name": "python",
   "nbconvert_exporter": "python",
   "pygments_lexer": "ipython3",
   "version": "3.12.7"
  }
 },
 "nbformat": 4,
 "nbformat_minor": 2
}
